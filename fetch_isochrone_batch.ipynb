{
 "cells": [
  {
   "cell_type": "markdown",
   "metadata": {},
   "source": [
    "### MAPBOX API CALL FOR ISOCHRONES & SAVING TO FILES"
   ]
  },
  {
   "cell_type": "code",
   "execution_count": null,
   "metadata": {},
   "outputs": [],
   "source": [
    "import pandas as pd\n",
    "import plotly.graph_objects as go\n",
    "import numpy as np\n",
    "import os, time, requests, json\n",
    "import geopandas as gpd\n",
    "import pandas as pd\n",
    "import numpy as np\n",
    "import rasterio\n",
    "from rasterio.mask import mask\n",
    "from shapely.geometry import mapping\n",
    "from pathlib import Path\n",
    "import folium\n",
    "from IPython.display import display\n",
    "from plotly.subplots import make_subplots"
   ]
  },
  {
   "cell_type": "code",
   "execution_count": 5,
   "metadata": {},
   "outputs": [
    {
     "name": "stdout",
     "output_type": "stream",
     "text": [
      "⇢ Processing art_institute_of_chicago …\n",
      "⇢ Processing baltimore_museum_of_art …\n",
      "⇢ Processing museum_of_fine_arts_boston …\n",
      "⇢ Processing national_portrait_gallery …\n",
      "⇢ Processing museum_of_modern_art_nyc …\n",
      "\n",
      "✔ Done!  Population totals:\n",
      "                    origin  total_pop\n",
      "  art_institute_of_chicago    1205991\n",
      "   baltimore_museum_of_art    1225603\n",
      "museum_of_fine_arts_boston    1626418\n",
      " national_portrait_gallery    2068526\n",
      "  museum_of_modern_art_nyc    2603282\n",
      "\n",
      "CSV written to: /Users/riainfitzsimons/Desktop/brooklyn_museum_geo/notebooks/isochrone_population_summary.csv\n"
     ]
    }
   ],
   "source": [
    "# SETTINGS  \n",
    "MAPBOX_TOKEN   = \"token\"   \n",
    "RASTER_FP      = \"/Users/riainfitzsimons/Desktop/brooklyn_museum_geo/data/raw_data/LandScan/LandScanConusNight.tif\"\n",
    "PROFILE        = \"driving\"\n",
    "MINUTES        = 30\n",
    "OUT_DIR        = Path(\".\")                     # current directory\n",
    "DELAY_SEC      = 0.35                          # courtesy pause; 300 req/min limit\n",
    "\n",
    "\n",
    "\n",
    "# ORIGIN LIST  \n",
    "origins = [\n",
    "    {\"name\": \"art_institute_of_chicago\", \"lat\": 41.879603071247, \"lon\": -87.62265081095006},\n",
    "    {\"name\": \"baltimore_museum_of_art\",  \"lat\": 39.326092077899354, \"lon\": -76.61954755154906},\n",
    "    {\"name\": \"museum_of_fine_arts_boston\", \"lat\": 42.33932545826515, \"lon\": -71.09404800351642},\n",
    "    {\"name\": \"national_portrait_gallery\", \"lat\": 38.89773482278652, \"lon\": -77.02308337669994},\n",
    "    {\"name\": \"museum_of_modern_art_nyc\",  \"lat\": 40.761710723742574, \"lon\": -73.9778901686774},\n",
    "]\n",
    "\n",
    "\n",
    "\n",
    "def fetch_isochrone(lon, lat, profile=\"driving\", minutes=30, token=\"\"):\n",
    "    url = (\n",
    "        f\"https://api.mapbox.com/isochrone/v1/mapbox/{profile}/\"\n",
    "        f\"{lon},{lat}\"\n",
    "        f\"?contours_minutes={minutes}&polygons=true&access_token={token}\"\n",
    "    )\n",
    "    r = requests.get(url)\n",
    "    r.raise_for_status()\n",
    "    return r.json()\n",
    "\n",
    "def clip_raster_sum(raster_fp, poly_gdf):\n",
    "    with rasterio.open(raster_fp) as src:\n",
    "        poly_proj = poly_gdf.to_crs(src.crs)\n",
    "        geom = [mapping(poly_proj.iloc[0].geometry)]\n",
    "        out_img, _ = mask(src, geom, crop=True, filled=False)\n",
    "    band = out_img[0].astype(\"float32\")\n",
    "    band[out_img.mask[0]] = np.nan\n",
    "    return np.nansum(band)   # total population in polygon\n",
    "\n",
    "results = []\n",
    "\n",
    "for origin in origins:\n",
    "    name = origin[\"name\"]\n",
    "    lat, lon = origin[\"lat\"], origin[\"lon\"]\n",
    "    print(f\"⇢ Processing {name} …\")\n",
    "\n",
    "    # 1. Fetch isochrone \n",
    "    isojson = fetch_isochrone(lon, lat, PROFILE, MINUTES, MAPBOX_TOKEN)\n",
    "    gdf_iso = gpd.GeoDataFrame.from_features(isojson[\"features\"], crs=\"EPSG:4326\")\n",
    "\n",
    "    iso_fp = OUT_DIR / f\"{name}_30min_iso.geojson\"\n",
    "    gdf_iso.to_file(iso_fp, driver=\"GeoJSON\")\n",
    "\n",
    "    # 2. Clip raster & sum population \n",
    "    pop_total = clip_raster_sum(RASTER_FP, gdf_iso)\n",
    "\n",
    "    # 3. Save clipped raster for record\n",
    "    with rasterio.open(RASTER_FP) as src:\n",
    "        geom = [mapping(gdf_iso.to_crs(src.crs).iloc[0].geometry)]\n",
    "        out_img, out_transform = mask(src, geom, crop=True, filled=True, nodata=src.nodata)\n",
    "        out_meta = src.meta.copy()\n",
    "        out_meta.update({\"height\": out_img.shape[1], \"width\": out_img.shape[2], \"transform\": out_transform})\n",
    "    tif_fp = OUT_DIR / f\"{name}_30min_clipped.tif\"\n",
    "    with rasterio.open(tif_fp, \"w\", **out_meta) as dest:\n",
    "        dest.write(out_img)\n",
    "\n",
    "    # 4. Append\n",
    "    results.append({\"origin\": name, \"total_pop\": int(pop_total)})\n",
    "\n",
    "    time.sleep(DELAY_SEC)   # its good to be polite\n",
    "\n",
    "# Summary CSV \n",
    "df = pd.DataFrame(results)\n",
    "csv_fp = OUT_DIR / \"isochrone_population_summary.csv\"\n",
    "df.to_csv(csv_fp, index=False)\n",
    "\n",
    "print(\"\\n✔ Done!  Population totals:\")\n",
    "print(df.to_string(index=False))\n",
    "print(f\"\\nCSV written to: {csv_fp.resolve()}\")"
   ]
  },
  {
   "cell_type": "markdown",
   "metadata": {},
   "source": [
    "### VISUALIZING ISOCHRONES"
   ]
  },
  {
   "cell_type": "code",
   "execution_count": 6,
   "metadata": {},
   "outputs": [
    {
     "name": "stdout",
     "output_type": "stream",
     "text": [
      "🗺  Saved interactive map →  art_institute_of_chicago_30min_map.html\n",
      "🗺  Saved interactive map →  baltimore_museum_of_art_30min_map.html\n",
      "🗺  Saved interactive map →  museum_of_fine_arts_boston_30min_map.html\n",
      "🗺  Saved interactive map →  national_portrait_gallery_30min_map.html\n",
      "🗺  Saved interactive map →  museum_of_modern_art_nyc_30min_map.html\n",
      "\n",
      "Embed with e.g. :\n",
      "<iframe src=\"museum_of_modern_art_nyc_30min_map.html\" width=\"100%\" height=\"600\" frameborder=\"0\"></iframe>\n"
     ]
    }
   ],
   "source": [
    "\n",
    "for rec in results:\n",
    "    name   = rec[\"origin\"]\n",
    "    iso_fp = OUT_DIR / f\"{name}_30min_iso.geojson\"\n",
    "    html_fp = OUT_DIR / f\"{name}_30min_map.html\"\n",
    "\n",
    "    gdf_iso = gpd.read_file(iso_fp)\n",
    "    centroid = gdf_iso.geometry.iloc[0].centroid\n",
    "\n",
    "    # Base map\n",
    "    m = folium.Map(location=[centroid.y, centroid.x],\n",
    "                   zoom_start=11,\n",
    "                   tiles=\"cartodbpositron\")\n",
    "\n",
    "    # Isochrone polygon layer (yellow outline)\n",
    "    folium.GeoJson(\n",
    "        gdf_iso,\n",
    "        name=\"30‑min driving isochrone\",\n",
    "        style_function=lambda _:{\n",
    "            \"color\": \"yellow\",\n",
    "            \"weight\": 3,\n",
    "            \"fill\": False\n",
    "        }\n",
    "    ).add_to(m)\n",
    "\n",
    "    # Optional: pop‑up at centre with population total\n",
    "    folium.Marker(\n",
    "        location=[centroid.y, centroid.x],\n",
    "        icon=folium.Icon(color=\"blue\", icon=\"info-sign\"),\n",
    "        popup=f\"<b>Total night‑time population<br>within 30 min:</b><br>{rec['total_pop']:,}\"\n",
    "    ).add_to(m)\n",
    "\n",
    "    folium.LayerControl().add_to(m)\n",
    "    m.save(html_fp)\n",
    "    print(f\"🗺  Saved interactive map →  {html_fp}\")\n",
    "\n",
    "print(\"\\nEmbed with e.g. :\")\n",
    "print('<iframe src=\"museum_of_modern_art_nyc_30min_map.html\" width=\"100%\" height=\"600\" frameborder=\"0\"></iframe>')\n"
   ]
  },
  {
   "cell_type": "code",
   "execution_count": 7,
   "metadata": {},
   "outputs": [
    {
     "name": "stdout",
     "output_type": "stream",
     "text": [
      "▼ Art Institute Of Chicago\n"
     ]
    },
    {
     "data": {
      "text/html": [
       "<div style=\"width:100%;\"><div style=\"position:relative;width:100%;height:0;padding-bottom:60%;\"><span style=\"color:#565656\">Make this Notebook Trusted to load map: File -> Trust Notebook</span><iframe srcdoc=\"&lt;!DOCTYPE html&gt;\n",
       "&lt;html&gt;\n",
       "&lt;head&gt;\n",
       "    \n",
       "    &lt;meta http-equiv=&quot;content-type&quot; content=&quot;text/html; charset=UTF-8&quot; /&gt;\n",
       "    \n",
       "        &lt;script&gt;\n",
       "            L_NO_TOUCH = false;\n",
       "            L_DISABLE_3D = false;\n",
       "        &lt;/script&gt;\n",
       "    \n",
       "    &lt;style&gt;html, body {width: 100%;height: 100%;margin: 0;padding: 0;}&lt;/style&gt;\n",
       "    &lt;style&gt;#map {position:absolute;top:0;bottom:0;right:0;left:0;}&lt;/style&gt;\n",
       "    &lt;script src=&quot;https://cdn.jsdelivr.net/npm/leaflet@1.9.3/dist/leaflet.js&quot;&gt;&lt;/script&gt;\n",
       "    &lt;script src=&quot;https://code.jquery.com/jquery-3.7.1.min.js&quot;&gt;&lt;/script&gt;\n",
       "    &lt;script src=&quot;https://cdn.jsdelivr.net/npm/bootstrap@5.2.2/dist/js/bootstrap.bundle.min.js&quot;&gt;&lt;/script&gt;\n",
       "    &lt;script src=&quot;https://cdnjs.cloudflare.com/ajax/libs/Leaflet.awesome-markers/2.0.2/leaflet.awesome-markers.js&quot;&gt;&lt;/script&gt;\n",
       "    &lt;link rel=&quot;stylesheet&quot; href=&quot;https://cdn.jsdelivr.net/npm/leaflet@1.9.3/dist/leaflet.css&quot;/&gt;\n",
       "    &lt;link rel=&quot;stylesheet&quot; href=&quot;https://cdn.jsdelivr.net/npm/bootstrap@5.2.2/dist/css/bootstrap.min.css&quot;/&gt;\n",
       "    &lt;link rel=&quot;stylesheet&quot; href=&quot;https://netdna.bootstrapcdn.com/bootstrap/3.0.0/css/bootstrap-glyphicons.css&quot;/&gt;\n",
       "    &lt;link rel=&quot;stylesheet&quot; href=&quot;https://cdn.jsdelivr.net/npm/@fortawesome/fontawesome-free@6.2.0/css/all.min.css&quot;/&gt;\n",
       "    &lt;link rel=&quot;stylesheet&quot; href=&quot;https://cdnjs.cloudflare.com/ajax/libs/Leaflet.awesome-markers/2.0.2/leaflet.awesome-markers.css&quot;/&gt;\n",
       "    &lt;link rel=&quot;stylesheet&quot; href=&quot;https://cdn.jsdelivr.net/gh/python-visualization/folium/folium/templates/leaflet.awesome.rotate.min.css&quot;/&gt;\n",
       "    \n",
       "            &lt;meta name=&quot;viewport&quot; content=&quot;width=device-width,\n",
       "                initial-scale=1.0, maximum-scale=1.0, user-scalable=no&quot; /&gt;\n",
       "            &lt;style&gt;\n",
       "                #map_9a305dce251e14a036202de16fdff446 {\n",
       "                    position: relative;\n",
       "                    width: 100.0%;\n",
       "                    height: 100.0%;\n",
       "                    left: 0.0%;\n",
       "                    top: 0.0%;\n",
       "                }\n",
       "                .leaflet-container { font-size: 1rem; }\n",
       "            &lt;/style&gt;\n",
       "        \n",
       "&lt;/head&gt;\n",
       "&lt;body&gt;\n",
       "    \n",
       "    \n",
       "            &lt;div class=&quot;folium-map&quot; id=&quot;map_9a305dce251e14a036202de16fdff446&quot; &gt;&lt;/div&gt;\n",
       "        \n",
       "&lt;/body&gt;\n",
       "&lt;script&gt;\n",
       "    \n",
       "    \n",
       "            var map_9a305dce251e14a036202de16fdff446 = L.map(\n",
       "                &quot;map_9a305dce251e14a036202de16fdff446&quot;,\n",
       "                {\n",
       "                    center: [41.84536742779374, -87.65452309264975],\n",
       "                    crs: L.CRS.EPSG3857,\n",
       "                    ...{\n",
       "  &quot;zoom&quot;: 11,\n",
       "  &quot;zoomControl&quot;: true,\n",
       "  &quot;preferCanvas&quot;: false,\n",
       "}\n",
       "\n",
       "                }\n",
       "            );\n",
       "\n",
       "            \n",
       "\n",
       "        \n",
       "    \n",
       "            var tile_layer_782bdec04295bc20b375019742ffc38b = L.tileLayer(\n",
       "                &quot;https://{s}.basemaps.cartocdn.com/light_all/{z}/{x}/{y}{r}.png&quot;,\n",
       "                {\n",
       "  &quot;minZoom&quot;: 0,\n",
       "  &quot;maxZoom&quot;: 20,\n",
       "  &quot;maxNativeZoom&quot;: 20,\n",
       "  &quot;noWrap&quot;: false,\n",
       "  &quot;attribution&quot;: &quot;\\u0026copy; \\u003ca href=\\&quot;https://www.openstreetmap.org/copyright\\&quot;\\u003eOpenStreetMap\\u003c/a\\u003e contributors \\u0026copy; \\u003ca href=\\&quot;https://carto.com/attributions\\&quot;\\u003eCARTO\\u003c/a\\u003e&quot;,\n",
       "  &quot;subdomains&quot;: &quot;abcd&quot;,\n",
       "  &quot;detectRetina&quot;: false,\n",
       "  &quot;tms&quot;: false,\n",
       "  &quot;opacity&quot;: 1,\n",
       "}\n",
       "\n",
       "            );\n",
       "        \n",
       "    \n",
       "            tile_layer_782bdec04295bc20b375019742ffc38b.addTo(map_9a305dce251e14a036202de16fdff446);\n",
       "        \n",
       "    \n",
       "        function geo_json_4bd27ee7301ce8e9becad49d2c10ce43_styler(feature) {\n",
       "            switch(feature.id) {\n",
       "                default:\n",
       "                    return {&quot;color&quot;: &quot;yellow&quot;, &quot;fill&quot;: false, &quot;weight&quot;: 3};\n",
       "            }\n",
       "        }\n",
       "\n",
       "        function geo_json_4bd27ee7301ce8e9becad49d2c10ce43_onEachFeature(feature, layer) {\n",
       "            layer.on({\n",
       "            });\n",
       "        };\n",
       "        var geo_json_4bd27ee7301ce8e9becad49d2c10ce43 = L.geoJson(null, {\n",
       "                onEachFeature: geo_json_4bd27ee7301ce8e9becad49d2c10ce43_onEachFeature,\n",
       "            \n",
       "                style: geo_json_4bd27ee7301ce8e9becad49d2c10ce43_styler,\n",
       "            ...{\n",
       "}\n",
       "        });\n",
       "\n",
       "        function geo_json_4bd27ee7301ce8e9becad49d2c10ce43_add (data) {\n",
       "            geo_json_4bd27ee7301ce8e9becad49d2c10ce43\n",
       "                .addData(data);\n",
       "        }\n",
       "            geo_json_4bd27ee7301ce8e9becad49d2c10ce43_add({&quot;bbox&quot;: [-87.791374, 41.703525, -87.524639, 42.006582], &quot;features&quot;: [{&quot;bbox&quot;: [-87.791374, 41.703525, -87.524639, 42.006582], &quot;geometry&quot;: {&quot;coordinates&quot;: [[[-87.660651, 42.006582], [-87.663403, 42.002355], [-87.667142, 41.999603], [-87.668651, 41.999025], [-87.670651, 42.0016], [-87.672454, 42.001406], [-87.672853, 41.999603], [-87.676951, 41.997903], [-87.678737, 41.993689], [-87.683549, 41.991603], [-87.677537, 41.990717], [-87.675891, 41.989603], [-87.677611, 41.987603], [-87.677397, 41.985603], [-87.678998, 41.983256], [-87.675522, 41.979603], [-87.675683, 41.977603], [-87.678777, 41.975603], [-87.675942, 41.974312], [-87.675108, 41.971603], [-87.678131, 41.969603], [-87.672678, 41.965603], [-87.675815, 41.961603], [-87.672608, 41.95956], [-87.676641, 41.953603], [-87.674651, 41.95181], [-87.672651, 41.95165], [-87.670153, 41.950101], [-87.668651, 41.948348], [-87.666468, 41.949786], [-87.663982, 41.946271], [-87.661804, 41.945603], [-87.66754, 41.941603], [-87.668047, 41.939603], [-87.66541, 41.935603], [-87.666736, 41.931603], [-87.664757, 41.929603], [-87.665469, 41.925603], [-87.663378, 41.923603], [-87.664427, 41.919379], [-87.672651, 41.92236], [-87.673773, 41.923603], [-87.672134, 41.925603], [-87.677345, 41.926909], [-87.678651, 41.927944], [-87.680362, 41.927314], [-87.683524, 41.927603], [-87.688862, 41.931392], [-87.690656, 41.931598], [-87.691002, 41.933251], [-87.694884, 41.93337], [-87.695546, 41.934708], [-87.701086, 41.937167], [-87.702651, 41.939184], [-87.704835, 41.939419], [-87.70554, 41.940714], [-87.708651, 41.94121], [-87.710651, 41.942875], [-87.714869, 41.943385], [-87.715899, 41.946355], [-87.718027, 41.948227], [-87.725067, 41.951187], [-87.728028, 41.954226], [-87.731494, 41.95476], [-87.732141, 41.956113], [-87.735245, 41.957009], [-87.736001, 41.958253], [-87.739308, 41.958946], [-87.7455, 41.964753], [-87.74585, 41.966803], [-87.744651, 41.973066], [-87.738651, 41.974283], [-87.737812, 41.975603], [-87.745398, 41.976856], [-87.745619, 41.981603], [-87.747772, 41.982482], [-87.74988, 41.985603], [-87.749584, 41.988536], [-87.748314, 41.989603], [-87.750257, 41.991603], [-87.750651, 41.994957], [-87.751832, 41.989603], [-87.751203, 41.983603], [-87.748053, 41.979603], [-87.748651, 41.976605], [-87.750018, 41.975603], [-87.748651, 41.974638], [-87.747873, 41.972381], [-87.74714, 41.963114], [-87.741163, 41.957091], [-87.738651, 41.956711], [-87.736651, 41.954843], [-87.734651, 41.95484], [-87.732651, 41.952859], [-87.72983, 41.952424], [-87.726651, 41.948652], [-87.724651, 41.948704], [-87.723226, 41.947028], [-87.719897, 41.946357], [-87.717895, 41.944359], [-87.716651, 41.94047], [-87.712651, 41.940249], [-87.711531, 41.938723], [-87.708357, 41.937897], [-87.70763, 41.936624], [-87.704265, 41.935989], [-87.70176, 41.932494], [-87.698651, 41.93184], [-87.696651, 41.929937], [-87.694528, 41.929726], [-87.693955, 41.928299], [-87.692432, 41.927822], [-87.692205, 41.926049], [-87.688792, 41.925603], [-87.688499, 41.923755], [-87.682764, 41.921603], [-87.674901, 41.913603], [-87.676681, 41.911603], [-87.678651, 41.905948], [-87.682651, 41.903136], [-87.685627, 41.904627], [-87.686651, 41.906562], [-87.689493, 41.904445], [-87.690604, 41.901556], [-87.692651, 41.901222], [-87.694651, 41.899378], [-87.696651, 41.9004], [-87.698651, 41.899764], [-87.700651, 41.900374], [-87.702651, 41.90284], [-87.704651, 41.900159], [-87.708651, 41.900662], [-87.710651, 41.902448], [-87.712651, 41.902985], [-87.716651, 41.902256], [-87.718651, 41.898383], [-87.720651, 41.900992], [-87.724651, 41.899329], [-87.726651, 41.900245], [-87.733439, 41.895603], [-87.730651, 41.894687], [-87.729946, 41.893603], [-87.732427, 41.889603], [-87.734399, 41.891603], [-87.739425, 41.894377], [-87.740548, 41.893603], [-87.73956, 41.891603], [-87.740136, 41.889088], [-87.742651, 41.88833], [-87.744651, 41.89048], [-87.746651, 41.890406], [-87.750304, 41.887603], [-87.747606, 41.885603], [-87.750651, 41.883003], [-87.752651, 41.882719], [-87.754651, 41.884373], [-87.759774, 41.880727], [-87.763448, 41.880401], [-87.766651, 41.878713], [-87.772651, 41.878097], [-87.774651, 41.878978], [-87.777304, 41.877603], [-87.778616, 41.875603], [-87.784021, 41.872973], [-87.791374, 41.871603], [-87.784651, 41.870347], [-87.782651, 41.868323], [-87.780651, 41.868069], [-87.778651, 41.86598], [-87.776651, 41.865613], [-87.774651, 41.864048], [-87.770651, 41.864714], [-87.766651, 41.862526], [-87.764651, 41.859757], [-87.762626, 41.863628], [-87.761212, 41.859603], [-87.763341, 41.857603], [-87.758651, 41.855452], [-87.757549, 41.856501], [-87.755918, 41.856336], [-87.754651, 41.852326], [-87.752099, 41.855603], [-87.748651, 41.856958], [-87.744651, 41.854282], [-87.738651, 41.854531], [-87.735663, 41.850591], [-87.734651, 41.850017], [-87.732651, 41.850903], [-87.731758, 41.850496], [-87.728651, 41.846952], [-87.726651, 41.847795], [-87.724651, 41.846156], [-87.720651, 41.850259], [-87.718062, 41.850191], [-87.715585, 41.848669], [-87.715036, 41.845988], [-87.716888, 41.843841], [-87.720779, 41.841603], [-87.721549, 41.839603], [-87.725232, 41.837603], [-87.724171, 41.835123], [-87.725395, 41.832348], [-87.726651, 41.831526], [-87.729193, 41.832145], [-87.733159, 41.831603], [-87.730651, 41.830813], [-87.729804, 41.829603], [-87.734841, 41.827603], [-87.731336, 41.825603], [-87.726651, 41.826416], [-87.726121, 41.825603], [-87.727962, 41.822914], [-87.733216, 41.822168], [-87.734651, 41.820782], [-87.738651, 41.820973], [-87.740651, 41.819479], [-87.742651, 41.821874], [-87.743731, 41.818683], [-87.746651, 41.817804], [-87.7473, 41.816252], [-87.750651, 41.816064], [-87.750651, 41.814601], [-87.746651, 41.814407], [-87.744651, 41.816665], [-87.742651, 41.815606], [-87.738651, 41.816681], [-87.736651, 41.818581], [-87.732941, 41.817603], [-87.730668, 41.815586], [-87.726651, 41.814087], [-87.724651, 41.810601], [-87.723843, 41.810795], [-87.722651, 41.811116], [-87.718535, 41.817719], [-87.718651, 41.818827], [-87.720651, 41.820232], [-87.721811, 41.818764], [-87.723188, 41.819066], [-87.723079, 41.821603], [-87.718651, 41.822557], [-87.715647, 41.820607], [-87.712, 41.819603], [-87.711097, 41.817603], [-87.713156, 41.815603], [-87.711145, 41.811603], [-87.711199, 41.809603], [-87.708651, 41.810138], [-87.704651, 41.808597], [-87.696651, 41.813612], [-87.692026, 41.809603], [-87.693433, 41.807603], [-87.686842, 41.803603], [-87.684651, 41.799702], [-87.682651, 41.799955], [-87.679994, 41.805603], [-87.676651, 41.805878], [-87.674666, 41.807603], [-87.674651, 41.810174], [-87.67365, 41.809603], [-87.674214, 41.807603], [-87.672651, 41.807546], [-87.669831, 41.805603], [-87.671429, 41.802825], [-87.669479, 41.799603], [-87.672651, 41.797316], [-87.674651, 41.799108], [-87.677834, 41.794786], [-87.682435, 41.793603], [-87.676651, 41.792311], [-87.674651, 41.790564], [-87.672651, 41.790841], [-87.666073, 41.785603], [-87.664927, 41.783603], [-87.665415, 41.782367], [-87.668578, 41.779603], [-87.666134, 41.77812], [-87.664651, 41.775102], [-87.661409, 41.773603], [-87.662209, 41.771603], [-87.656387, 41.767603], [-87.657004, 41.765603], [-87.653072, 41.761603], [-87.654482, 41.759603], [-87.652759, 41.757603], [-87.653479, 41.755603], [-87.648891, 41.753363], [-87.649025, 41.749603], [-87.646429, 41.745603], [-87.647174, 41.743603], [-87.644651, 41.74115], [-87.642483, 41.741771], [-87.645236, 41.735603], [-87.634651, 41.730969], [-87.633099, 41.727603], [-87.633952, 41.724904], [-87.636651, 41.724225], [-87.640312, 41.721603], [-87.636121, 41.720133], [-87.634267, 41.717603], [-87.648651, 41.716422], [-87.652997, 41.713949], [-87.652651, 41.703625], [-87.651784, 41.712736], [-87.648651, 41.712983], [-87.646651, 41.714899], [-87.641194, 41.71306], [-87.636651, 41.713241], [-87.634651, 41.714647], [-87.630651, 41.713623], [-87.631248, 41.711603], [-87.628651, 41.70991], [-87.624651, 41.712835], [-87.622651, 41.711794], [-87.618651, 41.71262], [-87.598821, 41.713433], [-87.598651, 41.711544], [-87.594695, 41.711603], [-87.596199, 41.713603], [-87.610239, 41.714015], [-87.621074, 41.715603], [-87.620651, 41.718626], [-87.614336, 41.721603], [-87.618185, 41.723603], [-87.617098, 41.730051], [-87.612651, 41.734142], [-87.609478, 41.735603], [-87.61022, 41.737603], [-87.609141, 41.742093], [-87.604522, 41.743603], [-87.606098, 41.744156], [-87.608878, 41.747603], [-87.603424, 41.751603], [-87.606651, 41.753907], [-87.606651, 41.757596], [-87.605076, 41.755178], [-87.60026, 41.753994], [-87.601201, 41.751603], [-87.59611, 41.749603], [-87.594849, 41.747405], [-87.59517, 41.743603], [-87.593059, 41.743195], [-87.590964, 41.741603], [-87.586733, 41.735521], [-87.584651, 41.73441], [-87.581938, 41.741603], [-87.580651, 41.742578], [-87.580396, 41.741858], [-87.578504, 41.74175], [-87.578086, 41.740168], [-87.574442, 41.739812], [-87.567321, 41.732933], [-87.564211, 41.732043], [-87.562651, 41.730248], [-87.560413, 41.729841], [-87.555442, 41.724812], [-87.552651, 41.72445], [-87.549607, 41.722647], [-87.546885, 41.719369], [-87.545196, 41.719057], [-87.544651, 41.716418], [-87.539146, 41.715108], [-87.538651, 41.713384], [-87.535246, 41.713008], [-87.534847, 41.711407], [-87.533245, 41.711009], [-87.532832, 41.709421], [-87.531181, 41.709073], [-87.530787, 41.707467], [-87.529008, 41.707245], [-87.52873, 41.705524], [-87.526853, 41.705401], [-87.526668, 41.703586], [-87.524651, 41.703525], [-87.524639, 41.703603], [-87.524685, 41.703637], [-87.526397, 41.703857], [-87.526259, 41.705603], [-87.528537, 41.705717], [-87.528593, 41.707661], [-87.530455, 41.707799], [-87.530569, 41.709685], [-87.532364, 41.70989], [-87.532538, 41.711716], [-87.53427, 41.711984], [-87.534651, 41.713916], [-87.537963, 41.714291], [-87.53844, 41.715814], [-87.540044, 41.716209], [-87.540443, 41.717811], [-87.544015, 41.718239], [-87.5444, 41.719854], [-87.550651, 41.726596], [-87.553114, 41.72714], [-87.558005, 41.732249], [-87.561063, 41.733191], [-87.563745, 41.736509], [-87.566901, 41.737353], [-87.567293, 41.738961], [-87.568784, 41.739469], [-87.569114, 41.74114], [-87.570718, 41.741536], [-87.570838, 41.743416], [-87.572052, 41.743603], [-87.572951, 41.745303], [-87.572896, 41.747603], [-87.568651, 41.74981], [-87.566651, 41.746301], [-87.56575, 41.748702], [-87.562651, 41.750969], [-87.560651, 41.748963], [-87.556651, 41.749505], [-87.552651, 41.745376], [-87.550651, 41.748213], [-87.548651, 41.745983], [-87.544651, 41.750986], [-87.543423, 41.750831], [-87.542651, 41.749362], [-87.540971, 41.749603], [-87.542552, 41.749702], [-87.542651, 41.751924], [-87.547566, 41.752688], [-87.551538, 41.758716], [-87.553015, 41.759239], [-87.553717, 41.762537], [-87.556926, 41.763328], [-87.559355, 41.766899], [-87.564847, 41.767407], [-87.565131, 41.775123], [-87.566808, 41.775446], [-87.567111, 41.777143], [-87.568804, 41.77745], [-87.569124, 41.77913], [-87.570821, 41.779433], [-87.571076, 41.783178], [-87.574775, 41.783479], [-87.575068, 41.789186], [-87.576773, 41.789481], [-87.576993, 41.791261], [-87.578815, 41.791603], [-87.576969, 41.791921], [-87.576807, 41.797603], [-87.576963, 41.799291], [-87.578803, 41.799603], [-87.579016, 41.805238], [-87.580756, 41.805498], [-87.580945, 41.807309], [-87.582757, 41.807497], [-87.58303, 41.809224], [-87.584755, 41.809499], [-87.584937, 41.811316], [-87.586745, 41.811508], [-87.586933, 41.813321], [-87.588744, 41.81351], [-87.58893, 41.815324], [-87.590743, 41.815511], [-87.590926, 41.817328], [-87.592742, 41.817512], [-87.592922, 41.819332], [-87.594741, 41.819513], [-87.594918, 41.821336], [-87.596739, 41.821515], [-87.596922, 41.827331], [-87.598738, 41.827516], [-87.598908, 41.829346], [-87.602777, 41.829603], [-87.602971, 41.837283], [-87.604749, 41.837505], [-87.604924, 41.83933], [-87.606734, 41.839519], [-87.60689, 41.843364], [-87.608768, 41.843603], [-87.609138, 41.855116], [-87.610804, 41.855603], [-87.610754, 41.857706], [-87.609028, 41.85798], [-87.608768, 41.85972], [-87.606976, 41.859928], [-87.606748, 41.8637], [-87.604942, 41.863895], [-87.604942, 41.867311], [-87.610651, 41.867472], [-87.610959, 41.869295], [-87.614764, 41.869489], [-87.614743, 41.881603], [-87.610831, 41.881783], [-87.610651, 41.885714], [-87.604885, 41.885838], [-87.604885, 41.889368], [-87.606724, 41.889676], [-87.598909, 41.889861], [-87.598909, 41.893345], [-87.600733, 41.893521], [-87.600908, 41.897346], [-87.602651, 41.897475], [-87.610356, 41.897309], [-87.610573, 41.895525], [-87.612443, 41.895395], [-87.612651, 41.893509], [-87.612858, 41.897396], [-87.614721, 41.897533], [-87.614868, 41.899386], [-87.616761, 41.899603], [-87.616874, 41.90338], [-87.622727, 41.903527], [-87.622916, 41.915338], [-87.624735, 41.915519], [-87.624897, 41.917357], [-87.626775, 41.917603], [-87.626906, 41.923348], [-87.628736, 41.923518], [-87.628915, 41.929339], [-87.630784, 41.929603], [-87.630927, 41.937327], [-87.632744, 41.93751], [-87.633069, 41.941185], [-87.636797, 41.941603], [-87.63314, 41.942092], [-87.63314, 41.945114], [-87.634801, 41.945453], [-87.635067, 41.947187], [-87.636779, 41.947475], [-87.63705, 41.951204], [-87.638839, 41.951603], [-87.638877, 41.957829], [-87.635297, 41.95825], [-87.634855, 41.959807], [-87.633221, 41.960174], [-87.633192, 41.965062], [-87.636651, 41.965352], [-87.637166, 41.967088], [-87.640651, 41.967375], [-87.641061, 41.969192], [-87.642787, 41.969467], [-87.643061, 41.971193], [-87.644784, 41.97147], [-87.645078, 41.977176], [-87.646783, 41.977471], [-87.647045, 41.979209], [-87.64878, 41.979474], [-87.649039, 41.981215], [-87.650781, 41.981473], [-87.651064, 41.98719], [-87.652891, 41.987603], [-87.653449, 41.998805], [-87.657193, 42.001603], [-87.660651, 42.006582]]], &quot;type&quot;: &quot;Polygon&quot;}, &quot;id&quot;: &quot;0&quot;, &quot;properties&quot;: {&quot;color&quot;: &quot;#bf4040&quot;, &quot;contour&quot;: 30, &quot;fill&quot;: &quot;#bf4040&quot;, &quot;fill-opacity&quot;: 0.33, &quot;fillColor&quot;: &quot;#bf4040&quot;, &quot;fillOpacity&quot;: 0.33, &quot;metric&quot;: &quot;time&quot;, &quot;opacity&quot;: 0.33}, &quot;type&quot;: &quot;Feature&quot;}], &quot;type&quot;: &quot;FeatureCollection&quot;});\n",
       "\n",
       "        \n",
       "    \n",
       "            geo_json_4bd27ee7301ce8e9becad49d2c10ce43.addTo(map_9a305dce251e14a036202de16fdff446);\n",
       "        \n",
       "    \n",
       "            var marker_bfdb65fcaf9daed17a07af4cf11d860f = L.marker(\n",
       "                [41.84536742779374, -87.65452309264975],\n",
       "                {\n",
       "}\n",
       "            ).addTo(map_9a305dce251e14a036202de16fdff446);\n",
       "        \n",
       "    \n",
       "            var icon_b6bf1cf1230f1d55f687f20fc5d955a9 = L.AwesomeMarkers.icon(\n",
       "                {\n",
       "  &quot;markerColor&quot;: &quot;blue&quot;,\n",
       "  &quot;iconColor&quot;: &quot;white&quot;,\n",
       "  &quot;icon&quot;: &quot;info-sign&quot;,\n",
       "  &quot;prefix&quot;: &quot;glyphicon&quot;,\n",
       "  &quot;extraClasses&quot;: &quot;fa-rotate-0&quot;,\n",
       "}\n",
       "            );\n",
       "            marker_bfdb65fcaf9daed17a07af4cf11d860f.setIcon(icon_b6bf1cf1230f1d55f687f20fc5d955a9);\n",
       "        \n",
       "    \n",
       "        var popup_2eda7ca5bc21f4d15ab36164af039b7e = L.popup({\n",
       "  &quot;maxWidth&quot;: &quot;100%&quot;,\n",
       "});\n",
       "\n",
       "        \n",
       "            \n",
       "                var html_ef58245feb19ca3f2ad0c04b32d5ffa7 = $(`&lt;div id=&quot;html_ef58245feb19ca3f2ad0c04b32d5ffa7&quot; style=&quot;width: 100.0%; height: 100.0%;&quot;&gt;&lt;b&gt;Total night‑time population&lt;br&gt;within 30 min:&lt;/b&gt;&lt;br&gt;1,205,991&lt;/div&gt;`)[0];\n",
       "                popup_2eda7ca5bc21f4d15ab36164af039b7e.setContent(html_ef58245feb19ca3f2ad0c04b32d5ffa7);\n",
       "            \n",
       "        \n",
       "\n",
       "        marker_bfdb65fcaf9daed17a07af4cf11d860f.bindPopup(popup_2eda7ca5bc21f4d15ab36164af039b7e)\n",
       "        ;\n",
       "\n",
       "        \n",
       "    \n",
       "    \n",
       "            var layer_control_a660cee74ea6d16dbf1363ae6439cd73_layers = {\n",
       "                base_layers : {\n",
       "                    &quot;cartodbpositron&quot; : tile_layer_782bdec04295bc20b375019742ffc38b,\n",
       "                },\n",
       "                overlays :  {\n",
       "                    &quot;30\\u2011min driving isochrone&quot; : geo_json_4bd27ee7301ce8e9becad49d2c10ce43,\n",
       "                },\n",
       "            };\n",
       "            let layer_control_a660cee74ea6d16dbf1363ae6439cd73 = L.control.layers(\n",
       "                layer_control_a660cee74ea6d16dbf1363ae6439cd73_layers.base_layers,\n",
       "                layer_control_a660cee74ea6d16dbf1363ae6439cd73_layers.overlays,\n",
       "                {\n",
       "  &quot;position&quot;: &quot;topright&quot;,\n",
       "  &quot;collapsed&quot;: true,\n",
       "  &quot;autoZIndex&quot;: true,\n",
       "}\n",
       "            ).addTo(map_9a305dce251e14a036202de16fdff446);\n",
       "\n",
       "        \n",
       "&lt;/script&gt;\n",
       "&lt;/html&gt;\" style=\"position:absolute;width:100%;height:100%;left:0;top:0;border:none !important;\" allowfullscreen webkitallowfullscreen mozallowfullscreen></iframe></div></div>"
      ],
      "text/plain": [
       "<folium.folium.Map at 0x1105c7e30>"
      ]
     },
     "metadata": {},
     "output_type": "display_data"
    },
    {
     "name": "stdout",
     "output_type": "stream",
     "text": [
      "▼ Baltimore Museum Of Art\n"
     ]
    },
    {
     "data": {
      "text/html": [
       "<div style=\"width:100%;\"><div style=\"position:relative;width:100%;height:0;padding-bottom:60%;\"><span style=\"color:#565656\">Make this Notebook Trusted to load map: File -> Trust Notebook</span><iframe srcdoc=\"&lt;!DOCTYPE html&gt;\n",
       "&lt;html&gt;\n",
       "&lt;head&gt;\n",
       "    \n",
       "    &lt;meta http-equiv=&quot;content-type&quot; content=&quot;text/html; charset=UTF-8&quot; /&gt;\n",
       "    \n",
       "        &lt;script&gt;\n",
       "            L_NO_TOUCH = false;\n",
       "            L_DISABLE_3D = false;\n",
       "        &lt;/script&gt;\n",
       "    \n",
       "    &lt;style&gt;html, body {width: 100%;height: 100%;margin: 0;padding: 0;}&lt;/style&gt;\n",
       "    &lt;style&gt;#map {position:absolute;top:0;bottom:0;right:0;left:0;}&lt;/style&gt;\n",
       "    &lt;script src=&quot;https://cdn.jsdelivr.net/npm/leaflet@1.9.3/dist/leaflet.js&quot;&gt;&lt;/script&gt;\n",
       "    &lt;script src=&quot;https://code.jquery.com/jquery-3.7.1.min.js&quot;&gt;&lt;/script&gt;\n",
       "    &lt;script src=&quot;https://cdn.jsdelivr.net/npm/bootstrap@5.2.2/dist/js/bootstrap.bundle.min.js&quot;&gt;&lt;/script&gt;\n",
       "    &lt;script src=&quot;https://cdnjs.cloudflare.com/ajax/libs/Leaflet.awesome-markers/2.0.2/leaflet.awesome-markers.js&quot;&gt;&lt;/script&gt;\n",
       "    &lt;link rel=&quot;stylesheet&quot; href=&quot;https://cdn.jsdelivr.net/npm/leaflet@1.9.3/dist/leaflet.css&quot;/&gt;\n",
       "    &lt;link rel=&quot;stylesheet&quot; href=&quot;https://cdn.jsdelivr.net/npm/bootstrap@5.2.2/dist/css/bootstrap.min.css&quot;/&gt;\n",
       "    &lt;link rel=&quot;stylesheet&quot; href=&quot;https://netdna.bootstrapcdn.com/bootstrap/3.0.0/css/bootstrap-glyphicons.css&quot;/&gt;\n",
       "    &lt;link rel=&quot;stylesheet&quot; href=&quot;https://cdn.jsdelivr.net/npm/@fortawesome/fontawesome-free@6.2.0/css/all.min.css&quot;/&gt;\n",
       "    &lt;link rel=&quot;stylesheet&quot; href=&quot;https://cdnjs.cloudflare.com/ajax/libs/Leaflet.awesome-markers/2.0.2/leaflet.awesome-markers.css&quot;/&gt;\n",
       "    &lt;link rel=&quot;stylesheet&quot; href=&quot;https://cdn.jsdelivr.net/gh/python-visualization/folium/folium/templates/leaflet.awesome.rotate.min.css&quot;/&gt;\n",
       "    \n",
       "            &lt;meta name=&quot;viewport&quot; content=&quot;width=device-width,\n",
       "                initial-scale=1.0, maximum-scale=1.0, user-scalable=no&quot; /&gt;\n",
       "            &lt;style&gt;\n",
       "                #map_26a4cf3386e00328624ba67d412ced08 {\n",
       "                    position: relative;\n",
       "                    width: 100.0%;\n",
       "                    height: 100.0%;\n",
       "                    left: 0.0%;\n",
       "                    top: 0.0%;\n",
       "                }\n",
       "                .leaflet-container { font-size: 1rem; }\n",
       "            &lt;/style&gt;\n",
       "        \n",
       "&lt;/head&gt;\n",
       "&lt;body&gt;\n",
       "    \n",
       "    \n",
       "            &lt;div class=&quot;folium-map&quot; id=&quot;map_26a4cf3386e00328624ba67d412ced08&quot; &gt;&lt;/div&gt;\n",
       "        \n",
       "&lt;/body&gt;\n",
       "&lt;script&gt;\n",
       "    \n",
       "    \n",
       "            var map_26a4cf3386e00328624ba67d412ced08 = L.map(\n",
       "                &quot;map_26a4cf3386e00328624ba67d412ced08&quot;,\n",
       "                {\n",
       "                    center: [39.360167136028565, -76.64996390471974],\n",
       "                    crs: L.CRS.EPSG3857,\n",
       "                    ...{\n",
       "  &quot;zoom&quot;: 11,\n",
       "  &quot;zoomControl&quot;: true,\n",
       "  &quot;preferCanvas&quot;: false,\n",
       "}\n",
       "\n",
       "                }\n",
       "            );\n",
       "\n",
       "            \n",
       "\n",
       "        \n",
       "    \n",
       "            var tile_layer_51bc6e814de8e5fcc9c21153158afe43 = L.tileLayer(\n",
       "                &quot;https://{s}.basemaps.cartocdn.com/light_all/{z}/{x}/{y}{r}.png&quot;,\n",
       "                {\n",
       "  &quot;minZoom&quot;: 0,\n",
       "  &quot;maxZoom&quot;: 20,\n",
       "  &quot;maxNativeZoom&quot;: 20,\n",
       "  &quot;noWrap&quot;: false,\n",
       "  &quot;attribution&quot;: &quot;\\u0026copy; \\u003ca href=\\&quot;https://www.openstreetmap.org/copyright\\&quot;\\u003eOpenStreetMap\\u003c/a\\u003e contributors \\u0026copy; \\u003ca href=\\&quot;https://carto.com/attributions\\&quot;\\u003eCARTO\\u003c/a\\u003e&quot;,\n",
       "  &quot;subdomains&quot;: &quot;abcd&quot;,\n",
       "  &quot;detectRetina&quot;: false,\n",
       "  &quot;tms&quot;: false,\n",
       "  &quot;opacity&quot;: 1,\n",
       "}\n",
       "\n",
       "            );\n",
       "        \n",
       "    \n",
       "            tile_layer_51bc6e814de8e5fcc9c21153158afe43.addTo(map_26a4cf3386e00328624ba67d412ced08);\n",
       "        \n",
       "    \n",
       "        function geo_json_f8bea5db73af66f7e536b57ed6be8498_styler(feature) {\n",
       "            switch(feature.id) {\n",
       "                default:\n",
       "                    return {&quot;color&quot;: &quot;yellow&quot;, &quot;fill&quot;: false, &quot;weight&quot;: 3};\n",
       "            }\n",
       "        }\n",
       "\n",
       "        function geo_json_f8bea5db73af66f7e536b57ed6be8498_onEachFeature(feature, layer) {\n",
       "            layer.on({\n",
       "            });\n",
       "        };\n",
       "        var geo_json_f8bea5db73af66f7e536b57ed6be8498 = L.geoJson(null, {\n",
       "                onEachFeature: geo_json_f8bea5db73af66f7e536b57ed6be8498_onEachFeature,\n",
       "            \n",
       "                style: geo_json_f8bea5db73af66f7e536b57ed6be8498_styler,\n",
       "            ...{\n",
       "}\n",
       "        });\n",
       "\n",
       "        function geo_json_f8bea5db73af66f7e536b57ed6be8498_add (data) {\n",
       "            geo_json_f8bea5db73af66f7e536b57ed6be8498\n",
       "                .addData(data);\n",
       "        }\n",
       "            geo_json_f8bea5db73af66f7e536b57ed6be8498_add({&quot;bbox&quot;: [-76.863799, 39.128368, -76.429343, 39.634689], &quot;features&quot;: [{&quot;bbox&quot;: [-76.863799, 39.128368, -76.429343, 39.634689], &quot;geometry&quot;: {&quot;coordinates&quot;: [[[-76.671548, 39.634689], [-76.6718, 39.628092], [-76.670021, 39.627619], [-76.669548, 39.625538], [-76.667832, 39.623807], [-76.66781, 39.62183], [-76.666271, 39.620092], [-76.666595, 39.618092], [-76.664331, 39.616092], [-76.664308, 39.613332], [-76.658852, 39.608092], [-76.658644, 39.606092], [-76.662246, 39.602791], [-76.662801, 39.599345], [-76.665548, 39.596966], [-76.670227, 39.596772], [-76.671548, 39.595597], [-76.681548, 39.595358], [-76.685129, 39.598511], [-76.686928, 39.598711], [-76.687548, 39.600416], [-76.687056, 39.596092], [-76.688102, 39.595538], [-76.689548, 39.596052], [-76.689971, 39.594516], [-76.688981, 39.591525], [-76.691548, 39.590908], [-76.693841, 39.592385], [-76.699081, 39.590092], [-76.700027, 39.588572], [-76.702261, 39.588092], [-76.695302, 39.587846], [-76.689548, 39.589398], [-76.687548, 39.586794], [-76.685131, 39.585675], [-76.683548, 39.585928], [-76.683548, 39.586173], [-76.684514, 39.587126], [-76.685349, 39.590092], [-76.683548, 39.590412], [-76.681548, 39.592826], [-76.679104, 39.592536], [-76.677088, 39.590092], [-76.677101, 39.588092], [-76.679115, 39.586092], [-76.67916, 39.576092], [-76.678772, 39.574868], [-76.675548, 39.573132], [-76.674991, 39.570649], [-76.669653, 39.566092], [-76.669527, 39.562113], [-76.667548, 39.561673], [-76.667263, 39.560377], [-76.667359, 39.552092], [-76.669015, 39.551559], [-76.669548, 39.549786], [-76.671548, 39.549723], [-76.67237, 39.551269], [-76.676126, 39.551514], [-76.678056, 39.552601], [-76.679612, 39.552156], [-76.681548, 39.549629], [-76.683833, 39.551807], [-76.684087, 39.556092], [-76.685548, 39.556469], [-76.692895, 39.55144], [-76.695548, 39.551444], [-76.696267, 39.552092], [-76.695537, 39.554092], [-76.697081, 39.556559], [-76.699548, 39.555317], [-76.701548, 39.557834], [-76.704855, 39.558785], [-76.705548, 39.560098], [-76.705981, 39.558525], [-76.701145, 39.552092], [-76.704038, 39.550583], [-76.705196, 39.546092], [-76.703548, 39.54567], [-76.702233, 39.548777], [-76.698876, 39.548764], [-76.697357, 39.548092], [-76.695548, 39.544497], [-76.693548, 39.545684], [-76.69058, 39.542092], [-76.690096, 39.539544], [-76.688529, 39.539074], [-76.687324, 39.539869], [-76.688516, 39.542092], [-76.686663, 39.544092], [-76.687929, 39.546474], [-76.685548, 39.546594], [-76.683548, 39.544791], [-76.681548, 39.544791], [-76.679548, 39.546537], [-76.676812, 39.544092], [-76.674453, 39.539186], [-76.672662, 39.538092], [-76.673131, 39.536092], [-76.672368, 39.535271], [-76.669548, 39.53466], [-76.667458, 39.536181], [-76.667115, 39.532524], [-76.665368, 39.532272], [-76.664707, 39.528933], [-76.663363, 39.528277], [-76.663548, 39.523366], [-76.665779, 39.522324], [-76.670182, 39.522727], [-76.671119, 39.522092], [-76.670083, 39.521556], [-76.669548, 39.51835], [-76.663548, 39.518335], [-76.663405, 39.51595], [-76.665124, 39.515668], [-76.665411, 39.509956], [-76.668418, 39.513222], [-76.670677, 39.513222], [-76.671315, 39.51186], [-76.673548, 39.511766], [-76.674343, 39.513297], [-76.677788, 39.513852], [-76.677548, 39.514538], [-76.674662, 39.515207], [-76.674174, 39.520719], [-76.671795, 39.522092], [-76.672839, 39.522801], [-76.675913, 39.522458], [-76.677159, 39.519704], [-76.679548, 39.519095], [-76.680835, 39.522804], [-76.681548, 39.52316], [-76.683754, 39.521885], [-76.686874, 39.524765], [-76.69198, 39.526525], [-76.692763, 39.526092], [-76.69083, 39.522092], [-76.693099, 39.520092], [-76.693548, 39.518107], [-76.694315, 39.519325], [-76.695548, 39.519357], [-76.697157, 39.517702], [-76.700361, 39.517279], [-76.700954, 39.520092], [-76.704055, 39.521585], [-76.705548, 39.525264], [-76.707548, 39.525436], [-76.709074, 39.523619], [-76.711973, 39.523667], [-76.714319, 39.526092], [-76.715548, 39.53062], [-76.717548, 39.530673], [-76.717785, 39.530092], [-76.716652, 39.528987], [-76.716571, 39.523116], [-76.717548, 39.522669], [-76.720133, 39.523507], [-76.720878, 39.526762], [-76.724235, 39.529404], [-76.725548, 39.533481], [-76.727548, 39.534717], [-76.727795, 39.53234], [-76.72665, 39.530989], [-76.726108, 39.527532], [-76.72275, 39.524092], [-76.723548, 39.523062], [-76.725933, 39.522477], [-76.727548, 39.520435], [-76.72914, 39.520092], [-76.721548, 39.519805], [-76.720351, 39.518092], [-76.720794, 39.515339], [-76.722512, 39.515127], [-76.723727, 39.516271], [-76.725548, 39.515509], [-76.726144, 39.514092], [-76.721548, 39.512322], [-76.719548, 39.51289], [-76.716968, 39.512092], [-76.716785, 39.507329], [-76.721548, 39.506602], [-76.722917, 39.503461], [-76.727673, 39.502218], [-76.727548, 39.500732], [-76.727011, 39.501555], [-76.725064, 39.501608], [-76.720724, 39.500916], [-76.721246, 39.49779], [-76.724257, 39.498802], [-76.725548, 39.497633], [-76.729548, 39.49741], [-76.731548, 39.495582], [-76.733548, 39.497556], [-76.736917, 39.498092], [-76.733548, 39.500201], [-76.739663, 39.501977], [-76.741885, 39.504429], [-76.743149, 39.504092], [-76.742553, 39.500092], [-76.740842, 39.498092], [-76.745182, 39.496092], [-76.741114, 39.494526], [-76.741548, 39.49337], [-76.751548, 39.49277], [-76.753548, 39.493295], [-76.761548, 39.489396], [-76.765548, 39.491384], [-76.769694, 39.490092], [-76.767548, 39.489385], [-76.765548, 39.487099], [-76.763084, 39.486556], [-76.762972, 39.484092], [-76.764519, 39.483064], [-76.765548, 39.479607], [-76.773548, 39.479508], [-76.777548, 39.483523], [-76.779548, 39.481407], [-76.781548, 39.483329], [-76.787548, 39.483933], [-76.789548, 39.482792], [-76.794007, 39.482552], [-76.795548, 39.480838], [-76.797899, 39.480443], [-76.798517, 39.479062], [-76.80206, 39.478092], [-76.797548, 39.477173], [-76.790317, 39.480861], [-76.783045, 39.480595], [-76.784248, 39.475392], [-76.783548, 39.474331], [-76.780929, 39.475474], [-76.78015, 39.476695], [-76.777548, 39.477032], [-76.776805, 39.476092], [-76.782721, 39.470092], [-76.7801, 39.468092], [-76.779548, 39.464683], [-76.778375, 39.46892], [-76.775086, 39.469631], [-76.772752, 39.473297], [-76.772393, 39.476937], [-76.769548, 39.477322], [-76.767548, 39.474601], [-76.765083, 39.474092], [-76.765206, 39.471751], [-76.76874, 39.471285], [-76.769548, 39.470514], [-76.767007, 39.468092], [-76.770335, 39.46488], [-76.771106, 39.46165], [-76.774164, 39.461476], [-76.779548, 39.463874], [-76.784521, 39.462092], [-76.783089, 39.458092], [-76.781291, 39.456349], [-76.781003, 39.454092], [-76.779548, 39.453584], [-76.778288, 39.454833], [-76.776797, 39.454843], [-76.775807, 39.454092], [-76.775713, 39.451927], [-76.772696, 39.450092], [-76.774828, 39.445373], [-76.781548, 39.445404], [-76.782379, 39.446092], [-76.78094, 39.448092], [-76.781548, 39.450007], [-76.783952, 39.449688], [-76.785548, 39.45381], [-76.78641, 39.452954], [-76.789105, 39.452535], [-76.789841, 39.454092], [-76.789721, 39.452092], [-76.788258, 39.451382], [-76.784568, 39.446092], [-76.785075, 39.443619], [-76.787339, 39.442092], [-76.790176, 39.436721], [-76.791548, 39.43651], [-76.799412, 39.438227], [-76.801732, 39.439908], [-76.801698, 39.441942], [-76.802662, 39.441206], [-76.804263, 39.442092], [-76.803548, 39.442953], [-76.801548, 39.44214], [-76.799813, 39.444092], [-76.800123, 39.446092], [-76.797721, 39.448092], [-76.799238, 39.450092], [-76.795783, 39.452092], [-76.797548, 39.452823], [-76.798132, 39.454676], [-76.795743, 39.456092], [-76.795146, 39.458092], [-76.797808, 39.458353], [-76.801548, 39.455045], [-76.803548, 39.454985], [-76.805548, 39.456294], [-76.807548, 39.455511], [-76.809195, 39.456445], [-76.813548, 39.455484], [-76.81438, 39.452092], [-76.815548, 39.451038], [-76.816967, 39.452092], [-76.817187, 39.455732], [-76.816459, 39.456092], [-76.819548, 39.457515], [-76.826516, 39.45706], [-76.827989, 39.454533], [-76.829548, 39.45424], [-76.830055, 39.455585], [-76.831705, 39.455935], [-76.832683, 39.458956], [-76.83606, 39.462092], [-76.835563, 39.468092], [-76.833548, 39.466271], [-76.831548, 39.466745], [-76.829548, 39.465751], [-76.827633, 39.468177], [-76.828374, 39.472919], [-76.822716, 39.474092], [-76.828099, 39.475541], [-76.829548, 39.48114], [-76.8301, 39.478092], [-76.834314, 39.476859], [-76.835548, 39.475326], [-76.837548, 39.476767], [-76.846143, 39.479497], [-76.847302, 39.482338], [-76.849548, 39.48414], [-76.850966, 39.481511], [-76.853548, 39.481048], [-76.855548, 39.483779], [-76.858002, 39.483638], [-76.859238, 39.486402], [-76.863799, 39.488092], [-76.863572, 39.486067], [-76.861908, 39.485731], [-76.859548, 39.481163], [-76.853548, 39.478828], [-76.851548, 39.477029], [-76.847548, 39.47718], [-76.838947, 39.470092], [-76.838154, 39.459485], [-76.835086, 39.456092], [-76.834999, 39.452092], [-76.839548, 39.448811], [-76.844654, 39.450986], [-76.845548, 39.452386], [-76.850291, 39.452092], [-76.848077, 39.451563], [-76.84785, 39.449789], [-76.843548, 39.44474], [-76.841548, 39.445102], [-76.840292, 39.444092], [-76.841548, 39.442647], [-76.843548, 39.442804], [-76.844092, 39.442092], [-76.840429, 39.440092], [-76.836425, 39.439214], [-76.835817, 39.438092], [-76.836291, 39.434836], [-76.839861, 39.430092], [-76.84597, 39.426092], [-76.841548, 39.42492], [-76.837548, 39.426861], [-76.835548, 39.425469], [-76.8322, 39.425439], [-76.831299, 39.424092], [-76.825548, 39.423352], [-76.82338, 39.425925], [-76.824263, 39.430808], [-76.820786, 39.431331], [-76.819548, 39.432765], [-76.812814, 39.428092], [-76.814125, 39.426669], [-76.814257, 39.420092], [-76.813451, 39.418092], [-76.814902, 39.416092], [-76.814505, 39.414092], [-76.821238, 39.410092], [-76.819031, 39.408092], [-76.819487, 39.406032], [-76.821916, 39.403724], [-76.821548, 39.402628], [-76.820996, 39.40354], [-76.816673, 39.402967], [-76.816683, 39.401227], [-76.819255, 39.400092], [-76.818506, 39.398092], [-76.816408, 39.397232], [-76.814657, 39.394092], [-76.817548, 39.39085], [-76.821548, 39.391827], [-76.825897, 39.390092], [-76.821548, 39.388301], [-76.817548, 39.387768], [-76.816119, 39.385521], [-76.813253, 39.384092], [-76.812855, 39.3814], [-76.815465, 39.380092], [-76.816619, 39.378092], [-76.815742, 39.375897], [-76.813548, 39.376663], [-76.810255, 39.380799], [-76.805557, 39.380102], [-76.801548, 39.38312], [-76.799548, 39.383118], [-76.798333, 39.382092], [-76.799948, 39.378092], [-76.797548, 39.37521], [-76.796283, 39.378827], [-76.793612, 39.378092], [-76.794786, 39.376092], [-76.795512, 39.370057], [-76.797679, 39.368092], [-76.793487, 39.364092], [-76.792595, 39.360092], [-76.795372, 39.355917], [-76.795408, 39.354092], [-76.792587, 39.353053], [-76.790096, 39.350092], [-76.789548, 39.347918], [-76.788303, 39.348847], [-76.783046, 39.348594], [-76.780815, 39.346092], [-76.783346, 39.344092], [-76.782813, 39.342092], [-76.779973, 39.342092], [-76.778056, 39.344601], [-76.775548, 39.344692], [-76.772408, 39.341232], [-76.770849, 39.340791], [-76.768926, 39.33747], [-76.770112, 39.334092], [-76.769713, 39.330092], [-76.772137, 39.325503], [-76.769548, 39.325168], [-76.767548, 39.327163], [-76.763318, 39.324092], [-76.764639, 39.323184], [-76.771548, 39.32324], [-76.777694, 39.322092], [-76.769202, 39.320092], [-76.771928, 39.316473], [-76.774167, 39.316092], [-76.774185, 39.314092], [-76.770821, 39.310819], [-76.771548, 39.307648], [-76.777548, 39.307618], [-76.779548, 39.309504], [-76.789548, 39.308891], [-76.791548, 39.306581], [-76.793548, 39.307508], [-76.797548, 39.305461], [-76.799548, 39.305438], [-76.804645, 39.299189], [-76.809548, 39.298774], [-76.811548, 39.296803], [-76.819548, 39.296677], [-76.821548, 39.298741], [-76.8247, 39.29894], [-76.825202, 39.301747], [-76.823857, 39.302092], [-76.82565, 39.302194], [-76.826463, 39.297008], [-76.833439, 39.296092], [-76.82634, 39.295299], [-76.825548, 39.287701], [-76.825309, 39.293854], [-76.823428, 39.293972], [-76.822984, 39.295528], [-76.809548, 39.295473], [-76.807548, 39.297439], [-76.80319, 39.297734], [-76.800562, 39.301107], [-76.797548, 39.302723], [-76.795548, 39.302716], [-76.793548, 39.305327], [-76.789548, 39.304649], [-76.788371, 39.306916], [-76.786944, 39.307489], [-76.781548, 39.307301], [-76.779548, 39.304577], [-76.768026, 39.30457], [-76.767548, 39.306225], [-76.765859, 39.306092], [-76.765548, 39.303045], [-76.761222, 39.304417], [-76.760317, 39.301322], [-76.754575, 39.297065], [-76.752498, 39.291142], [-76.746102, 39.290092], [-76.749548, 39.287], [-76.753548, 39.289476], [-76.754406, 39.28695], [-76.755548, 39.286378], [-76.761441, 39.286092], [-76.759548, 39.283329], [-76.755548, 39.282388], [-76.753548, 39.280187], [-76.751548, 39.281671], [-76.749789, 39.280092], [-76.75135, 39.277895], [-76.754969, 39.275513], [-76.757548, 39.276147], [-76.759548, 39.275071], [-76.761548, 39.275813], [-76.764264, 39.274092], [-76.757548, 39.273206], [-76.753902, 39.270092], [-76.756091, 39.268092], [-76.753548, 39.266901], [-76.751548, 39.267212], [-76.749753, 39.266092], [-76.749448, 39.260191], [-76.745548, 39.251938], [-76.743732, 39.254276], [-76.741548, 39.255057], [-76.73916, 39.25448], [-76.738528, 39.249111], [-76.735155, 39.248092], [-76.738819, 39.244092], [-76.733851, 39.236092], [-76.731499, 39.236044], [-76.729548, 39.23853], [-76.722697, 39.239242], [-76.721548, 39.244359], [-76.720987, 39.242653], [-76.719357, 39.242283], [-76.718965, 39.240675], [-76.717231, 39.240092], [-76.71872, 39.239265], [-76.719252, 39.237797], [-76.722476, 39.237021], [-76.723548, 39.235169], [-76.723998, 39.233642], [-76.722911, 39.232092], [-76.723999, 39.22964], [-76.72132, 39.226092], [-76.723548, 39.225174], [-76.725548, 39.225894], [-76.727222, 39.224092], [-76.725548, 39.223698], [-76.725148, 39.222092], [-76.726839, 39.221383], [-76.727225, 39.21977], [-76.730569, 39.219114], [-76.733548, 39.21579], [-76.737017, 39.215562], [-76.737548, 39.21402], [-76.746593, 39.212092], [-76.745548, 39.211753], [-76.74544, 39.209985], [-76.749072, 39.209616], [-76.749278, 39.207822], [-76.752443, 39.206987], [-76.753548, 39.205225], [-76.756339, 39.204884], [-76.757548, 39.203212], [-76.760386, 39.202931], [-76.761548, 39.201339], [-76.769833, 39.201807], [-76.770265, 39.203374], [-76.771744, 39.203895], [-76.775916, 39.208092], [-76.773602, 39.214092], [-76.777597, 39.216042], [-76.783656, 39.215984], [-76.783308, 39.218332], [-76.785496, 39.220092], [-76.785394, 39.222092], [-76.787147, 39.222493], [-76.789548, 39.225493], [-76.791708, 39.220092], [-76.79155, 39.218089], [-76.78893, 39.21671], [-76.788933, 39.214092], [-76.791548, 39.213504], [-76.792144, 39.212092], [-76.793548, 39.211462], [-76.794867, 39.220772], [-76.796412, 39.221227], [-76.797548, 39.22299], [-76.803548, 39.22356], [-76.805784, 39.226092], [-76.808883, 39.226757], [-76.809397, 39.228243], [-76.811242, 39.228397], [-76.811498, 39.230141], [-76.813527, 39.230113], [-76.813548, 39.232529], [-76.813574, 39.230092], [-76.811794, 39.229846], [-76.811704, 39.227935], [-76.81016, 39.22748], [-76.809863, 39.225776], [-76.80618, 39.22146], [-76.799548, 39.221306], [-76.796665, 39.218975], [-76.79674, 39.213285], [-76.799933, 39.211706], [-76.797548, 39.211401], [-76.796586, 39.209054], [-76.794463, 39.207177], [-76.791548, 39.207178], [-76.785969, 39.20567], [-76.783616, 39.202092], [-76.786779, 39.200092], [-76.784079, 39.199561], [-76.783419, 39.198092], [-76.780619, 39.197021], [-76.779548, 39.194547], [-76.776329, 39.194092], [-76.777237, 39.194402], [-76.777314, 39.196092], [-76.776392, 39.198092], [-76.777934, 39.200092], [-76.776054, 39.200599], [-76.775548, 39.201722], [-76.775431, 39.200209], [-76.773548, 39.200312], [-76.77115, 39.198489], [-76.771148, 39.195693], [-76.773548, 39.193588], [-76.775378, 39.193922], [-76.775239, 39.192401], [-76.77698, 39.189524], [-76.778453, 39.188997], [-76.782517, 39.183123], [-76.779548, 39.182639], [-76.773934, 39.188479], [-76.77197, 39.188514], [-76.771565, 39.19011], [-76.770821, 39.190092], [-76.770349, 39.188092], [-76.768263, 39.186092], [-76.771548, 39.180598], [-76.771548, 39.179007], [-76.767548, 39.178781], [-76.765616, 39.180161], [-76.761548, 39.181205], [-76.75973, 39.17991], [-76.757737, 39.179902], [-76.757548, 39.17861], [-76.756595, 39.180092], [-76.758975, 39.182092], [-76.757548, 39.18403], [-76.753548, 39.184473], [-76.748921, 39.180719], [-76.745196, 39.180443], [-76.745131, 39.178509], [-76.743543, 39.178097], [-76.743251, 39.176092], [-76.739475, 39.174164], [-76.738861, 39.172778], [-76.735109, 39.17053], [-76.73499, 39.167534], [-76.74013, 39.162675], [-76.740604, 39.161149], [-76.743957, 39.160502], [-76.74778, 39.156324], [-76.748154, 39.154698], [-76.749736, 39.15428], [-76.750091, 39.152636], [-76.752227, 39.152092], [-76.751938, 39.148482], [-76.753698, 39.148092], [-76.753548, 39.144254], [-76.75317, 39.147715], [-76.751057, 39.148092], [-76.750664, 39.151209], [-76.749109, 39.151654], [-76.746139, 39.154683], [-76.744718, 39.154922], [-76.743534, 39.154092], [-76.74007, 39.160614], [-76.737055, 39.1616], [-76.732411, 39.166955], [-76.729548, 39.1675], [-76.727548, 39.164988], [-76.725548, 39.164367], [-76.724971, 39.166092], [-76.725535, 39.168105], [-76.726854, 39.168786], [-76.727274, 39.172092], [-76.723478, 39.176022], [-76.722445, 39.178989], [-76.720022, 39.180092], [-76.716245, 39.18479], [-76.710331, 39.188875], [-76.709958, 39.192503], [-76.707548, 39.192456], [-76.703548, 39.196272], [-76.698353, 39.196897], [-76.697548, 39.198659], [-76.696538, 39.197102], [-76.693548, 39.196481], [-76.693085, 39.195629], [-76.69451, 39.194092], [-76.694621, 39.192092], [-76.693013, 39.190092], [-76.693198, 39.181742], [-76.694542, 39.181087], [-76.695548, 39.178863], [-76.697548, 39.181344], [-76.700509, 39.180092], [-76.69871, 39.178092], [-76.695548, 39.177787], [-76.694299, 39.176092], [-76.694795, 39.172092], [-76.696716, 39.170092], [-76.695967, 39.166092], [-76.696439, 39.158092], [-76.695776, 39.157864], [-76.694632, 39.158092], [-76.69531, 39.158329], [-76.695167, 39.167711], [-76.691113, 39.169658], [-76.687238, 39.170092], [-76.691548, 39.171022], [-76.692249, 39.174092], [-76.688857, 39.177401], [-76.688393, 39.180937], [-76.685466, 39.18201], [-76.683809, 39.186353], [-76.682735, 39.184904], [-76.679239, 39.184401], [-76.677548, 39.182687], [-76.675236, 39.182404], [-76.671548, 39.17868], [-76.666803, 39.179347], [-76.666934, 39.182706], [-76.669548, 39.183024], [-76.671169, 39.184092], [-76.667711, 39.188256], [-76.666143, 39.188688], [-76.661642, 39.188092], [-76.659548, 39.186764], [-76.656899, 39.186741], [-76.655267, 39.184092], [-76.652102, 39.183537], [-76.651693, 39.177947], [-76.650238, 39.177402], [-76.649548, 39.17454], [-76.646133, 39.170092], [-76.646539, 39.165101], [-76.645511, 39.164056], [-76.646586, 39.165054], [-76.649319, 39.164092], [-76.647548, 39.162977], [-76.646597, 39.159141], [-76.647548, 39.157377], [-76.651548, 39.157285], [-76.653548, 39.159223], [-76.658604, 39.158092], [-76.653922, 39.155717], [-76.650606, 39.155034], [-76.650013, 39.151627], [-76.646747, 39.150892], [-76.647022, 39.145566], [-76.648877, 39.142092], [-76.644716, 39.140092], [-76.643548, 39.129194], [-76.641548, 39.128368], [-76.641499, 39.130141], [-76.643286, 39.130354], [-76.643035, 39.142605], [-76.644361, 39.150092], [-76.643548, 39.151056], [-76.641548, 39.151426], [-76.636605, 39.151034], [-76.635975, 39.148092], [-76.634065, 39.147574], [-76.633548, 39.144119], [-76.633405, 39.148092], [-76.635238, 39.148402], [-76.635286, 39.152354], [-76.638619, 39.153021], [-76.639205, 39.154434], [-76.641548, 39.154771], [-76.64278, 39.153324], [-76.644176, 39.153463], [-76.643914, 39.160092], [-76.642594, 39.161138], [-76.642152, 39.164696], [-76.639969, 39.166092], [-76.639688, 39.168232], [-76.637683, 39.168227], [-76.637548, 39.171828], [-76.634429, 39.170092], [-76.634656, 39.169201], [-76.63701, 39.168092], [-76.63191, 39.16773], [-76.627548, 39.16621], [-76.626763, 39.167307], [-76.627784, 39.170092], [-76.626966, 39.174673], [-76.630227, 39.180092], [-76.629548, 39.184456], [-76.627548, 39.184667], [-76.625582, 39.186092], [-76.629548, 39.187004], [-76.630443, 39.188987], [-76.627548, 39.191331], [-76.622694, 39.188946], [-76.621548, 39.187551], [-76.619544, 39.188096], [-76.614835, 39.186804], [-76.613895, 39.184092], [-76.615039, 39.180601], [-76.612538, 39.179102], [-76.611548, 39.17521], [-76.609057, 39.174582], [-76.610032, 39.172576], [-76.609876, 39.168092], [-76.608416, 39.167224], [-76.607708, 39.163931], [-76.605881, 39.163758], [-76.605667, 39.158092], [-76.603548, 39.158074], [-76.603552, 39.158096], [-76.605444, 39.158196], [-76.605282, 39.164092], [-76.606888, 39.164751], [-76.606995, 39.168092], [-76.608927, 39.170092], [-76.606562, 39.172092], [-76.604837, 39.175381], [-76.605049, 39.180092], [-76.604223, 39.184092], [-76.60249, 39.186092], [-76.602128, 39.190672], [-76.599307, 39.192333], [-76.597494, 39.190039], [-76.5953, 39.192092], [-76.596699, 39.196092], [-76.594927, 39.198092], [-76.595548, 39.200852], [-76.599548, 39.196295], [-76.600035, 39.197604], [-76.598924, 39.203469], [-76.595548, 39.204651], [-76.587548, 39.204662], [-76.584267, 39.206812], [-76.579548, 39.207399], [-76.577548, 39.204788], [-76.571548, 39.205452], [-76.567548, 39.203366], [-76.562239, 39.203401], [-76.561548, 39.202435], [-76.559548, 39.202815], [-76.559548, 39.206608], [-76.565548, 39.205431], [-76.567548, 39.206523], [-76.575548, 39.207263], [-76.577548, 39.209405], [-76.583747, 39.210092], [-76.583488, 39.212092], [-76.585818, 39.214092], [-76.583367, 39.216092], [-76.580739, 39.222092], [-76.578904, 39.223448], [-76.578548, 39.225092], [-76.580048, 39.225592], [-76.579548, 39.227019], [-76.578547, 39.225092], [-76.570675, 39.22522], [-76.567116, 39.226092], [-76.567548, 39.228473], [-76.565548, 39.227578], [-76.563548, 39.22942], [-76.560396, 39.230092], [-76.561184, 39.232092], [-76.564477, 39.233163], [-76.565841, 39.235798], [-76.567617, 39.236022], [-76.568354, 39.237286], [-76.567069, 39.242571], [-76.575962, 39.244092], [-76.574394, 39.244939], [-76.573798, 39.248343], [-76.570251, 39.250796], [-76.569768, 39.254312], [-76.568192, 39.254737], [-76.567758, 39.256303], [-76.566171, 39.256716], [-76.565762, 39.258307], [-76.559548, 39.258583], [-76.557548, 39.260452], [-76.556599, 39.25704], [-76.555548, 39.256566], [-76.554022, 39.258092], [-76.554063, 39.260607], [-76.551548, 39.260989], [-76.545817, 39.258092], [-76.541548, 39.252602], [-76.539548, 39.252283], [-76.537239, 39.253784], [-76.535548, 39.256765], [-76.533548, 39.252798], [-76.531548, 39.254172], [-76.527548, 39.250998], [-76.524919, 39.250721], [-76.523548, 39.249694], [-76.519548, 39.249642], [-76.51948, 39.25016], [-76.520869, 39.25277], [-76.52118, 39.258092], [-76.519548, 39.259273], [-76.517548, 39.258673], [-76.515548, 39.259805], [-76.513548, 39.258952], [-76.509775, 39.260092], [-76.511952, 39.264092], [-76.515548, 39.267283], [-76.516114, 39.270092], [-76.515082, 39.270558], [-76.513548, 39.269646], [-76.507163, 39.272092], [-76.511548, 39.274182], [-76.515548, 39.27483], [-76.516286, 39.276092], [-76.515709, 39.278254], [-76.512241, 39.277398], [-76.507548, 39.277929], [-76.505991, 39.275649], [-76.503548, 39.274214], [-76.501548, 39.27731], [-76.497598, 39.280143], [-76.493166, 39.278473], [-76.485741, 39.277899], [-76.475547, 39.274257], [-76.471041, 39.274598], [-76.46583, 39.269809], [-76.464176, 39.269463], [-76.46368, 39.26796], [-76.461765, 39.267875], [-76.461548, 39.264496], [-76.4615, 39.26814], [-76.463282, 39.268358], [-76.463398, 39.270242], [-76.464923, 39.270717], [-76.465363, 39.272276], [-76.4671, 39.272539], [-76.467302, 39.274337], [-76.470721, 39.278092], [-76.470177, 39.280092], [-76.471092, 39.280547], [-76.473548, 39.279795], [-76.475547, 39.281208], [-76.479548, 39.281291], [-76.481548, 39.283708], [-76.487548, 39.283443], [-76.489548, 39.285439], [-76.493548, 39.285946], [-76.494373, 39.287267], [-76.497548, 39.287782], [-76.498399, 39.289241], [-76.501783, 39.290092], [-76.502153, 39.292092], [-76.50094, 39.295484], [-76.497548, 39.296995], [-76.495547, 39.296538], [-76.492983, 39.297528], [-76.490414, 39.300959], [-76.48553, 39.302092], [-76.491548, 39.302759], [-76.493548, 39.301602], [-76.495547, 39.302602], [-76.497501, 39.302046], [-76.498993, 39.299537], [-76.500479, 39.300092], [-76.499946, 39.30249], [-76.498819, 39.303363], [-76.498531, 39.308092], [-76.497548, 39.308733], [-76.493548, 39.307494], [-76.491548, 39.308684], [-76.490396, 39.31494], [-76.48884, 39.315384], [-76.48617, 39.318092], [-76.486241, 39.320092], [-76.48401, 39.322555], [-76.479548, 39.322845], [-76.478215, 39.321425], [-76.475547, 39.320956], [-76.463548, 39.321161], [-76.461347, 39.318092], [-76.463656, 39.316092], [-76.464099, 39.31354], [-76.459547, 39.311496], [-76.457547, 39.312798], [-76.453749, 39.309891], [-76.451548, 39.309888], [-76.451548, 39.310223], [-76.452275, 39.311365], [-76.452232, 39.312092], [-76.44986, 39.314092], [-76.451548, 39.316089], [-76.452626, 39.315171], [-76.454134, 39.315505], [-76.453998, 39.319642], [-76.454988, 39.320651], [-76.459547, 39.321095], [-76.461548, 39.323008], [-76.475547, 39.323426], [-76.477547, 39.325362], [-76.480024, 39.325616], [-76.482011, 39.328092], [-76.481297, 39.329841], [-76.471257, 39.329802], [-76.473667, 39.334212], [-76.47133, 39.336092], [-76.471262, 39.337807], [-76.468744, 39.339288], [-76.468179, 39.340724], [-76.465548, 39.340573], [-76.464261, 39.344805], [-76.461627, 39.346092], [-76.465762, 39.346307], [-76.471548, 39.340951], [-76.476595, 39.342092], [-76.475721, 39.344092], [-76.477154, 39.344485], [-76.479548, 39.343633], [-76.481548, 39.344626], [-76.484191, 39.343448], [-76.485547, 39.347467], [-76.48596, 39.346505], [-76.488575, 39.346092], [-76.490345, 39.342889], [-76.491548, 39.342363], [-76.492657, 39.350092], [-76.489548, 39.352552], [-76.487023, 39.352616], [-76.485547, 39.35162], [-76.485086, 39.35363], [-76.482373, 39.354918], [-76.48182, 39.356365], [-76.479548, 39.356739], [-76.476058, 39.360602], [-76.473548, 39.360946], [-76.472288, 39.362833], [-76.469548, 39.363165], [-76.467547, 39.365117], [-76.464807, 39.365352], [-76.463548, 39.366963], [-76.46075, 39.367295], [-76.459547, 39.368886], [-76.456643, 39.369188], [-76.452281, 39.374825], [-76.449547, 39.375078], [-76.447548, 39.377439], [-76.441245, 39.376395], [-76.441215, 39.374092], [-76.439547, 39.373015], [-76.436175, 39.373465], [-76.432503, 39.372092], [-76.429343, 39.372092], [-76.431128, 39.372511], [-76.431547, 39.374752], [-76.434895, 39.374744], [-76.435548, 39.376979], [-76.437548, 39.377221], [-76.43902, 39.37862], [-76.443548, 39.378516], [-76.445081, 39.380092], [-76.443294, 39.381838], [-76.443012, 39.383557], [-76.441356, 39.383901], [-76.440956, 39.3855], [-76.439327, 39.385871], [-76.437292, 39.387837], [-76.436892, 39.389436], [-76.435384, 39.389929], [-76.435153, 39.391698], [-76.433425, 39.391969], [-76.433335, 39.393879], [-76.431509, 39.394053], [-76.431455, 39.396], [-76.430401, 39.396092], [-76.43158, 39.396125], [-76.431653, 39.394197], [-76.433612, 39.394156], [-76.433759, 39.392304], [-76.436187, 39.392092], [-76.438264, 39.388809], [-76.439779, 39.388324], [-76.44021, 39.386755], [-76.44254, 39.386092], [-76.446936, 39.38148], [-76.453548, 39.381601], [-76.456767, 39.386092], [-76.455548, 39.388754], [-76.459379, 39.387923], [-76.465548, 39.389526], [-76.469548, 39.388894], [-76.473548, 39.392931], [-76.476454, 39.393185], [-76.476849, 39.395394], [-76.474626, 39.39717], [-76.475005, 39.404092], [-76.481548, 39.400533], [-76.485547, 39.406173], [-76.487652, 39.401988], [-76.49112, 39.406519], [-76.490784, 39.412856], [-76.491548, 39.413915], [-76.493548, 39.413514], [-76.494939, 39.411484], [-76.497548, 39.410535], [-76.503548, 39.410716], [-76.505548, 39.409341], [-76.507977, 39.409662], [-76.509548, 39.411184], [-76.509914, 39.412458], [-76.506796, 39.413341], [-76.505941, 39.416486], [-76.501141, 39.421686], [-76.495784, 39.421855], [-76.495547, 39.421286], [-76.493301, 39.423845], [-76.493252, 39.425796], [-76.491164, 39.426092], [-76.493652, 39.426197], [-76.495547, 39.424789], [-76.497548, 39.425031], [-76.499548, 39.422864], [-76.504238, 39.423402], [-76.505548, 39.424842], [-76.509235, 39.424092], [-76.506114, 39.423526], [-76.505884, 39.422092], [-76.508835, 39.420092], [-76.508893, 39.418092], [-76.511163, 39.415707], [-76.513548, 39.417253], [-76.517548, 39.416529], [-76.518079, 39.418624], [-76.51438, 39.420092], [-76.516594, 39.424092], [-76.517548, 39.425046], [-76.519548, 39.424321], [-76.525548, 39.425029], [-76.526379, 39.426923], [-76.522001, 39.430546], [-76.521955, 39.4325], [-76.517934, 39.438479], [-76.514713, 39.439257], [-76.512598, 39.441042], [-76.511548, 39.437852], [-76.507271, 39.439815], [-76.506204, 39.444749], [-76.503684, 39.448229], [-76.501302, 39.449846], [-76.500701, 39.453246], [-76.499342, 39.454092], [-76.499548, 39.455178], [-76.499853, 39.454398], [-76.501761, 39.454306], [-76.509548, 39.446812], [-76.513548, 39.444991], [-76.51561, 39.446092], [-76.515314, 39.448325], [-76.517548, 39.449006], [-76.51966, 39.448204], [-76.518703, 39.446936], [-76.518745, 39.444092], [-76.523548, 39.441558], [-76.525548, 39.438874], [-76.527866, 39.442092], [-76.523362, 39.444092], [-76.524839, 39.444801], [-76.525199, 39.446441], [-76.527976, 39.447663], [-76.529717, 39.450092], [-76.527162, 39.453707], [-76.527548, 39.458746], [-76.53207, 39.454614], [-76.533212, 39.451756], [-76.53689, 39.452092], [-76.535608, 39.448153], [-76.536802, 39.448838], [-76.538529, 39.448092], [-76.53732, 39.444092], [-76.534955, 39.442685], [-76.534936, 39.438092], [-76.538618, 39.436092], [-76.538697, 39.433242], [-76.540445, 39.430092], [-76.539548, 39.428042], [-76.543795, 39.427845], [-76.54208, 39.430092], [-76.545939, 39.434092], [-76.544408, 39.436092], [-76.544728, 39.440911], [-76.545548, 39.441321], [-76.547548, 39.439558], [-76.54839, 39.441249], [-76.551548, 39.441691], [-76.553548, 39.439784], [-76.554244, 39.441396], [-76.555939, 39.442092], [-76.555966, 39.444092], [-76.553882, 39.446427], [-76.550596, 39.447141], [-76.5442, 39.454092], [-76.545066, 39.456092], [-76.543065, 39.45761], [-76.541515, 39.462092], [-76.542377, 39.466092], [-76.544379, 39.468092], [-76.543548, 39.469083], [-76.538749, 39.470092], [-76.538456, 39.473001], [-76.536543, 39.474092], [-76.535548, 39.476591], [-76.537548, 39.477086], [-76.540735, 39.473279], [-76.547548, 39.472455], [-76.548332, 39.471308], [-76.547548, 39.471883], [-76.546753, 39.470887], [-76.547023, 39.469568], [-76.549547, 39.471348], [-76.551548, 39.469498], [-76.557548, 39.469583], [-76.558155, 39.472092], [-76.556545, 39.474092], [-76.556161, 39.476705], [-76.553548, 39.479519], [-76.551548, 39.479613], [-76.551548, 39.480338], [-76.555057, 39.480583], [-76.556301, 39.478845], [-76.559548, 39.478855], [-76.560676, 39.478092], [-76.56323, 39.467774], [-76.573816, 39.467824], [-76.574, 39.472092], [-76.572035, 39.474092], [-76.572076, 39.478092], [-76.569548, 39.480817], [-76.56753, 39.480074], [-76.566886, 39.482092], [-76.568188, 39.484092], [-76.566411, 39.486956], [-76.564573, 39.487067], [-76.563548, 39.484231], [-76.557548, 39.489306], [-76.555649, 39.48799], [-76.553913, 39.488092], [-76.555166, 39.488474], [-76.555697, 39.492092], [-76.557548, 39.493258], [-76.562362, 39.490906], [-76.56289, 39.489435], [-76.565221, 39.490092], [-76.562107, 39.494092], [-76.561903, 39.496092], [-76.563548, 39.497353], [-76.565407, 39.495951], [-76.568239, 39.497401], [-76.567991, 39.500092], [-76.570795, 39.500845], [-76.571548, 39.503336], [-76.572024, 39.498092], [-76.568749, 39.490092], [-76.571586, 39.488131], [-76.570864, 39.486092], [-76.573118, 39.483662], [-76.576994, 39.482092], [-76.575548, 39.481332], [-76.575162, 39.479707], [-76.57623, 39.47941], [-76.577548, 39.481179], [-76.577911, 39.480456], [-76.578273, 39.478092], [-76.57708, 39.47656], [-76.577074, 39.474092], [-76.580922, 39.470092], [-76.581195, 39.464092], [-76.585548, 39.463773], [-76.58632, 39.465319], [-76.59074, 39.466092], [-76.591975, 39.468092], [-76.592225, 39.472092], [-76.590843, 39.474092], [-76.591217, 39.480092], [-76.594004, 39.481636], [-76.595548, 39.484278], [-76.596886, 39.48143], [-76.598804, 39.482092], [-76.599548, 39.484164], [-76.601548, 39.481218], [-76.602584, 39.485056], [-76.605548, 39.486897], [-76.607548, 39.486248], [-76.607817, 39.488362], [-76.606405, 39.48895], [-76.603548, 39.492566], [-76.601548, 39.49061], [-76.595548, 39.490662], [-76.593548, 39.488705], [-76.59041, 39.488955], [-76.588378, 39.490092], [-76.587548, 39.492853], [-76.586031, 39.491608], [-76.583548, 39.49197], [-76.582804, 39.494836], [-76.583839, 39.496383], [-76.581548, 39.49669], [-76.578406, 39.50095], [-76.575229, 39.502092], [-76.577548, 39.503382], [-76.577883, 39.502427], [-76.583548, 39.501477], [-76.587548, 39.498294], [-76.588728, 39.498912], [-76.589548, 39.501038], [-76.591548, 39.500836], [-76.59299, 39.496092], [-76.594842, 39.495387], [-76.607548, 39.495611], [-76.607548, 39.501872], [-76.605548, 39.500299], [-76.603548, 39.500057], [-76.602737, 39.501282], [-76.600065, 39.502092], [-76.601548, 39.503101], [-76.601902, 39.502447], [-76.603548, 39.50251], [-76.604414, 39.503226], [-76.604411, 39.506955], [-76.597548, 39.50746], [-76.595067, 39.509612], [-76.592126, 39.510092], [-76.590962, 39.511507], [-76.588152, 39.512092], [-76.596176, 39.512721], [-76.603548, 39.50928], [-76.609548, 39.509828], [-76.611548, 39.507461], [-76.614019, 39.509621], [-76.6141, 39.510644], [-76.609548, 39.510842], [-76.606717, 39.512092], [-76.607548, 39.513652], [-76.611548, 39.51307], [-76.613489, 39.514092], [-76.612905, 39.516092], [-76.616669, 39.520092], [-76.613795, 39.524092], [-76.615548, 39.524367], [-76.616024, 39.522569], [-76.617548, 39.522426], [-76.620057, 39.523583], [-76.620572, 39.526092], [-76.622525, 39.528092], [-76.620738, 39.532092], [-76.621791, 39.532336], [-76.625433, 39.530092], [-76.624704, 39.526935], [-76.625548, 39.523473], [-76.628048, 39.524593], [-76.629989, 39.524533], [-76.632392, 39.523248], [-76.634956, 39.524684], [-76.637744, 39.523896], [-76.641548, 39.525353], [-76.643913, 39.527727], [-76.643548, 39.528659], [-76.641548, 39.528718], [-76.639548, 39.527003], [-76.637548, 39.527206], [-76.635035, 39.530092], [-76.63684, 39.5328], [-76.640689, 39.534092], [-76.64132, 39.536092], [-76.639944, 39.538489], [-76.633548, 39.53789], [-76.633548, 39.540562], [-76.632138, 39.539502], [-76.627548, 39.539234], [-76.625548, 39.540884], [-76.617878, 39.542092], [-76.621548, 39.542622], [-76.625548, 39.544465], [-76.627548, 39.543044], [-76.629548, 39.54469], [-76.638044, 39.542589], [-76.639093, 39.541638], [-76.640251, 39.542092], [-76.638514, 39.545058], [-76.637071, 39.545616], [-76.634418, 39.548963], [-76.630202, 39.550092], [-76.630296, 39.552841], [-76.625548, 39.553871], [-76.627081, 39.556092], [-76.627847, 39.554391], [-76.631823, 39.554368], [-76.633548, 39.553026], [-76.635548, 39.55292], [-76.637854, 39.553785], [-76.639714, 39.556259], [-76.641409, 39.550092], [-76.640397, 39.548092], [-76.641548, 39.54697], [-76.644377, 39.548092], [-76.643197, 39.550092], [-76.647548, 39.551234], [-76.648787, 39.552853], [-76.6519, 39.55374], [-76.651969, 39.556513], [-76.649548, 39.558832], [-76.645548, 39.558972], [-76.643928, 39.557712], [-76.641207, 39.557752], [-76.643205, 39.560435], [-76.650917, 39.564722], [-76.651283, 39.566357], [-76.654492, 39.568092], [-76.653548, 39.57112], [-76.651548, 39.569639], [-76.647379, 39.570092], [-76.649011, 39.570629], [-76.651548, 39.574074], [-76.653548, 39.573064], [-76.65475, 39.574092], [-76.652633, 39.576092], [-76.654465, 39.577175], [-76.655548, 39.582225], [-76.656795, 39.575339], [-76.658209, 39.575431], [-76.658965, 39.578092], [-76.661041, 39.580092], [-76.660479, 39.587023], [-76.657548, 39.588552], [-76.655548, 39.587873], [-76.652731, 39.590092], [-76.658465, 39.591174], [-76.660758, 39.596092], [-76.659562, 39.600107], [-76.656735, 39.603279], [-76.656273, 39.610092], [-76.662881, 39.616759], [-76.664927, 39.622713], [-76.666282, 39.623358], [-76.667081, 39.626559], [-76.668842, 39.628092], [-76.669548, 39.631935], [-76.671279, 39.632361], [-76.671548, 39.634689]]], &quot;type&quot;: &quot;Polygon&quot;}, &quot;id&quot;: &quot;0&quot;, &quot;properties&quot;: {&quot;color&quot;: &quot;#bf4040&quot;, &quot;contour&quot;: 30, &quot;fill&quot;: &quot;#bf4040&quot;, &quot;fill-opacity&quot;: 0.33, &quot;fillColor&quot;: &quot;#bf4040&quot;, &quot;fillOpacity&quot;: 0.33, &quot;metric&quot;: &quot;time&quot;, &quot;opacity&quot;: 0.33}, &quot;type&quot;: &quot;Feature&quot;}], &quot;type&quot;: &quot;FeatureCollection&quot;});\n",
       "\n",
       "        \n",
       "    \n",
       "            geo_json_f8bea5db73af66f7e536b57ed6be8498.addTo(map_26a4cf3386e00328624ba67d412ced08);\n",
       "        \n",
       "    \n",
       "            var marker_69de4fd7ab72a7747ac0592f5c85979a = L.marker(\n",
       "                [39.360167136028565, -76.64996390471974],\n",
       "                {\n",
       "}\n",
       "            ).addTo(map_26a4cf3386e00328624ba67d412ced08);\n",
       "        \n",
       "    \n",
       "            var icon_0fa25dc1452217457d46634f15e4522e = L.AwesomeMarkers.icon(\n",
       "                {\n",
       "  &quot;markerColor&quot;: &quot;blue&quot;,\n",
       "  &quot;iconColor&quot;: &quot;white&quot;,\n",
       "  &quot;icon&quot;: &quot;info-sign&quot;,\n",
       "  &quot;prefix&quot;: &quot;glyphicon&quot;,\n",
       "  &quot;extraClasses&quot;: &quot;fa-rotate-0&quot;,\n",
       "}\n",
       "            );\n",
       "            marker_69de4fd7ab72a7747ac0592f5c85979a.setIcon(icon_0fa25dc1452217457d46634f15e4522e);\n",
       "        \n",
       "    \n",
       "        var popup_71786abea76cd4d111745cb67d66a23a = L.popup({\n",
       "  &quot;maxWidth&quot;: &quot;100%&quot;,\n",
       "});\n",
       "\n",
       "        \n",
       "            \n",
       "                var html_c12ef438a4483c9e1d2d9afac094ef69 = $(`&lt;div id=&quot;html_c12ef438a4483c9e1d2d9afac094ef69&quot; style=&quot;width: 100.0%; height: 100.0%;&quot;&gt;&lt;b&gt;Total night‑time population&lt;br&gt;within 30 min:&lt;/b&gt;&lt;br&gt;1,225,603&lt;/div&gt;`)[0];\n",
       "                popup_71786abea76cd4d111745cb67d66a23a.setContent(html_c12ef438a4483c9e1d2d9afac094ef69);\n",
       "            \n",
       "        \n",
       "\n",
       "        marker_69de4fd7ab72a7747ac0592f5c85979a.bindPopup(popup_71786abea76cd4d111745cb67d66a23a)\n",
       "        ;\n",
       "\n",
       "        \n",
       "    \n",
       "    \n",
       "            var layer_control_2af1bf85f9278ef6f220be94fe4c8dc2_layers = {\n",
       "                base_layers : {\n",
       "                    &quot;cartodbpositron&quot; : tile_layer_51bc6e814de8e5fcc9c21153158afe43,\n",
       "                },\n",
       "                overlays :  {\n",
       "                    &quot;30\\u2011min driving isochrone&quot; : geo_json_f8bea5db73af66f7e536b57ed6be8498,\n",
       "                },\n",
       "            };\n",
       "            let layer_control_2af1bf85f9278ef6f220be94fe4c8dc2 = L.control.layers(\n",
       "                layer_control_2af1bf85f9278ef6f220be94fe4c8dc2_layers.base_layers,\n",
       "                layer_control_2af1bf85f9278ef6f220be94fe4c8dc2_layers.overlays,\n",
       "                {\n",
       "  &quot;position&quot;: &quot;topright&quot;,\n",
       "  &quot;collapsed&quot;: true,\n",
       "  &quot;autoZIndex&quot;: true,\n",
       "}\n",
       "            ).addTo(map_26a4cf3386e00328624ba67d412ced08);\n",
       "\n",
       "        \n",
       "&lt;/script&gt;\n",
       "&lt;/html&gt;\" style=\"position:absolute;width:100%;height:100%;left:0;top:0;border:none !important;\" allowfullscreen webkitallowfullscreen mozallowfullscreen></iframe></div></div>"
      ],
      "text/plain": [
       "<folium.folium.Map at 0x103e22cf0>"
      ]
     },
     "metadata": {},
     "output_type": "display_data"
    },
    {
     "name": "stdout",
     "output_type": "stream",
     "text": [
      "▼ Museum Of Fine Arts Boston\n"
     ]
    },
    {
     "data": {
      "text/html": [
       "<div style=\"width:100%;\"><div style=\"position:relative;width:100%;height:0;padding-bottom:60%;\"><span style=\"color:#565656\">Make this Notebook Trusted to load map: File -> Trust Notebook</span><iframe srcdoc=\"&lt;!DOCTYPE html&gt;\n",
       "&lt;html&gt;\n",
       "&lt;head&gt;\n",
       "    \n",
       "    &lt;meta http-equiv=&quot;content-type&quot; content=&quot;text/html; charset=UTF-8&quot; /&gt;\n",
       "    \n",
       "        &lt;script&gt;\n",
       "            L_NO_TOUCH = false;\n",
       "            L_DISABLE_3D = false;\n",
       "        &lt;/script&gt;\n",
       "    \n",
       "    &lt;style&gt;html, body {width: 100%;height: 100%;margin: 0;padding: 0;}&lt;/style&gt;\n",
       "    &lt;style&gt;#map {position:absolute;top:0;bottom:0;right:0;left:0;}&lt;/style&gt;\n",
       "    &lt;script src=&quot;https://cdn.jsdelivr.net/npm/leaflet@1.9.3/dist/leaflet.js&quot;&gt;&lt;/script&gt;\n",
       "    &lt;script src=&quot;https://code.jquery.com/jquery-3.7.1.min.js&quot;&gt;&lt;/script&gt;\n",
       "    &lt;script src=&quot;https://cdn.jsdelivr.net/npm/bootstrap@5.2.2/dist/js/bootstrap.bundle.min.js&quot;&gt;&lt;/script&gt;\n",
       "    &lt;script src=&quot;https://cdnjs.cloudflare.com/ajax/libs/Leaflet.awesome-markers/2.0.2/leaflet.awesome-markers.js&quot;&gt;&lt;/script&gt;\n",
       "    &lt;link rel=&quot;stylesheet&quot; href=&quot;https://cdn.jsdelivr.net/npm/leaflet@1.9.3/dist/leaflet.css&quot;/&gt;\n",
       "    &lt;link rel=&quot;stylesheet&quot; href=&quot;https://cdn.jsdelivr.net/npm/bootstrap@5.2.2/dist/css/bootstrap.min.css&quot;/&gt;\n",
       "    &lt;link rel=&quot;stylesheet&quot; href=&quot;https://netdna.bootstrapcdn.com/bootstrap/3.0.0/css/bootstrap-glyphicons.css&quot;/&gt;\n",
       "    &lt;link rel=&quot;stylesheet&quot; href=&quot;https://cdn.jsdelivr.net/npm/@fortawesome/fontawesome-free@6.2.0/css/all.min.css&quot;/&gt;\n",
       "    &lt;link rel=&quot;stylesheet&quot; href=&quot;https://cdnjs.cloudflare.com/ajax/libs/Leaflet.awesome-markers/2.0.2/leaflet.awesome-markers.css&quot;/&gt;\n",
       "    &lt;link rel=&quot;stylesheet&quot; href=&quot;https://cdn.jsdelivr.net/gh/python-visualization/folium/folium/templates/leaflet.awesome.rotate.min.css&quot;/&gt;\n",
       "    \n",
       "            &lt;meta name=&quot;viewport&quot; content=&quot;width=device-width,\n",
       "                initial-scale=1.0, maximum-scale=1.0, user-scalable=no&quot; /&gt;\n",
       "            &lt;style&gt;\n",
       "                #map_594870516462a80eab661b71bf3e83fb {\n",
       "                    position: relative;\n",
       "                    width: 100.0%;\n",
       "                    height: 100.0%;\n",
       "                    left: 0.0%;\n",
       "                    top: 0.0%;\n",
       "                }\n",
       "                .leaflet-container { font-size: 1rem; }\n",
       "            &lt;/style&gt;\n",
       "        \n",
       "&lt;/head&gt;\n",
       "&lt;body&gt;\n",
       "    \n",
       "    \n",
       "            &lt;div class=&quot;folium-map&quot; id=&quot;map_594870516462a80eab661b71bf3e83fb&quot; &gt;&lt;/div&gt;\n",
       "        \n",
       "&lt;/body&gt;\n",
       "&lt;script&gt;\n",
       "    \n",
       "    \n",
       "            var map_594870516462a80eab661b71bf3e83fb = L.map(\n",
       "                &quot;map_594870516462a80eab661b71bf3e83fb&quot;,\n",
       "                {\n",
       "                    center: [42.3598924785708, -71.14693763457419],\n",
       "                    crs: L.CRS.EPSG3857,\n",
       "                    ...{\n",
       "  &quot;zoom&quot;: 11,\n",
       "  &quot;zoomControl&quot;: true,\n",
       "  &quot;preferCanvas&quot;: false,\n",
       "}\n",
       "\n",
       "                }\n",
       "            );\n",
       "\n",
       "            \n",
       "\n",
       "        \n",
       "    \n",
       "            var tile_layer_da708156d297b044ae07554bd2fb6363 = L.tileLayer(\n",
       "                &quot;https://{s}.basemaps.cartocdn.com/light_all/{z}/{x}/{y}{r}.png&quot;,\n",
       "                {\n",
       "  &quot;minZoom&quot;: 0,\n",
       "  &quot;maxZoom&quot;: 20,\n",
       "  &quot;maxNativeZoom&quot;: 20,\n",
       "  &quot;noWrap&quot;: false,\n",
       "  &quot;attribution&quot;: &quot;\\u0026copy; \\u003ca href=\\&quot;https://www.openstreetmap.org/copyright\\&quot;\\u003eOpenStreetMap\\u003c/a\\u003e contributors \\u0026copy; \\u003ca href=\\&quot;https://carto.com/attributions\\&quot;\\u003eCARTO\\u003c/a\\u003e&quot;,\n",
       "  &quot;subdomains&quot;: &quot;abcd&quot;,\n",
       "  &quot;detectRetina&quot;: false,\n",
       "  &quot;tms&quot;: false,\n",
       "  &quot;opacity&quot;: 1,\n",
       "}\n",
       "\n",
       "            );\n",
       "        \n",
       "    \n",
       "            tile_layer_da708156d297b044ae07554bd2fb6363.addTo(map_594870516462a80eab661b71bf3e83fb);\n",
       "        \n",
       "    \n",
       "        function geo_json_f8bf7e7b138d9cc92b8c6f80818205c9_styler(feature) {\n",
       "            switch(feature.id) {\n",
       "                default:\n",
       "                    return {&quot;color&quot;: &quot;yellow&quot;, &quot;fill&quot;: false, &quot;weight&quot;: 3};\n",
       "            }\n",
       "        }\n",
       "\n",
       "        function geo_json_f8bf7e7b138d9cc92b8c6f80818205c9_onEachFeature(feature, layer) {\n",
       "            layer.on({\n",
       "            });\n",
       "        };\n",
       "        var geo_json_f8bf7e7b138d9cc92b8c6f80818205c9 = L.geoJson(null, {\n",
       "                onEachFeature: geo_json_f8bf7e7b138d9cc92b8c6f80818205c9_onEachFeature,\n",
       "            \n",
       "                style: geo_json_f8bf7e7b138d9cc92b8c6f80818205c9_styler,\n",
       "            ...{\n",
       "}\n",
       "        });\n",
       "\n",
       "        function geo_json_f8bf7e7b138d9cc92b8c6f80818205c9_add (data) {\n",
       "            geo_json_f8bf7e7b138d9cc92b8c6f80818205c9\n",
       "                .addData(data);\n",
       "        }\n",
       "            geo_json_f8bf7e7b138d9cc92b8c6f80818205c9_add({&quot;bbox&quot;: [-71.474082, 42.234888, -70.969902, 42.55058], &quot;features&quot;: [{&quot;bbox&quot;: [-71.474082, 42.234888, -70.969902, 42.55058], &quot;geometry&quot;: {&quot;coordinates&quot;: [[[-71.136048, 42.55058], [-71.13634, 42.543325], [-71.134694, 42.54268], [-71.134655, 42.537932], [-71.137301, 42.536578], [-71.137489, 42.526767], [-71.138048, 42.525722], [-71.140317, 42.525325], [-71.139079, 42.523325], [-71.140709, 42.521987], [-71.141397, 42.518674], [-71.143366, 42.517325], [-71.138963, 42.51641], [-71.138012, 42.515289], [-71.136305, 42.515582], [-71.136329, 42.517607], [-71.133374, 42.518], [-71.123733, 42.50764], [-71.123554, 42.504831], [-71.130048, 42.505895], [-71.132048, 42.504093], [-71.136354, 42.503631], [-71.138048, 42.501835], [-71.146793, 42.501325], [-71.136048, 42.50096], [-71.135296, 42.502574], [-71.134048, 42.5029], [-71.124048, 42.502472], [-71.122048, 42.500892], [-71.120048, 42.50073], [-71.119303, 42.497325], [-71.120048, 42.492919], [-71.122686, 42.492687], [-71.124048, 42.493945], [-71.124669, 42.493325], [-71.124709, 42.489986], [-71.126048, 42.487399], [-71.130048, 42.490473], [-71.133186, 42.489325], [-71.129667, 42.485707], [-71.130212, 42.483489], [-71.13219, 42.483184], [-71.133548, 42.483826], [-71.134676, 42.485954], [-71.135305, 42.482583], [-71.139344, 42.482621], [-71.141071, 42.481325], [-71.138463, 42.479325], [-71.139562, 42.476839], [-71.142306, 42.475325], [-71.138048, 42.474722], [-71.135621, 42.475752], [-71.134425, 42.474948], [-71.134048, 42.472428], [-71.132048, 42.472191], [-71.130048, 42.473063], [-71.128695, 42.472679], [-71.128542, 42.471325], [-71.128644, 42.469922], [-71.131247, 42.467325], [-71.128984, 42.465325], [-71.130048, 42.463124], [-71.132048, 42.462487], [-71.134048, 42.46338], [-71.136048, 42.461908], [-71.140048, 42.462586], [-71.140727, 42.461325], [-71.140048, 42.46012], [-71.138048, 42.460158], [-71.137154, 42.459325], [-71.141799, 42.457325], [-71.139621, 42.455753], [-71.140766, 42.452044], [-71.141903, 42.451325], [-71.140048, 42.450291], [-71.13934, 42.446618], [-71.142001, 42.445279], [-71.142016, 42.443325], [-71.143934, 42.441325], [-71.14424, 42.439518], [-71.146313, 42.43959], [-71.147098, 42.433325], [-71.149174, 42.431325], [-71.1474, 42.429973], [-71.146904, 42.426469], [-71.143716, 42.422993], [-71.148397, 42.422976], [-71.149142, 42.426231], [-71.150447, 42.427325], [-71.149307, 42.430066], [-71.152637, 42.432737], [-71.153259, 42.435325], [-71.151538, 42.437325], [-71.152048, 42.441619], [-71.153312, 42.438589], [-71.158043, 42.43732], [-71.159103, 42.43438], [-71.161343, 42.43403], [-71.162327, 42.435325], [-71.161944, 42.431222], [-71.166048, 42.430159], [-71.167669, 42.431705], [-71.172708, 42.433325], [-71.171133, 42.437325], [-71.172048, 42.438326], [-71.176048, 42.436934], [-71.17848, 42.433325], [-71.182048, 42.432446], [-71.183062, 42.433325], [-71.182087, 42.435325], [-71.188773, 42.436601], [-71.190048, 42.43891], [-71.192048, 42.439343], [-71.190739, 42.436634], [-71.191017, 42.434295], [-71.194896, 42.433325], [-71.197391, 42.430668], [-71.200048, 42.430233], [-71.202048, 42.428641], [-71.204417, 42.428957], [-71.206939, 42.433325], [-71.207338, 42.437325], [-71.210595, 42.436779], [-71.213887, 42.437486], [-71.214048, 42.438445], [-71.217249, 42.436526], [-71.220048, 42.436], [-71.222048, 42.436496], [-71.223533, 42.434811], [-71.226048, 42.434649], [-71.226846, 42.435325], [-71.225224, 42.437325], [-71.226431, 42.441325], [-71.224689, 42.443325], [-71.228048, 42.447451], [-71.230048, 42.445729], [-71.234048, 42.444509], [-71.238048, 42.44755], [-71.238547, 42.445325], [-71.237375, 42.440653], [-71.242048, 42.44013], [-71.244311, 42.441589], [-71.245926, 42.439325], [-71.244158, 42.437325], [-71.246048, 42.436126], [-71.246957, 42.436416], [-71.247474, 42.438752], [-71.246395, 42.439325], [-71.249045, 42.440329], [-71.252048, 42.44499], [-71.254048, 42.444164], [-71.254709, 42.444664], [-71.255499, 42.453325], [-71.257291, 42.454082], [-71.257699, 42.455325], [-71.257019, 42.460296], [-71.255836, 42.461114], [-71.255563, 42.46284], [-71.254009, 42.463286], [-71.254048, 42.464086], [-71.25417, 42.463447], [-71.256048, 42.463585], [-71.256315, 42.461593], [-71.258606, 42.461325], [-71.258553, 42.453325], [-71.256778, 42.451325], [-71.256902, 42.448179], [-71.258019, 42.445296], [-71.259873, 42.445151], [-71.259479, 42.439325], [-71.262048, 42.436343], [-71.264048, 42.437757], [-71.268542, 42.438832], [-71.270048, 42.44198], [-71.272802, 42.443325], [-71.275879, 42.443494], [-71.276048, 42.445043], [-71.276445, 42.443325], [-71.273346, 42.440028], [-71.273168, 42.438445], [-71.276048, 42.43833], [-71.278048, 42.436728], [-71.280048, 42.439293], [-71.282048, 42.438287], [-71.292048, 42.438467], [-71.294048, 42.440388], [-71.296714, 42.44066], [-71.298048, 42.443262], [-71.300048, 42.442112], [-71.302048, 42.443918], [-71.305349, 42.444025], [-71.306048, 42.445599], [-71.308865, 42.445325], [-71.306122, 42.445251], [-71.306048, 42.442998], [-71.302299, 42.443074], [-71.302184, 42.441189], [-71.298627, 42.440746], [-71.298244, 42.439129], [-71.294641, 42.438733], [-71.294259, 42.437114], [-71.292048, 42.436184], [-71.284048, 42.436907], [-71.282048, 42.434849], [-71.274048, 42.434732], [-71.272432, 42.432942], [-71.269407, 42.431966], [-71.268048, 42.43007], [-71.265534, 42.429839], [-71.262048, 42.425954], [-71.260048, 42.426322], [-71.258865, 42.425325], [-71.260048, 42.418166], [-71.262048, 42.419235], [-71.267617, 42.419325], [-71.266525, 42.418848], [-71.266048, 42.416387], [-71.262048, 42.413966], [-71.260048, 42.414301], [-71.259281, 42.413325], [-71.259401, 42.407325], [-71.26143, 42.405325], [-71.26198, 42.399258], [-71.270458, 42.397325], [-71.263816, 42.395325], [-71.264031, 42.385325], [-71.265767, 42.385045], [-71.266867, 42.383325], [-71.268048, 42.378148], [-71.278048, 42.382057], [-71.280048, 42.379395], [-71.284048, 42.380144], [-71.286048, 42.378324], [-71.288815, 42.380093], [-71.290598, 42.379325], [-71.29134, 42.376618], [-71.296048, 42.37579], [-71.297521, 42.377325], [-71.297919, 42.383454], [-71.299715, 42.383658], [-71.305778, 42.377325], [-71.304888, 42.374485], [-71.303371, 42.374003], [-71.301394, 42.371325], [-71.304048, 42.3702], [-71.306598, 42.370775], [-71.305301, 42.374073], [-71.308215, 42.375159], [-71.310048, 42.379282], [-71.312773, 42.379325], [-71.313403, 42.377325], [-71.31088, 42.375325], [-71.312486, 42.373325], [-71.310161, 42.371325], [-71.314048, 42.368519], [-71.316048, 42.370105], [-71.318601, 42.369878], [-71.319694, 42.369325], [-71.319433, 42.36671], [-71.322862, 42.36614], [-71.326048, 42.364145], [-71.330386, 42.363663], [-71.332298, 42.361325], [-71.328445, 42.360929], [-71.327734, 42.359639], [-71.328048, 42.357508], [-71.329957, 42.357235], [-71.331334, 42.353325], [-71.331433, 42.340711], [-71.332048, 42.34028], [-71.333316, 42.341325], [-71.334048, 42.344984], [-71.338048, 42.343248], [-71.33922, 42.338498], [-71.340697, 42.337325], [-71.339437, 42.330715], [-71.340871, 42.330503], [-71.342048, 42.332435], [-71.342771, 42.330049], [-71.344198, 42.329476], [-71.345619, 42.326896], [-71.347466, 42.326744], [-71.348048, 42.325287], [-71.350048, 42.325881], [-71.351013, 42.32429], [-71.355328, 42.323325], [-71.356401, 42.321325], [-71.353897, 42.321175], [-71.352048, 42.322093], [-71.350048, 42.320679], [-71.348048, 42.320794], [-71.348048, 42.319257], [-71.357773, 42.31905], [-71.357858, 42.317136], [-71.361025, 42.316302], [-71.362048, 42.314857], [-71.365442, 42.314719], [-71.365587, 42.312865], [-71.368048, 42.312492], [-71.369929, 42.313325], [-71.369986, 42.315263], [-71.36799, 42.315384], [-71.370048, 42.315439], [-71.370617, 42.313895], [-71.373757, 42.313034], [-71.378048, 42.312986], [-71.378751, 42.314623], [-71.381069, 42.316304], [-71.384048, 42.316708], [-71.386048, 42.314775], [-71.38838, 42.314993], [-71.392048, 42.318098], [-71.392419, 42.317325], [-71.396048, 42.316599], [-71.416048, 42.316125], [-71.418048, 42.314024], [-71.429937, 42.313325], [-71.430755, 42.312032], [-71.433417, 42.311325], [-71.434714, 42.309992], [-71.440048, 42.309714], [-71.44272, 42.305998], [-71.446249, 42.305527], [-71.44665, 42.303928], [-71.452048, 42.303594], [-71.452645, 42.301922], [-71.472048, 42.301514], [-71.472071, 42.299348], [-71.474082, 42.299325], [-71.472013, 42.299291], [-71.471661, 42.300938], [-71.456048, 42.300398], [-71.452048, 42.301], [-71.451497, 42.302774], [-71.44584, 42.303117], [-71.445346, 42.304624], [-71.441808, 42.305085], [-71.441298, 42.306575], [-71.437385, 42.308662], [-71.432048, 42.30883], [-71.430048, 42.310773], [-71.424048, 42.310583], [-71.422048, 42.312512], [-71.416048, 42.312351], [-71.414048, 42.314528], [-71.395833, 42.31354], [-71.396217, 42.311495], [-71.400488, 42.309766], [-71.402369, 42.307646], [-71.401898, 42.305325], [-71.404926, 42.303325], [-71.406048, 42.301304], [-71.400048, 42.30138], [-71.399044, 42.299325], [-71.396048, 42.299104], [-71.394048, 42.300572], [-71.392048, 42.299846], [-71.390481, 42.301325], [-71.390466, 42.303743], [-71.386048, 42.303944], [-71.380048, 42.301236], [-71.378761, 42.308039], [-71.376048, 42.308401], [-71.372048, 42.310476], [-71.364048, 42.310162], [-71.362048, 42.311972], [-71.359154, 42.312431], [-71.358048, 42.313995], [-71.355052, 42.314329], [-71.354048, 42.315728], [-71.344416, 42.315694], [-71.344048, 42.317629], [-71.342048, 42.316641], [-71.340048, 42.316736], [-71.340067, 42.319344], [-71.336391, 42.319669], [-71.336112, 42.321389], [-71.334107, 42.321384], [-71.33419, 42.323467], [-71.332339, 42.323617], [-71.330832, 42.325325], [-71.328516, 42.325793], [-71.327838, 42.327535], [-71.326707, 42.327325], [-71.326901, 42.323325], [-71.333209, 42.321325], [-71.330048, 42.318845], [-71.326574, 42.3188], [-71.323804, 42.317325], [-71.326048, 42.316853], [-71.32716, 42.314437], [-71.330048, 42.312942], [-71.328137, 42.311236], [-71.326048, 42.311682], [-71.324048, 42.311123], [-71.323187, 42.312464], [-71.321014, 42.31236], [-71.320319, 42.309596], [-71.321267, 42.309325], [-71.319579, 42.307795], [-71.317081, 42.307325], [-71.323911, 42.305325], [-71.320048, 42.303641], [-71.316048, 42.30425], [-71.312032, 42.303309], [-71.308048, 42.303892], [-71.303296, 42.300078], [-71.294048, 42.299212], [-71.292632, 42.301325], [-71.293077, 42.302297], [-71.294048, 42.301915], [-71.294837, 42.302536], [-71.294487, 42.303765], [-71.292875, 42.303325], [-71.293031, 42.302343], [-71.290812, 42.300561], [-71.288048, 42.300038], [-71.283057, 42.302335], [-71.282048, 42.303974], [-71.281026, 42.303325], [-71.280679, 42.299325], [-71.278048, 42.298056], [-71.274048, 42.298844], [-71.268048, 42.298645], [-71.263749, 42.295624], [-71.2595, 42.295873], [-71.258478, 42.294895], [-71.258048, 42.29031], [-71.253713, 42.29099], [-71.251072, 42.290302], [-71.250813, 42.28809], [-71.254268, 42.287325], [-71.252048, 42.284608], [-71.248048, 42.286503], [-71.244048, 42.284863], [-71.240048, 42.286499], [-71.237519, 42.285854], [-71.237558, 42.283325], [-71.236048, 42.281621], [-71.234048, 42.28279], [-71.230048, 42.279871], [-71.226048, 42.283438], [-71.218197, 42.281325], [-71.219525, 42.277325], [-71.215313, 42.274061], [-71.215152, 42.27243], [-71.216774, 42.270051], [-71.218048, 42.269702], [-71.220997, 42.270377], [-71.222048, 42.271705], [-71.224542, 42.271325], [-71.223303, 42.270071], [-71.223692, 42.267325], [-71.216048, 42.263211], [-71.212048, 42.263078], [-71.210645, 42.259325], [-71.21274, 42.257325], [-71.213078, 42.251325], [-71.211471, 42.249902], [-71.209749, 42.245325], [-71.21153, 42.241325], [-71.210048, 42.240636], [-71.204663, 42.24071], [-71.20226, 42.239113], [-71.200273, 42.2391], [-71.200048, 42.236932], [-71.196125, 42.237248], [-71.196048, 42.236405], [-71.19604, 42.237334], [-71.197892, 42.237481], [-71.19926, 42.238113], [-71.199562, 42.239325], [-71.201549, 42.239825], [-71.202048, 42.242951], [-71.208757, 42.248617], [-71.209061, 42.251325], [-71.210811, 42.253325], [-71.20904, 42.255325], [-71.208659, 42.259937], [-71.205484, 42.261889], [-71.204048, 42.262124], [-71.202048, 42.260301], [-71.199332, 42.260042], [-71.196379, 42.256995], [-71.191545, 42.256822], [-71.191034, 42.257325], [-71.193592, 42.257781], [-71.196837, 42.260536], [-71.195938, 42.263436], [-71.200048, 42.264185], [-71.200925, 42.265325], [-71.200117, 42.267395], [-71.194048, 42.268322], [-71.192048, 42.269965], [-71.189656, 42.269717], [-71.188713, 42.265325], [-71.187082, 42.264292], [-71.182279, 42.257325], [-71.182506, 42.255784], [-71.184048, 42.254504], [-71.188574, 42.255852], [-71.190342, 42.25562], [-71.189311, 42.253325], [-71.19077, 42.248603], [-71.189618, 42.247756], [-71.184048, 42.249633], [-71.179179, 42.248195], [-71.177948, 42.245425], [-71.179068, 42.241325], [-71.178048, 42.23773], [-71.177515, 42.238793], [-71.175791, 42.239068], [-71.174768, 42.242046], [-71.168048, 42.242459], [-71.166767, 42.243325], [-71.167859, 42.245325], [-71.165542, 42.248819], [-71.166519, 42.251325], [-71.164048, 42.25465], [-71.160938, 42.252435], [-71.158734, 42.247325], [-71.154537, 42.244836], [-71.152048, 42.245051], [-71.150048, 42.243747], [-71.148048, 42.244287], [-71.146048, 42.245716], [-71.144973, 42.24825], [-71.142515, 42.248858], [-71.139549, 42.247325], [-71.139796, 42.245074], [-71.141606, 42.243325], [-71.138048, 42.242516], [-71.135638, 42.243735], [-71.134048, 42.242291], [-71.132048, 42.242226], [-71.131858, 42.243515], [-71.133391, 42.245325], [-71.128048, 42.248669], [-71.127241, 42.252518], [-71.119039, 42.256316], [-71.115651, 42.256928], [-71.112048, 42.259841], [-71.102048, 42.258467], [-71.094048, 42.259036], [-71.090168, 42.263325], [-71.090915, 42.267325], [-71.087374, 42.267999], [-71.081058, 42.266316], [-71.080265, 42.265325], [-71.080979, 42.261325], [-71.080048, 42.260226], [-71.076048, 42.263985], [-71.073773, 42.2636], [-71.072048, 42.262038], [-71.070048, 42.262606], [-71.067097, 42.259325], [-71.068048, 42.257059], [-71.057659, 42.255714], [-71.057429, 42.251325], [-71.056415, 42.250958], [-71.054048, 42.25051], [-71.050926, 42.252203], [-71.048048, 42.251973], [-71.046271, 42.253548], [-71.04406, 42.253325], [-71.044561, 42.247325], [-71.046191, 42.245183], [-71.042048, 42.24354], [-71.040048, 42.244632], [-71.038972, 42.244402], [-71.037391, 42.243325], [-71.039166, 42.241325], [-71.038048, 42.241064], [-71.036048, 42.24087], [-71.034048, 42.242542], [-71.031443, 42.241931], [-71.030469, 42.241325], [-71.030666, 42.237943], [-71.032048, 42.237282], [-71.028048, 42.237158], [-71.026048, 42.238505], [-71.024048, 42.234888], [-71.02361, 42.239325], [-71.025144, 42.241325], [-71.024695, 42.243325], [-71.030169, 42.245205], [-71.030903, 42.247325], [-71.028345, 42.251325], [-71.030245, 42.253325], [-71.029726, 42.255325], [-71.032048, 42.256856], [-71.03521, 42.257325], [-71.035773, 42.261325], [-71.034048, 42.263051], [-71.031925, 42.263203], [-71.032814, 42.267325], [-71.030048, 42.269424], [-71.024048, 42.266508], [-71.021164, 42.266441], [-71.02037, 42.267325], [-71.024908, 42.273325], [-71.023417, 42.274695], [-71.019948, 42.275226], [-71.020142, 42.27742], [-71.014048, 42.276029], [-71.010779, 42.277325], [-71.012937, 42.278436], [-71.013495, 42.279879], [-71.016629, 42.280745], [-71.018517, 42.282857], [-71.01864, 42.285325], [-71.0206, 42.287325], [-71.020671, 42.291325], [-71.018048, 42.294196], [-71.016048, 42.294692], [-71.014048, 42.293468], [-71.012847, 42.294125], [-71.010698, 42.297325], [-71.012108, 42.299266], [-71.012048, 42.301956], [-71.014048, 42.301871], [-71.021558, 42.294836], [-71.024048, 42.294525], [-71.025167, 42.295325], [-71.025021, 42.297325], [-71.026048, 42.29838], [-71.030342, 42.299032], [-71.032048, 42.301191], [-71.034311, 42.299325], [-71.034785, 42.291325], [-71.033587, 42.289787], [-71.033546, 42.287325], [-71.035779, 42.285056], [-71.038277, 42.285097], [-71.036506, 42.287325], [-71.036572, 42.291325], [-71.039151, 42.294223], [-71.040048, 42.294671], [-71.042048, 42.292838], [-71.042525, 42.294848], [-71.044205, 42.295169], [-71.04425, 42.297528], [-71.042836, 42.298114], [-71.042442, 42.299325], [-71.042836, 42.300537], [-71.046048, 42.300986], [-71.046283, 42.303325], [-71.044504, 42.303782], [-71.044048, 42.307693], [-71.040966, 42.308244], [-71.040387, 42.309665], [-71.034647, 42.309925], [-71.034251, 42.311528], [-71.032643, 42.31192], [-71.03243, 42.316943], [-71.034048, 42.318764], [-71.036221, 42.317153], [-71.036644, 42.320729], [-71.040229, 42.321144], [-71.040664, 42.32271], [-71.042225, 42.323148], [-71.042556, 42.324818], [-71.046184, 42.32519], [-71.046234, 42.327325], [-71.030568, 42.327846], [-71.030225, 42.329503], [-71.026646, 42.329923], [-71.026048, 42.331651], [-71.020801, 42.332078], [-71.020801, 42.334573], [-71.022271, 42.335102], [-71.022048, 42.335688], [-71.018834, 42.336111], [-71.018048, 42.337744], [-71.014048, 42.337828], [-71.01331, 42.338587], [-71.014048, 42.340906], [-71.020048, 42.341794], [-71.02063, 42.345325], [-71.022652, 42.348722], [-71.026048, 42.349048], [-71.026608, 42.350766], [-71.02822, 42.351325], [-71.026399, 42.351677], [-71.026167, 42.353445], [-71.024412, 42.353689], [-71.024048, 42.355552], [-71.016582, 42.355859], [-71.016582, 42.358792], [-71.02021, 42.359164], [-71.020563, 42.36081], [-71.022187, 42.361186], [-71.022242, 42.363325], [-71.021717, 42.361656], [-71.019936, 42.361438], [-71.019705, 42.359668], [-71.016391, 42.359668], [-71.016217, 42.363325], [-71.014388, 42.363666], [-71.01439, 42.368983], [-71.016164, 42.369209], [-71.016413, 42.37096], [-71.02421, 42.371487], [-71.022404, 42.371681], [-71.022162, 42.37344], [-71.020404, 42.373682], [-71.020167, 42.375444], [-71.018424, 42.375702], [-71.018174, 42.377452], [-71.01646, 42.377737], [-71.016048, 42.379543], [-71.010549, 42.379827], [-71.010211, 42.381488], [-71.008656, 42.381933], [-71.008048, 42.38354], [-71.007488, 42.381885], [-71.002048, 42.381611], [-71.001397, 42.379977], [-71.000048, 42.379651], [-70.996681, 42.379958], [-70.995829, 42.381544], [-70.995255, 42.380118], [-70.993803, 42.37957], [-70.993659, 42.377325], [-70.997065, 42.376343], [-70.997272, 42.371325], [-70.992048, 42.368383], [-70.984048, 42.368199], [-70.982048, 42.369819], [-70.972048, 42.370387], [-70.970215, 42.371325], [-70.969902, 42.373325], [-70.972695, 42.376678], [-70.971363, 42.383325], [-70.972015, 42.387358], [-70.974048, 42.388026], [-70.976048, 42.390212], [-70.978048, 42.390569], [-70.980432, 42.392942], [-70.980939, 42.396435], [-70.982434, 42.397325], [-70.982868, 42.402506], [-70.988264, 42.403109], [-70.988779, 42.406594], [-70.990426, 42.407325], [-70.988532, 42.409325], [-70.988615, 42.413325], [-70.986673, 42.415325], [-70.986474, 42.417751], [-70.983153, 42.421325], [-70.98269, 42.425968], [-70.978933, 42.43021], [-70.976048, 42.430253], [-70.975217, 42.432495], [-70.973837, 42.433115], [-70.974048, 42.43473], [-70.976746, 42.434024], [-70.977447, 42.432725], [-70.980838, 42.432115], [-70.983578, 42.428855], [-70.990403, 42.427681], [-70.989339, 42.426034], [-70.989536, 42.423325], [-70.992048, 42.421433], [-70.994048, 42.422349], [-71.000048, 42.422724], [-71.00038, 42.423325], [-70.998743, 42.42402], [-70.998288, 42.427565], [-70.99678, 42.428058], [-70.996299, 42.429577], [-70.992861, 42.432138], [-70.992329, 42.435607], [-70.99083, 42.436108], [-70.98836, 42.439637], [-70.984774, 42.441325], [-70.984401, 42.443678], [-70.977957, 42.447234], [-70.977014, 42.449325], [-70.977845, 42.453122], [-70.976079, 42.453325], [-70.978048, 42.453502], [-70.980048, 42.451443], [-70.982982, 42.452391], [-70.984048, 42.453771], [-70.987412, 42.453962], [-70.988469, 42.454905], [-70.995925, 42.453448], [-71.000048, 42.45879], [-71.005252, 42.460122], [-71.007566, 42.463325], [-71.005522, 42.465325], [-71.0073, 42.466074], [-71.008048, 42.467746], [-71.012289, 42.469084], [-71.014048, 42.470495], [-71.016048, 42.46798], [-71.018048, 42.467758], [-71.020594, 42.468779], [-71.020546, 42.471325], [-71.018256, 42.473325], [-71.019633, 42.47374], [-71.019643, 42.479325], [-71.016958, 42.486236], [-71.015548, 42.487325], [-71.016048, 42.491045], [-71.016354, 42.489632], [-71.018177, 42.489455], [-71.019058, 42.484335], [-71.024048, 42.482634], [-71.026048, 42.479668], [-71.027173, 42.479325], [-71.025574, 42.477799], [-71.025643, 42.470921], [-71.027471, 42.471325], [-71.028048, 42.475217], [-71.029844, 42.473122], [-71.034048, 42.472469], [-71.034523, 42.471801], [-71.032518, 42.470856], [-71.031138, 42.467325], [-71.032376, 42.465325], [-71.030713, 42.463325], [-71.03452, 42.462853], [-71.036456, 42.465325], [-71.036048, 42.467695], [-71.039697, 42.467325], [-71.044048, 42.462257], [-71.046048, 42.462602], [-71.050048, 42.461582], [-71.052822, 42.459325], [-71.051748, 42.457625], [-71.050048, 42.457954], [-71.046048, 42.456107], [-71.044662, 42.45794], [-71.042048, 42.456584], [-71.040048, 42.458312], [-71.038377, 42.456997], [-71.035028, 42.456346], [-71.034048, 42.45483], [-71.028048, 42.456272], [-71.027053, 42.455325], [-71.027159, 42.452436], [-71.031839, 42.447325], [-71.033383, 42.44666], [-71.034742, 42.446631], [-71.036048, 42.447936], [-71.040543, 42.447325], [-71.038048, 42.446593], [-71.037072, 42.445325], [-71.040767, 42.444044], [-71.044048, 42.440656], [-71.046048, 42.439812], [-71.048048, 42.442455], [-71.050048, 42.442374], [-71.05143, 42.433325], [-71.056048, 42.430051], [-71.058048, 42.424008], [-71.064048, 42.427288], [-71.066048, 42.427444], [-71.067494, 42.429325], [-71.066743, 42.431325], [-71.067987, 42.433325], [-71.066669, 42.435325], [-71.072568, 42.445325], [-71.071107, 42.448267], [-71.072158, 42.449435], [-71.070936, 42.448437], [-71.067436, 42.451325], [-71.06856, 42.452814], [-71.068358, 42.455325], [-71.071532, 42.459325], [-71.068515, 42.463325], [-71.070344, 42.46503], [-71.072152, 42.465325], [-71.072558, 42.466816], [-71.076048, 42.46654], [-71.080048, 42.468347], [-71.080995, 42.465325], [-71.080083, 42.463325], [-71.083684, 42.458961], [-71.086048, 42.458913], [-71.08685, 42.460523], [-71.090272, 42.461101], [-71.090281, 42.463558], [-71.088825, 42.464103], [-71.088437, 42.465325], [-71.088973, 42.466401], [-71.094399, 42.467325], [-71.09115, 42.468427], [-71.091317, 42.471325], [-71.090048, 42.473811], [-71.088125, 42.473248], [-71.086048, 42.470921], [-71.079998, 42.471325], [-71.081438, 42.471936], [-71.082048, 42.473419], [-71.084849, 42.474524], [-71.087425, 42.477325], [-71.087234, 42.480511], [-71.085343, 42.481325], [-71.087416, 42.481957], [-71.090048, 42.484208], [-71.09195, 42.483227], [-71.094048, 42.484999], [-71.096681, 42.484692], [-71.097518, 42.485325], [-71.097049, 42.486326], [-71.095338, 42.487325], [-71.098048, 42.488901], [-71.100048, 42.491991], [-71.102048, 42.49179], [-71.106048, 42.49496], [-71.110259, 42.493536], [-71.112392, 42.49367], [-71.114048, 42.492261], [-71.116048, 42.492024], [-71.116706, 42.497325], [-71.114048, 42.500167], [-71.103903, 42.499471], [-71.100048, 42.497256], [-71.10018, 42.501325], [-71.098048, 42.504256], [-71.09361, 42.504887], [-71.0935, 42.508777], [-71.091885, 42.509162], [-71.091439, 42.512716], [-71.090048, 42.513185], [-71.090048, 42.514778], [-71.090325, 42.513602], [-71.092048, 42.513603], [-71.092542, 42.50982], [-71.094263, 42.509541], [-71.09456, 42.507325], [-71.096048, 42.505929], [-71.102048, 42.506341], [-71.104048, 42.50719], [-71.105315, 42.505325], [-71.108048, 42.504827], [-71.110048, 42.502508], [-71.114048, 42.502473], [-71.11527, 42.504104], [-71.118593, 42.50478], [-71.12088, 42.507325], [-71.121257, 42.510116], [-71.133452, 42.521325], [-71.133531, 42.523842], [-71.135401, 42.527325], [-71.135276, 42.533325], [-71.132354, 42.535325], [-71.131334, 42.537325], [-71.133179, 42.539325], [-71.133397, 42.543325], [-71.135821, 42.543552], [-71.136048, 42.55058]]], &quot;type&quot;: &quot;Polygon&quot;}, &quot;id&quot;: &quot;0&quot;, &quot;properties&quot;: {&quot;color&quot;: &quot;#bf4040&quot;, &quot;contour&quot;: 30, &quot;fill&quot;: &quot;#bf4040&quot;, &quot;fill-opacity&quot;: 0.33, &quot;fillColor&quot;: &quot;#bf4040&quot;, &quot;fillOpacity&quot;: 0.33, &quot;metric&quot;: &quot;time&quot;, &quot;opacity&quot;: 0.33}, &quot;type&quot;: &quot;Feature&quot;}], &quot;type&quot;: &quot;FeatureCollection&quot;});\n",
       "\n",
       "        \n",
       "    \n",
       "            geo_json_f8bf7e7b138d9cc92b8c6f80818205c9.addTo(map_594870516462a80eab661b71bf3e83fb);\n",
       "        \n",
       "    \n",
       "            var marker_98ed2bf6a8ec261615086c460ba278c0 = L.marker(\n",
       "                [42.3598924785708, -71.14693763457419],\n",
       "                {\n",
       "}\n",
       "            ).addTo(map_594870516462a80eab661b71bf3e83fb);\n",
       "        \n",
       "    \n",
       "            var icon_c529657de930cb8669d0cddc5ddbcbc7 = L.AwesomeMarkers.icon(\n",
       "                {\n",
       "  &quot;markerColor&quot;: &quot;blue&quot;,\n",
       "  &quot;iconColor&quot;: &quot;white&quot;,\n",
       "  &quot;icon&quot;: &quot;info-sign&quot;,\n",
       "  &quot;prefix&quot;: &quot;glyphicon&quot;,\n",
       "  &quot;extraClasses&quot;: &quot;fa-rotate-0&quot;,\n",
       "}\n",
       "            );\n",
       "            marker_98ed2bf6a8ec261615086c460ba278c0.setIcon(icon_c529657de930cb8669d0cddc5ddbcbc7);\n",
       "        \n",
       "    \n",
       "        var popup_99fff8ccc2390c1327f8d2edf7a80252 = L.popup({\n",
       "  &quot;maxWidth&quot;: &quot;100%&quot;,\n",
       "});\n",
       "\n",
       "        \n",
       "            \n",
       "                var html_ea24974c7739d5733090865fb3806233 = $(`&lt;div id=&quot;html_ea24974c7739d5733090865fb3806233&quot; style=&quot;width: 100.0%; height: 100.0%;&quot;&gt;&lt;b&gt;Total night‑time population&lt;br&gt;within 30 min:&lt;/b&gt;&lt;br&gt;1,626,418&lt;/div&gt;`)[0];\n",
       "                popup_99fff8ccc2390c1327f8d2edf7a80252.setContent(html_ea24974c7739d5733090865fb3806233);\n",
       "            \n",
       "        \n",
       "\n",
       "        marker_98ed2bf6a8ec261615086c460ba278c0.bindPopup(popup_99fff8ccc2390c1327f8d2edf7a80252)\n",
       "        ;\n",
       "\n",
       "        \n",
       "    \n",
       "    \n",
       "            var layer_control_05aa38213d3f784ebc3674c68880ab93_layers = {\n",
       "                base_layers : {\n",
       "                    &quot;cartodbpositron&quot; : tile_layer_da708156d297b044ae07554bd2fb6363,\n",
       "                },\n",
       "                overlays :  {\n",
       "                    &quot;30\\u2011min driving isochrone&quot; : geo_json_f8bf7e7b138d9cc92b8c6f80818205c9,\n",
       "                },\n",
       "            };\n",
       "            let layer_control_05aa38213d3f784ebc3674c68880ab93 = L.control.layers(\n",
       "                layer_control_05aa38213d3f784ebc3674c68880ab93_layers.base_layers,\n",
       "                layer_control_05aa38213d3f784ebc3674c68880ab93_layers.overlays,\n",
       "                {\n",
       "  &quot;position&quot;: &quot;topright&quot;,\n",
       "  &quot;collapsed&quot;: true,\n",
       "  &quot;autoZIndex&quot;: true,\n",
       "}\n",
       "            ).addTo(map_594870516462a80eab661b71bf3e83fb);\n",
       "\n",
       "        \n",
       "&lt;/script&gt;\n",
       "&lt;/html&gt;\" style=\"position:absolute;width:100%;height:100%;left:0;top:0;border:none !important;\" allowfullscreen webkitallowfullscreen mozallowfullscreen></iframe></div></div>"
      ],
      "text/plain": [
       "<folium.folium.Map at 0x1105f7020>"
      ]
     },
     "metadata": {},
     "output_type": "display_data"
    },
    {
     "name": "stdout",
     "output_type": "stream",
     "text": [
      "▼ National Portrait Gallery\n"
     ]
    },
    {
     "data": {
      "text/html": [
       "<div style=\"width:100%;\"><div style=\"position:relative;width:100%;height:0;padding-bottom:60%;\"><span style=\"color:#565656\">Make this Notebook Trusted to load map: File -> Trust Notebook</span><iframe srcdoc=\"&lt;!DOCTYPE html&gt;\n",
       "&lt;html&gt;\n",
       "&lt;head&gt;\n",
       "    \n",
       "    &lt;meta http-equiv=&quot;content-type&quot; content=&quot;text/html; charset=UTF-8&quot; /&gt;\n",
       "    \n",
       "        &lt;script&gt;\n",
       "            L_NO_TOUCH = false;\n",
       "            L_DISABLE_3D = false;\n",
       "        &lt;/script&gt;\n",
       "    \n",
       "    &lt;style&gt;html, body {width: 100%;height: 100%;margin: 0;padding: 0;}&lt;/style&gt;\n",
       "    &lt;style&gt;#map {position:absolute;top:0;bottom:0;right:0;left:0;}&lt;/style&gt;\n",
       "    &lt;script src=&quot;https://cdn.jsdelivr.net/npm/leaflet@1.9.3/dist/leaflet.js&quot;&gt;&lt;/script&gt;\n",
       "    &lt;script src=&quot;https://code.jquery.com/jquery-3.7.1.min.js&quot;&gt;&lt;/script&gt;\n",
       "    &lt;script src=&quot;https://cdn.jsdelivr.net/npm/bootstrap@5.2.2/dist/js/bootstrap.bundle.min.js&quot;&gt;&lt;/script&gt;\n",
       "    &lt;script src=&quot;https://cdnjs.cloudflare.com/ajax/libs/Leaflet.awesome-markers/2.0.2/leaflet.awesome-markers.js&quot;&gt;&lt;/script&gt;\n",
       "    &lt;link rel=&quot;stylesheet&quot; href=&quot;https://cdn.jsdelivr.net/npm/leaflet@1.9.3/dist/leaflet.css&quot;/&gt;\n",
       "    &lt;link rel=&quot;stylesheet&quot; href=&quot;https://cdn.jsdelivr.net/npm/bootstrap@5.2.2/dist/css/bootstrap.min.css&quot;/&gt;\n",
       "    &lt;link rel=&quot;stylesheet&quot; href=&quot;https://netdna.bootstrapcdn.com/bootstrap/3.0.0/css/bootstrap-glyphicons.css&quot;/&gt;\n",
       "    &lt;link rel=&quot;stylesheet&quot; href=&quot;https://cdn.jsdelivr.net/npm/@fortawesome/fontawesome-free@6.2.0/css/all.min.css&quot;/&gt;\n",
       "    &lt;link rel=&quot;stylesheet&quot; href=&quot;https://cdnjs.cloudflare.com/ajax/libs/Leaflet.awesome-markers/2.0.2/leaflet.awesome-markers.css&quot;/&gt;\n",
       "    &lt;link rel=&quot;stylesheet&quot; href=&quot;https://cdn.jsdelivr.net/gh/python-visualization/folium/folium/templates/leaflet.awesome.rotate.min.css&quot;/&gt;\n",
       "    \n",
       "            &lt;meta name=&quot;viewport&quot; content=&quot;width=device-width,\n",
       "                initial-scale=1.0, maximum-scale=1.0, user-scalable=no&quot; /&gt;\n",
       "            &lt;style&gt;\n",
       "                #map_b5884aeb10b7bfe796d4df4b4c4dc1b1 {\n",
       "                    position: relative;\n",
       "                    width: 100.0%;\n",
       "                    height: 100.0%;\n",
       "                    left: 0.0%;\n",
       "                    top: 0.0%;\n",
       "                }\n",
       "                .leaflet-container { font-size: 1rem; }\n",
       "            &lt;/style&gt;\n",
       "        \n",
       "&lt;/head&gt;\n",
       "&lt;body&gt;\n",
       "    \n",
       "    \n",
       "            &lt;div class=&quot;folium-map&quot; id=&quot;map_b5884aeb10b7bfe796d4df4b4c4dc1b1&quot; &gt;&lt;/div&gt;\n",
       "        \n",
       "&lt;/body&gt;\n",
       "&lt;script&gt;\n",
       "    \n",
       "    \n",
       "            var map_b5884aeb10b7bfe796d4df4b4c4dc1b1 = L.map(\n",
       "                &quot;map_b5884aeb10b7bfe796d4df4b4c4dc1b1&quot;,\n",
       "                {\n",
       "                    center: [38.863409004899225, -77.048044770616],\n",
       "                    crs: L.CRS.EPSG3857,\n",
       "                    ...{\n",
       "  &quot;zoom&quot;: 11,\n",
       "  &quot;zoomControl&quot;: true,\n",
       "  &quot;preferCanvas&quot;: false,\n",
       "}\n",
       "\n",
       "                }\n",
       "            );\n",
       "\n",
       "            \n",
       "\n",
       "        \n",
       "    \n",
       "            var tile_layer_3fc25b791c7c01fb2bd1d6f8d923afc7 = L.tileLayer(\n",
       "                &quot;https://{s}.basemaps.cartocdn.com/light_all/{z}/{x}/{y}{r}.png&quot;,\n",
       "                {\n",
       "  &quot;minZoom&quot;: 0,\n",
       "  &quot;maxZoom&quot;: 20,\n",
       "  &quot;maxNativeZoom&quot;: 20,\n",
       "  &quot;noWrap&quot;: false,\n",
       "  &quot;attribution&quot;: &quot;\\u0026copy; \\u003ca href=\\&quot;https://www.openstreetmap.org/copyright\\&quot;\\u003eOpenStreetMap\\u003c/a\\u003e contributors \\u0026copy; \\u003ca href=\\&quot;https://carto.com/attributions\\&quot;\\u003eCARTO\\u003c/a\\u003e&quot;,\n",
       "  &quot;subdomains&quot;: &quot;abcd&quot;,\n",
       "  &quot;detectRetina&quot;: false,\n",
       "  &quot;tms&quot;: false,\n",
       "  &quot;opacity&quot;: 1,\n",
       "}\n",
       "\n",
       "            );\n",
       "        \n",
       "    \n",
       "            tile_layer_3fc25b791c7c01fb2bd1d6f8d923afc7.addTo(map_b5884aeb10b7bfe796d4df4b4c4dc1b1);\n",
       "        \n",
       "    \n",
       "        function geo_json_13b5ae930fc164ad61823c8b10e1273c_styler(feature) {\n",
       "            switch(feature.id) {\n",
       "                default:\n",
       "                    return {&quot;color&quot;: &quot;yellow&quot;, &quot;fill&quot;: false, &quot;weight&quot;: 3};\n",
       "            }\n",
       "        }\n",
       "\n",
       "        function geo_json_13b5ae930fc164ad61823c8b10e1273c_onEachFeature(feature, layer) {\n",
       "            layer.on({\n",
       "            });\n",
       "        };\n",
       "        var geo_json_13b5ae930fc164ad61823c8b10e1273c = L.geoJson(null, {\n",
       "                onEachFeature: geo_json_13b5ae930fc164ad61823c8b10e1273c_onEachFeature,\n",
       "            \n",
       "                style: geo_json_13b5ae930fc164ad61823c8b10e1273c_styler,\n",
       "            ...{\n",
       "}\n",
       "        });\n",
       "\n",
       "        function geo_json_13b5ae930fc164ad61823c8b10e1273c_add (data) {\n",
       "            geo_json_13b5ae930fc164ad61823c8b10e1273c\n",
       "                .addData(data);\n",
       "        }\n",
       "            geo_json_13b5ae930fc164ad61823c8b10e1273c_add({&quot;bbox&quot;: [-77.346425, 38.656352, -76.716215, 39.019859], &quot;features&quot;: [{&quot;bbox&quot;: [-77.346425, 38.656352, -76.716215, 39.019859], &quot;geometry&quot;: {&quot;coordinates&quot;: [[[-76.859083, 39.019859], [-76.859736, 39.014387], [-76.862143, 39.013735], [-76.861589, 39.009735], [-76.863658, 39.008309], [-76.864501, 39.005152], [-76.866514, 39.003735], [-76.86575, 39.001735], [-76.867083, 39.00044], [-76.870064, 39.001735], [-76.873083, 39.006006], [-76.877081, 39.005733], [-76.877163, 39.003735], [-76.878277, 39.002929], [-76.881874, 39.002525], [-76.883083, 39.001633], [-76.884988, 39.003735], [-76.884251, 39.005735], [-76.889203, 39.007616], [-76.891214, 39.011866], [-76.892134, 39.011735], [-76.893083, 39.008522], [-76.895083, 39.00764], [-76.896697, 39.007349], [-76.898142, 39.008676], [-76.90003, 39.008681], [-76.898423, 39.001735], [-76.902065, 38.998716], [-76.905514, 38.997735], [-76.905311, 38.995735], [-76.903541, 38.993735], [-76.903243, 38.991894], [-76.904082, 38.991735], [-76.903083, 38.991668], [-76.902549, 38.9932], [-76.901083, 38.993389], [-76.90029, 38.994942], [-76.899083, 38.995203], [-76.895721, 38.993097], [-76.891083, 38.993732], [-76.88996, 38.991735], [-76.890638, 38.98929], [-76.893749, 38.9864], [-76.894443, 38.981094], [-76.896456, 38.977107], [-76.900617, 38.975268], [-76.901083, 38.973241], [-76.903083, 38.97496], [-76.905083, 38.973185], [-76.911083, 38.973074], [-76.911894, 38.973735], [-76.912033, 38.977735], [-76.908344, 38.981735], [-76.908142, 38.984793], [-76.907025, 38.985677], [-76.907083, 38.987845], [-76.907522, 38.986173], [-76.909083, 38.986311], [-76.91021, 38.982861], [-76.913787, 38.980438], [-76.915083, 38.977417], [-76.917083, 38.976572], [-76.919083, 38.977299], [-76.919984, 38.975735], [-76.919609, 38.973735], [-76.91786, 38.972958], [-76.917496, 38.971735], [-76.919083, 38.970232], [-76.9206, 38.970218], [-76.923083, 38.97245], [-76.925083, 38.971937], [-76.926367, 38.972451], [-76.927083, 38.97782], [-76.929083, 38.976162], [-76.929655, 38.969735], [-76.931083, 38.968622], [-76.933083, 38.970726], [-76.935607, 38.971212], [-76.937083, 38.974897], [-76.947083, 38.968483], [-76.949083, 38.9698], [-76.951083, 38.967933], [-76.955083, 38.966964], [-76.959083, 38.964619], [-76.96163, 38.965188], [-76.963088, 38.96773], [-76.96997, 38.968849], [-76.970753, 38.971735], [-76.973083, 38.973106], [-76.973963, 38.972855], [-76.97305, 38.975768], [-76.97374, 38.977735], [-76.977258, 38.979561], [-76.979083, 38.981835], [-76.980583, 38.981234], [-76.981083, 38.979757], [-76.98143, 38.981735], [-76.984823, 38.983996], [-76.987083, 38.98823], [-76.993083, 38.986699], [-76.995083, 38.983978], [-77.001083, 38.983304], [-77.005083, 38.98142], [-77.007083, 38.981467], [-77.008373, 38.982445], [-77.011967, 38.982851], [-77.013083, 38.986978], [-77.015083, 38.986689], [-77.017083, 38.984816], [-77.020708, 38.98611], [-77.020869, 38.98795], [-77.027083, 38.993073], [-77.03133, 38.989981], [-77.03324, 38.989735], [-77.033089, 38.987735], [-77.035083, 38.985142], [-77.037083, 38.986996], [-77.039083, 38.983972], [-77.038258, 38.979735], [-77.038609, 38.971735], [-77.040467, 38.969735], [-77.038723, 38.967735], [-77.042033, 38.966685], [-77.043083, 38.963451], [-77.04577, 38.965735], [-77.045691, 38.969735], [-77.046824, 38.969994], [-77.047948, 38.968599], [-77.048668, 38.963319], [-77.051318, 38.9635], [-77.051843, 38.964975], [-77.053356, 38.965462], [-77.05018, 38.967735], [-77.051573, 38.969735], [-77.051911, 38.978562], [-77.049054, 38.979765], [-77.051083, 38.980088], [-77.053083, 38.981877], [-77.055083, 38.979202], [-77.057441, 38.979735], [-77.056593, 38.975244], [-77.061083, 38.974215], [-77.063083, 38.974172], [-77.065083, 38.97545], [-77.066006, 38.974658], [-77.066154, 38.971735], [-77.067708, 38.969735], [-77.066559, 38.968259], [-77.067083, 38.966963], [-77.073083, 38.964907], [-77.074575, 38.966243], [-77.077083, 38.966849], [-77.077906, 38.963735], [-77.082117, 38.961735], [-77.081176, 38.959735], [-77.085083, 38.957089], [-77.087075, 38.957743], [-77.087066, 38.959735], [-77.089083, 38.960007], [-77.093083, 38.958468], [-77.095083, 38.960044], [-77.098021, 38.958672], [-77.101083, 38.95838], [-77.102545, 38.959735], [-77.100681, 38.961735], [-77.101083, 38.962397], [-77.103736, 38.962387], [-77.105483, 38.961335], [-77.107083, 38.963822], [-77.109083, 38.960839], [-77.11367, 38.961148], [-77.115083, 38.962051], [-77.116856, 38.961735], [-77.113717, 38.957735], [-77.113222, 38.955735], [-77.110367, 38.954451], [-77.110212, 38.951735], [-77.11187, 38.949735], [-77.111482, 38.947336], [-77.107822, 38.944996], [-77.104711, 38.944108], [-77.104747, 38.941398], [-77.105935, 38.940586], [-77.107083, 38.937354], [-77.109902, 38.940917], [-77.111304, 38.941514], [-77.112025, 38.944793], [-77.115468, 38.94535], [-77.11707, 38.951748], [-77.121083, 38.953004], [-77.121807, 38.949735], [-77.123083, 38.948614], [-77.123745, 38.951073], [-77.128919, 38.957735], [-77.129416, 38.961403], [-77.136486, 38.965735], [-77.135793, 38.968444], [-77.134062, 38.969735], [-77.140698, 38.97012], [-77.143083, 38.97148], [-77.145506, 38.971312], [-77.147671, 38.973147], [-77.148792, 38.976026], [-77.150536, 38.976282], [-77.150912, 38.977906], [-77.15274, 38.978079], [-77.153005, 38.979813], [-77.154983, 38.979836], [-77.155083, 38.98176], [-77.156485, 38.981735], [-77.155294, 38.981525], [-77.155321, 38.979735], [-77.1521, 38.976718], [-77.150686, 38.974132], [-77.151083, 38.973229], [-77.152679, 38.974139], [-77.161083, 38.972342], [-77.164571, 38.974247], [-77.173083, 38.974104], [-77.176, 38.974818], [-77.176232, 38.978884], [-77.172826, 38.979477], [-77.172351, 38.981003], [-77.171083, 38.981407], [-77.16699, 38.981641], [-77.166787, 38.983439], [-77.161737, 38.983735], [-77.167083, 38.983838], [-77.167315, 38.981966], [-77.173083, 38.982042], [-77.173587, 38.980239], [-77.177083, 38.980748], [-77.17793, 38.976581], [-77.1794, 38.976052], [-77.180059, 38.97471], [-77.183397, 38.974048], [-77.185083, 38.972569], [-77.195601, 38.972252], [-77.196165, 38.971735], [-77.183083, 38.970825], [-77.181083, 38.972975], [-77.180101, 38.971735], [-77.180001, 38.967735], [-77.182477, 38.965128], [-77.187083, 38.964619], [-77.190796, 38.961448], [-77.193812, 38.960463], [-77.195083, 38.958679], [-77.197083, 38.958492], [-77.199083, 38.956968], [-77.200323, 38.958495], [-77.203771, 38.959047], [-77.204514, 38.960304], [-77.207083, 38.96109], [-77.213083, 38.95994], [-77.213442, 38.959735], [-77.205753, 38.959065], [-77.205928, 38.954579], [-77.208475, 38.954344], [-77.209083, 38.95582], [-77.211309, 38.95596], [-77.213805, 38.954456], [-77.217083, 38.954012], [-77.221083, 38.950976], [-77.223083, 38.956789], [-77.225083, 38.959658], [-77.226013, 38.955735], [-77.227083, 38.954923], [-77.228758, 38.956061], [-77.232433, 38.956385], [-77.233083, 38.957817], [-77.234311, 38.957735], [-77.233179, 38.957639], [-77.233368, 38.95545], [-77.232111, 38.952762], [-77.234828, 38.95148], [-77.23595, 38.952868], [-77.241083, 38.954126], [-77.243083, 38.955795], [-77.245083, 38.954682], [-77.247349, 38.956001], [-77.249083, 38.954417], [-77.251083, 38.957613], [-77.257083, 38.95312], [-77.25822, 38.954598], [-77.258012, 38.956663], [-77.256439, 38.959091], [-77.254229, 38.959735], [-77.257695, 38.961735], [-77.258231, 38.963735], [-77.25747, 38.965735], [-77.259083, 38.965898], [-77.261083, 38.964662], [-77.263083, 38.966222], [-77.2635, 38.961735], [-77.267083, 38.959993], [-77.273083, 38.964428], [-77.27465, 38.963301], [-77.276707, 38.963359], [-77.277085, 38.961733], [-77.277409, 38.963409], [-77.279447, 38.963371], [-77.281083, 38.965312], [-77.291562, 38.968214], [-77.294208, 38.967735], [-77.289643, 38.965175], [-77.287083, 38.965249], [-77.284574, 38.964244], [-77.285115, 38.961735], [-77.283852, 38.960966], [-77.281165, 38.955735], [-77.285409, 38.951735], [-77.285083, 38.950274], [-77.278711, 38.952107], [-77.277152, 38.949666], [-77.27373, 38.949088], [-77.273778, 38.945735], [-77.271827, 38.943735], [-77.272525, 38.943176], [-77.283083, 38.943251], [-77.285083, 38.945082], [-77.289083, 38.944898], [-77.290344, 38.946474], [-77.293454, 38.947364], [-77.294292, 38.948527], [-77.309083, 38.948692], [-77.311083, 38.950366], [-77.317083, 38.948791], [-77.319083, 38.946981], [-77.331083, 38.946188], [-77.334598, 38.94622], [-77.337083, 38.948039], [-77.343052, 38.947766], [-77.343083, 38.94938], [-77.343083, 38.947715], [-77.337656, 38.947162], [-77.337083, 38.945496], [-77.329083, 38.945309], [-77.327083, 38.943164], [-77.325083, 38.943113], [-77.323083, 38.945068], [-77.313552, 38.944204], [-77.312689, 38.945341], [-77.311083, 38.945422], [-77.309083, 38.946893], [-77.299083, 38.946878], [-77.291083, 38.942822], [-77.287083, 38.942439], [-77.285083, 38.940668], [-77.275083, 38.94044], [-77.273083, 38.938211], [-77.271083, 38.938369], [-77.270466, 38.937735], [-77.27053, 38.933182], [-77.272775, 38.931427], [-77.272645, 38.928173], [-77.267083, 38.927376], [-77.263083, 38.930471], [-77.261083, 38.929864], [-77.253083, 38.930465], [-77.251083, 38.931394], [-77.249822, 38.930996], [-77.249416, 38.927403], [-77.247083, 38.925278], [-77.242208, 38.92461], [-77.24058, 38.921232], [-77.242702, 38.915353], [-77.245791, 38.914443], [-77.248024, 38.911735], [-77.245083, 38.911578], [-77.243083, 38.913028], [-77.239083, 38.912478], [-77.237083, 38.913248], [-77.236228, 38.911735], [-77.237083, 38.908928], [-77.235083, 38.908817], [-77.233559, 38.905259], [-77.231083, 38.905083], [-77.229982, 38.903735], [-77.231083, 38.902506], [-77.235083, 38.903334], [-77.239083, 38.902856], [-77.240258, 38.901735], [-77.238664, 38.900154], [-77.238128, 38.897735], [-77.241723, 38.892374], [-77.241668, 38.889151], [-77.241083, 38.888759], [-77.239083, 38.889767], [-77.237766, 38.892418], [-77.233083, 38.894999], [-77.230263, 38.894556], [-77.228934, 38.891735], [-77.229083, 38.890258], [-77.231083, 38.890615], [-77.235252, 38.887904], [-77.237603, 38.884254], [-77.239007, 38.883658], [-77.239083, 38.881484], [-77.252625, 38.881735], [-77.24911, 38.883735], [-77.251803, 38.885735], [-77.248615, 38.889735], [-77.255065, 38.891735], [-77.254748, 38.89407], [-77.261024, 38.895794], [-77.263417, 38.895401], [-77.267083, 38.898955], [-77.27576, 38.896411], [-77.277148, 38.893735], [-77.277083, 38.891482], [-77.279083, 38.889589], [-77.280733, 38.890085], [-77.283083, 38.889185], [-77.284321, 38.884973], [-77.287806, 38.883735], [-77.291083, 38.878364], [-77.295083, 38.878289], [-77.297083, 38.87584], [-77.299942, 38.876877], [-77.302357, 38.880462], [-77.305083, 38.88036], [-77.307083, 38.878445], [-77.309083, 38.878373], [-77.311356, 38.876007], [-77.312978, 38.875735], [-77.310912, 38.873906], [-77.313083, 38.869319], [-77.321083, 38.868717], [-77.323083, 38.866499], [-77.333265, 38.865916], [-77.333691, 38.864342], [-77.335083, 38.864022], [-77.346225, 38.863735], [-77.346425, 38.861735], [-77.345083, 38.861612], [-77.34472, 38.863371], [-77.333083, 38.863414], [-77.331083, 38.865113], [-77.321083, 38.864986], [-77.319083, 38.867001], [-77.311083, 38.866912], [-77.308983, 38.865635], [-77.307339, 38.865735], [-77.307178, 38.867735], [-77.298477, 38.869128], [-77.295083, 38.870995], [-77.291083, 38.870425], [-77.289083, 38.872047], [-77.285078, 38.87174], [-77.279685, 38.871134], [-77.27895, 38.869602], [-77.27823, 38.869735], [-77.277805, 38.872457], [-77.275083, 38.872823], [-77.273172, 38.871735], [-77.272786, 38.870032], [-77.274613, 38.867735], [-77.274016, 38.866802], [-77.271083, 38.866385], [-77.269562, 38.868213], [-77.265083, 38.868679], [-77.264328, 38.866979], [-77.266018, 38.865735], [-77.264033, 38.864785], [-77.261083, 38.864973], [-77.259083, 38.863612], [-77.257083, 38.864093], [-77.255264, 38.863554], [-77.255083, 38.858911], [-77.254788, 38.85944], [-77.248463, 38.859115], [-77.248026, 38.861735], [-77.246484, 38.862334], [-77.24611, 38.859735], [-77.247515, 38.858167], [-77.247932, 38.850584], [-77.249268, 38.849735], [-77.247083, 38.847245], [-77.245514, 38.849735], [-77.246347, 38.851735], [-77.243083, 38.855566], [-77.241455, 38.855363], [-77.2413, 38.853518], [-77.238462, 38.852356], [-77.237676, 38.849735], [-77.238394, 38.847046], [-77.241692, 38.843735], [-77.242385, 38.841735], [-77.240059, 38.840759], [-77.239614, 38.839735], [-77.241083, 38.839026], [-77.242684, 38.839735], [-77.2451, 38.843752], [-77.246088, 38.840739], [-77.252222, 38.838874], [-77.252761, 38.837735], [-77.251748, 38.83707], [-77.246437, 38.835735], [-77.245051, 38.833735], [-77.243954, 38.827735], [-77.247739, 38.82639], [-77.249457, 38.823735], [-77.247611, 38.821735], [-77.249693, 38.819735], [-77.249254, 38.817735], [-77.250623, 38.815735], [-77.255083, 38.813492], [-77.264481, 38.811735], [-77.261939, 38.809735], [-77.258927, 38.809891], [-77.257608, 38.807735], [-77.258941, 38.805735], [-77.249083, 38.802841], [-77.247083, 38.804594], [-77.244109, 38.802709], [-77.243083, 38.799681], [-77.242542, 38.801193], [-77.239231, 38.801588], [-77.237083, 38.799291], [-77.235784, 38.800436], [-77.231083, 38.800978], [-77.229966, 38.802618], [-77.228271, 38.801735], [-77.227083, 38.79734], [-77.225083, 38.796934], [-77.223083, 38.798419], [-77.221083, 38.796585], [-77.214372, 38.796447], [-77.213083, 38.790631], [-77.209497, 38.787321], [-77.205955, 38.786863], [-77.204899, 38.785919], [-77.204758, 38.78341], [-77.207083, 38.78299], [-77.208339, 38.781735], [-77.209083, 38.777365], [-77.210342, 38.780476], [-77.211774, 38.781044], [-77.215083, 38.785036], [-77.217649, 38.785169], [-77.219712, 38.787735], [-77.218072, 38.789735], [-77.227083, 38.791087], [-77.229083, 38.792134], [-77.235083, 38.792233], [-77.236194, 38.791735], [-77.233083, 38.787635], [-77.235403, 38.787415], [-77.237083, 38.788313], [-77.240021, 38.787735], [-77.239257, 38.781735], [-77.243083, 38.77847], [-77.247083, 38.778017], [-77.247728, 38.77509], [-77.247083, 38.773878], [-77.246773, 38.775424], [-77.242046, 38.774698], [-77.239466, 38.776117], [-77.237905, 38.775735], [-77.235131, 38.771687], [-77.229768, 38.767735], [-77.22745, 38.761368], [-77.227562, 38.759735], [-77.229083, 38.758571], [-77.235083, 38.758966], [-77.238283, 38.754934], [-77.241471, 38.754122], [-77.244066, 38.751735], [-77.245217, 38.749868], [-77.245083, 38.748909], [-77.245026, 38.749677], [-77.242807, 38.749735], [-77.242275, 38.750926], [-77.233083, 38.755791], [-77.227083, 38.753593], [-77.225083, 38.756495], [-77.223083, 38.755846], [-77.221083, 38.75655], [-77.218861, 38.755735], [-77.219843, 38.754494], [-77.222512, 38.753735], [-77.220603, 38.752215], [-77.219713, 38.749735], [-77.222884, 38.741735], [-77.221445, 38.737735], [-77.220621, 38.737272], [-77.219083, 38.738698], [-77.218329, 38.736489], [-77.215083, 38.73352], [-77.214422, 38.735735], [-77.213083, 38.736576], [-77.209863, 38.733735], [-77.211873, 38.731735], [-77.210048, 38.729735], [-77.212874, 38.727735], [-77.212784, 38.725436], [-77.215083, 38.724314], [-77.219083, 38.724973], [-77.21915, 38.723735], [-77.215259, 38.721559], [-77.213083, 38.722821], [-77.211328, 38.721735], [-77.212688, 38.721339], [-77.213083, 38.719507], [-77.216495, 38.719147], [-77.218602, 38.715253], [-77.222655, 38.711306], [-77.224209, 38.710861], [-77.225083, 38.70914], [-77.227083, 38.709256], [-77.22882, 38.711735], [-77.229915, 38.711735], [-77.230296, 38.706947], [-77.235083, 38.706204], [-77.237083, 38.706758], [-77.238864, 38.705735], [-77.235709, 38.705109], [-77.233083, 38.703156], [-77.231083, 38.705005], [-77.229372, 38.701735], [-77.227083, 38.700874], [-77.226599, 38.697735], [-77.2287, 38.695735], [-77.228664, 38.687735], [-77.230206, 38.686858], [-77.2319, 38.680551], [-77.235828, 38.678479], [-77.236426, 38.677077], [-77.239662, 38.676313], [-77.241083, 38.674765], [-77.243083, 38.6746], [-77.245083, 38.672683], [-77.251036, 38.673782], [-77.256679, 38.679735], [-77.259027, 38.679735], [-77.258055, 38.678763], [-77.257643, 38.673735], [-77.255551, 38.671735], [-77.265083, 38.670442], [-77.267776, 38.668427], [-77.271083, 38.66811], [-77.271467, 38.666118], [-77.277309, 38.66396], [-77.277474, 38.660125], [-77.279565, 38.659735], [-77.279083, 38.656352], [-77.278909, 38.659561], [-77.27672, 38.659735], [-77.275083, 38.661191], [-77.274725, 38.663376], [-77.272953, 38.663605], [-77.272583, 38.665235], [-77.270897, 38.665548], [-77.270447, 38.667098], [-77.265083, 38.667238], [-77.263083, 38.669164], [-77.257083, 38.668733], [-77.255083, 38.666946], [-77.252476, 38.666342], [-77.25176, 38.663058], [-77.249083, 38.662397], [-77.248587, 38.663735], [-77.249958, 38.667735], [-77.248611, 38.669735], [-77.243083, 38.670894], [-77.241083, 38.672873], [-77.239083, 38.672552], [-77.237083, 38.673943], [-77.23358, 38.674231], [-77.233084, 38.675736], [-77.230189, 38.676841], [-77.230037, 38.679735], [-77.228292, 38.680943], [-77.227598, 38.683735], [-77.225919, 38.685735], [-77.225916, 38.692567], [-77.225499, 38.69415], [-77.223647, 38.695735], [-77.223205, 38.701735], [-77.221518, 38.702169], [-77.221083, 38.703785], [-77.219083, 38.704015], [-77.218769, 38.705735], [-77.220585, 38.706233], [-77.220937, 38.707735], [-77.219293, 38.709945], [-77.217707, 38.710358], [-77.215452, 38.714104], [-77.213825, 38.714476], [-77.213324, 38.715975], [-77.20942, 38.716071], [-77.208722, 38.718096], [-77.206884, 38.717535], [-77.206213, 38.719735], [-77.205329, 38.71998], [-77.205436, 38.722087], [-77.201622, 38.722274], [-77.201083, 38.723995], [-77.199083, 38.724715], [-77.197575, 38.723243], [-77.195083, 38.722563], [-77.193083, 38.724427], [-77.190671, 38.724147], [-77.190662, 38.721313], [-77.193083, 38.719033], [-77.195847, 38.718499], [-77.197634, 38.715735], [-77.196952, 38.711735], [-77.194272, 38.710546], [-77.193083, 38.709033], [-77.191078, 38.70973], [-77.190559, 38.713211], [-77.189083, 38.715037], [-77.187491, 38.720143], [-77.185083, 38.72044], [-77.183083, 38.723106], [-77.181571, 38.721248], [-77.178085, 38.720733], [-77.177083, 38.71568], [-77.174972, 38.715623], [-77.176034, 38.716784], [-77.175083, 38.720286], [-77.173083, 38.718328], [-77.17066, 38.718158], [-77.170542, 38.717193], [-77.173337, 38.713735], [-77.171083, 38.711836], [-77.169718, 38.71437], [-77.167083, 38.715071], [-77.166462, 38.714356], [-77.166237, 38.708888], [-77.172737, 38.707735], [-77.165083, 38.707026], [-77.159083, 38.708085], [-77.158323, 38.709735], [-77.158997, 38.709822], [-77.158898, 38.71392], [-77.162013, 38.714805], [-77.164425, 38.717735], [-77.163593, 38.720245], [-77.161053, 38.721766], [-77.165083, 38.722781], [-77.166511, 38.721163], [-77.169556, 38.721262], [-77.170346, 38.723735], [-77.169083, 38.725904], [-77.173879, 38.726939], [-77.173706, 38.728357], [-77.170944, 38.729596], [-77.169005, 38.733656], [-77.169083, 38.736304], [-77.171083, 38.735227], [-77.173083, 38.736611], [-77.175083, 38.736469], [-77.177083, 38.737585], [-77.175209, 38.739735], [-77.175027, 38.741735], [-77.178425, 38.744393], [-77.179665, 38.748316], [-77.180741, 38.745393], [-77.1816, 38.745735], [-77.181463, 38.747735], [-77.179949, 38.749735], [-77.180557, 38.753209], [-77.179066, 38.753718], [-77.179662, 38.755735], [-77.172589, 38.761241], [-77.172088, 38.765735], [-77.171083, 38.766599], [-77.165083, 38.766391], [-77.163083, 38.763964], [-77.158903, 38.763735], [-77.162298, 38.761735], [-77.163083, 38.756855], [-77.156337, 38.758989], [-77.153083, 38.761401], [-77.14859, 38.759242], [-77.147094, 38.759724], [-77.147083, 38.757727], [-77.147079, 38.759735], [-77.148678, 38.76014], [-77.148781, 38.761735], [-77.148356, 38.763007], [-77.146665, 38.763735], [-77.146472, 38.765123], [-77.139083, 38.765149], [-77.138319, 38.76697], [-77.137083, 38.76746], [-77.133083, 38.766626], [-77.131083, 38.769236], [-77.12992, 38.767735], [-77.130552, 38.765735], [-77.133083, 38.765277], [-77.134284, 38.760936], [-77.139359, 38.760011], [-77.139656, 38.758307], [-77.141149, 38.757735], [-77.138431, 38.756387], [-77.137083, 38.754202], [-77.133083, 38.758968], [-77.129083, 38.759757], [-77.125083, 38.758152], [-77.121083, 38.766419], [-77.119083, 38.764554], [-77.115083, 38.765071], [-77.111083, 38.760991], [-77.109083, 38.762517], [-77.107083, 38.760895], [-77.099083, 38.76037], [-77.098566, 38.759218], [-77.100208, 38.757735], [-77.099083, 38.755163], [-77.095523, 38.758174], [-77.093083, 38.758245], [-77.092477, 38.753735], [-77.0942, 38.751735], [-77.091083, 38.748189], [-77.087656, 38.747163], [-77.087453, 38.745735], [-77.091102, 38.737735], [-77.089089, 38.737729], [-77.088052, 38.738703], [-77.083083, 38.740138], [-77.080675, 38.737735], [-77.081176, 38.735642], [-77.079083, 38.735088], [-77.077083, 38.736803], [-77.074509, 38.735735], [-77.069083, 38.735112], [-77.066881, 38.735533], [-77.065083, 38.737001], [-77.061083, 38.736124], [-77.059083, 38.736884], [-77.058321, 38.734973], [-77.060443, 38.733735], [-77.058428, 38.73239], [-77.057083, 38.729782], [-77.055083, 38.730278], [-77.053083, 38.728441], [-77.051083, 38.72833], [-77.049083, 38.727025], [-77.045083, 38.727668], [-77.044369, 38.726449], [-77.045083, 38.724101], [-77.047942, 38.723735], [-77.047414, 38.721735], [-77.04419, 38.719735], [-77.045322, 38.715973], [-77.047284, 38.715735], [-77.047083, 38.714478], [-77.046814, 38.715465], [-77.045083, 38.71538], [-77.042671, 38.717322], [-77.042057, 38.723735], [-77.040342, 38.724993], [-77.039952, 38.727735], [-77.045166, 38.733735], [-77.043302, 38.735735], [-77.043077, 38.737735], [-77.044404, 38.745735], [-77.047434, 38.751384], [-77.047421, 38.761735], [-77.049733, 38.765085], [-77.051393, 38.765735], [-77.051269, 38.771921], [-77.049635, 38.772286], [-77.049083, 38.7741], [-77.045895, 38.774546], [-77.045489, 38.775735], [-77.045895, 38.776923], [-77.047315, 38.777503], [-77.047666, 38.779152], [-77.049275, 38.779543], [-77.049713, 38.781105], [-77.051258, 38.781561], [-77.051582, 38.783236], [-77.053323, 38.783735], [-77.051551, 38.784203], [-77.051236, 38.785888], [-77.049538, 38.78619], [-77.049243, 38.787894], [-77.047635, 38.788286], [-77.047083, 38.789968], [-77.025083, 38.790027], [-77.023668, 38.790319], [-77.023191, 38.791843], [-77.018763, 38.791735], [-77.018443, 38.790375], [-77.016974, 38.789844], [-77.016946, 38.787735], [-77.018782, 38.787433], [-77.018965, 38.783616], [-77.020652, 38.783303], [-77.021083, 38.781547], [-77.024684, 38.781335], [-77.024877, 38.777528], [-77.028255, 38.776906], [-77.028764, 38.773415], [-77.030418, 38.771735], [-77.030605, 38.767735], [-77.028633, 38.765735], [-77.028505, 38.757735], [-77.026719, 38.756099], [-77.026415, 38.753735], [-77.025083, 38.752403], [-77.020696, 38.752122], [-77.019083, 38.75053], [-77.015083, 38.750607], [-77.013083, 38.748537], [-77.009083, 38.748376], [-77.007725, 38.749735], [-77.007553, 38.753735], [-77.00933, 38.755982], [-77.007795, 38.756446], [-77.007083, 38.758053], [-77.003083, 38.75801], [-77.002796, 38.751735], [-77.004427, 38.751079], [-77.004755, 38.749735], [-77.004427, 38.748391], [-77.002763, 38.747735], [-77.005083, 38.74466], [-77.009083, 38.744844], [-77.011083, 38.742757], [-77.016209, 38.74286], [-77.019749, 38.74107], [-77.021653, 38.741165], [-77.023083, 38.74242], [-77.025743, 38.742395], [-77.027344, 38.739735], [-77.024539, 38.738279], [-77.024204, 38.735735], [-77.027533, 38.732185], [-77.028076, 38.729735], [-77.027083, 38.726939], [-77.019766, 38.736417], [-77.018433, 38.736385], [-77.017083, 38.734334], [-77.015793, 38.736444], [-77.012517, 38.736301], [-77.011845, 38.733735], [-77.013902, 38.732554], [-77.014485, 38.731136], [-77.015892, 38.730926], [-77.017083, 38.732419], [-77.021364, 38.730016], [-77.018144, 38.727735], [-77.022185, 38.723735], [-77.019083, 38.723457], [-77.017083, 38.724954], [-77.009315, 38.717735], [-77.013329, 38.711735], [-77.011146, 38.709735], [-77.015065, 38.707735], [-77.005083, 38.706713], [-77.003083, 38.708584], [-77.000837, 38.707735], [-77.001205, 38.705613], [-76.999647, 38.703171], [-76.995078, 38.701729], [-76.993919, 38.70457], [-76.991083, 38.705023], [-76.990019, 38.702799], [-76.988658, 38.70216], [-76.988278, 38.69493], [-76.989727, 38.694379], [-76.990454, 38.691106], [-76.99456, 38.687211], [-77.000323, 38.685735], [-76.997925, 38.684894], [-76.997602, 38.683735], [-76.997777, 38.682429], [-77.001114, 38.681766], [-77.001092, 38.679726], [-77.001017, 38.681669], [-76.997083, 38.681402], [-76.991083, 38.685887], [-76.989954, 38.688605], [-76.988103, 38.689735], [-76.98586, 38.695735], [-76.985726, 38.703735], [-76.987826, 38.705735], [-76.987083, 38.708406], [-76.983083, 38.707553], [-76.979083, 38.70906], [-76.976569, 38.708249], [-76.975083, 38.701075], [-76.974653, 38.703735], [-76.972421, 38.705735], [-76.972409, 38.708409], [-76.973641, 38.709177], [-76.973679, 38.710331], [-76.97085, 38.711969], [-76.977659, 38.713159], [-76.981542, 38.720193], [-76.97752, 38.721735], [-76.978441, 38.725735], [-76.977083, 38.72742], [-76.975878, 38.72694], [-76.97423, 38.725735], [-76.974126, 38.723735], [-76.976666, 38.721735], [-76.976148, 38.719735], [-76.973237, 38.715581], [-76.97184, 38.715735], [-76.972616, 38.716202], [-76.97274, 38.725392], [-76.970028, 38.73668], [-76.968321, 38.736973], [-76.966535, 38.739186], [-76.96394, 38.739735], [-76.963478, 38.742129], [-76.960512, 38.743164], [-76.960675, 38.746143], [-76.96268, 38.747735], [-76.961903, 38.748555], [-76.957083, 38.748965], [-76.955083, 38.751207], [-76.952878, 38.751529], [-76.954092, 38.753735], [-76.951224, 38.757876], [-76.949083, 38.758701], [-76.942358, 38.759009], [-76.942574, 38.760244], [-76.945794, 38.761025], [-76.9462, 38.762619], [-76.948084, 38.763735], [-76.946275, 38.764543], [-76.945408, 38.76341], [-76.940905, 38.767556], [-76.93641, 38.769735], [-76.938551, 38.772267], [-76.941872, 38.773735], [-76.938696, 38.775347], [-76.936594, 38.777735], [-76.937805, 38.779013], [-76.937715, 38.781735], [-76.939773, 38.783735], [-76.938409, 38.784409], [-76.937828, 38.782991], [-76.934307, 38.782958], [-76.933166, 38.783735], [-76.932303, 38.787735], [-76.931083, 38.788797], [-76.929083, 38.788621], [-76.926703, 38.786115], [-76.925429, 38.781735], [-76.924199, 38.780619], [-76.923897, 38.777735], [-76.925504, 38.775735], [-76.925083, 38.772783], [-76.923083, 38.774337], [-76.921083, 38.778329], [-76.918278, 38.77854], [-76.917083, 38.777655], [-76.913083, 38.779712], [-76.911504, 38.777314], [-76.908153, 38.776665], [-76.908175, 38.774827], [-76.911083, 38.772261], [-76.912977, 38.771735], [-76.911908, 38.769735], [-76.903083, 38.768868], [-76.902146, 38.766797], [-76.906168, 38.763735], [-76.899083, 38.763173], [-76.897083, 38.76059], [-76.890295, 38.758523], [-76.889495, 38.757735], [-76.89395, 38.755735], [-76.888534, 38.751735], [-76.888605, 38.749735], [-76.885664, 38.749154], [-76.885173, 38.747645], [-76.880847, 38.747971], [-76.879484, 38.745334], [-76.879153, 38.737804], [-76.881083, 38.737316], [-76.87896, 38.737611], [-76.878427, 38.743079], [-76.876309, 38.747735], [-76.874386, 38.748432], [-76.873002, 38.745654], [-76.870982, 38.749634], [-76.870974, 38.751626], [-76.869162, 38.751735], [-76.871083, 38.752001], [-76.871893, 38.750545], [-76.873083, 38.750338], [-76.874722, 38.751735], [-76.875083, 38.753684], [-76.875445, 38.751735], [-76.876294, 38.750945], [-76.877611, 38.751207], [-76.877083, 38.753209], [-76.875115, 38.753735], [-76.875705, 38.755113], [-76.877083, 38.755517], [-76.877818, 38.761], [-76.879083, 38.762196], [-76.877875, 38.764526], [-76.872209, 38.76686], [-76.869989, 38.769735], [-76.869923, 38.772575], [-76.865282, 38.775735], [-76.865899, 38.777735], [-76.864712, 38.779364], [-76.864905, 38.781735], [-76.867083, 38.780989], [-76.871083, 38.782306], [-76.877083, 38.782827], [-76.879083, 38.782248], [-76.880538, 38.783735], [-76.880846, 38.785497], [-76.876031, 38.788683], [-76.868631, 38.789735], [-76.877083, 38.790839], [-76.883088, 38.78973], [-76.885083, 38.795687], [-76.887083, 38.797474], [-76.887406, 38.792057], [-76.889083, 38.791054], [-76.894077, 38.792741], [-76.895083, 38.794274], [-76.897106, 38.793712], [-76.897393, 38.797425], [-76.899151, 38.797735], [-76.898434, 38.801085], [-76.896337, 38.801735], [-76.895354, 38.804006], [-76.894094, 38.803735], [-76.893083, 38.801724], [-76.891384, 38.804035], [-76.887083, 38.805202], [-76.881608, 38.809735], [-76.883559, 38.811259], [-76.884331, 38.813735], [-76.882032, 38.815735], [-76.882042, 38.819735], [-76.88105, 38.821701], [-76.878667, 38.821318], [-76.873083, 38.826205], [-76.871083, 38.825062], [-76.869083, 38.826232], [-76.867083, 38.824134], [-76.865436, 38.826087], [-76.862789, 38.82603], [-76.862022, 38.822796], [-76.860621, 38.821735], [-76.861284, 38.815534], [-76.860785, 38.813735], [-76.858309, 38.811735], [-76.857083, 38.802018], [-76.853083, 38.807152], [-76.851083, 38.806273], [-76.849083, 38.803869], [-76.846933, 38.803735], [-76.846206, 38.807735], [-76.847952, 38.809735], [-76.847083, 38.810718], [-76.845083, 38.81095], [-76.844178, 38.81264], [-76.847083, 38.812752], [-76.847803, 38.813735], [-76.847083, 38.814497], [-76.845083, 38.814583], [-76.844025, 38.812793], [-76.843083, 38.812694], [-76.840434, 38.813085], [-76.839083, 38.814123], [-76.837083, 38.811658], [-76.835083, 38.810947], [-76.83245, 38.811102], [-76.831083, 38.812412], [-76.829083, 38.81012], [-76.827083, 38.810627], [-76.824922, 38.809897], [-76.803083, 38.811463], [-76.802903, 38.813555], [-76.799895, 38.813735], [-76.803083, 38.813807], [-76.803204, 38.811856], [-76.821083, 38.812593], [-76.823083, 38.815679], [-76.827083, 38.815212], [-76.829083, 38.816978], [-76.833083, 38.817053], [-76.843083, 38.822527], [-76.845083, 38.821186], [-76.846142, 38.822676], [-76.849538, 38.823735], [-76.844196, 38.824847], [-76.842044, 38.827735], [-76.841523, 38.832174], [-76.839083, 38.83464], [-76.836276, 38.834542], [-76.835083, 38.831895], [-76.834553, 38.836265], [-76.839703, 38.837115], [-76.842555, 38.839735], [-76.842615, 38.841735], [-76.841083, 38.843312], [-76.839083, 38.84305], [-76.837083, 38.844289], [-76.835083, 38.844381], [-76.833083, 38.846933], [-76.831083, 38.846625], [-76.829461, 38.847735], [-76.835083, 38.848445], [-76.837083, 38.846649], [-76.839083, 38.848627], [-76.840424, 38.847076], [-76.841729, 38.847089], [-76.842385, 38.849735], [-76.840985, 38.851735], [-76.84393, 38.852888], [-76.844912, 38.855907], [-76.849083, 38.854679], [-76.849819, 38.853735], [-76.849642, 38.851735], [-76.847726, 38.851092], [-76.84639, 38.848428], [-76.847691, 38.846343], [-76.850675, 38.846144], [-76.850697, 38.848122], [-76.852414, 38.850405], [-76.855083, 38.849994], [-76.855959, 38.850859], [-76.853312, 38.853963], [-76.851446, 38.854098], [-76.851191, 38.855842], [-76.849408, 38.85606], [-76.849593, 38.857735], [-76.847618, 38.859735], [-76.847463, 38.862114], [-76.843083, 38.865931], [-76.839972, 38.864847], [-76.839466, 38.863735], [-76.839495, 38.862146], [-76.841083, 38.861225], [-76.838854, 38.861505], [-76.838466, 38.863735], [-76.837083, 38.864833], [-76.832359, 38.863011], [-76.831495, 38.863323], [-76.830663, 38.861735], [-76.830396, 38.865047], [-76.828899, 38.865735], [-76.829083, 38.867297], [-76.829289, 38.86594], [-76.833083, 38.866037], [-76.834384, 38.866434], [-76.835083, 38.867809], [-76.84221, 38.870608], [-76.842779, 38.884039], [-76.843978, 38.885735], [-76.844513, 38.889735], [-76.844241, 38.890892], [-76.841083, 38.893109], [-76.835083, 38.893537], [-76.834585, 38.895236], [-76.833083, 38.895545], [-76.831223, 38.895595], [-76.831083, 38.894364], [-76.830727, 38.897379], [-76.829308, 38.897735], [-76.833083, 38.899452], [-76.836158, 38.896809], [-76.839479, 38.896131], [-76.841083, 38.894969], [-76.847218, 38.895735], [-76.847083, 38.896624], [-76.845083, 38.896982], [-76.845481, 38.900132], [-76.843083, 38.901329], [-76.841083, 38.899773], [-76.839083, 38.903127], [-76.834367, 38.902451], [-76.833083, 38.900241], [-76.831398, 38.903735], [-76.831672, 38.905735], [-76.835435, 38.912087], [-76.833083, 38.914212], [-76.831083, 38.913304], [-76.829777, 38.913735], [-76.830317, 38.916969], [-76.827848, 38.917735], [-76.831465, 38.918116], [-76.835746, 38.917072], [-76.836524, 38.917735], [-76.835799, 38.92102], [-76.839083, 38.924222], [-76.841442, 38.922093], [-76.845853, 38.922966], [-76.847083, 38.924149], [-76.846483, 38.919735], [-76.849083, 38.919477], [-76.851464, 38.921735], [-76.851597, 38.928248], [-76.850372, 38.928446], [-76.847083, 38.92626], [-76.846303, 38.927735], [-76.847083, 38.93177], [-76.845784, 38.931034], [-76.837083, 38.933049], [-76.835083, 38.930462], [-76.833083, 38.930477], [-76.830908, 38.931735], [-76.834607, 38.936211], [-76.837083, 38.93666], [-76.838344, 38.937735], [-76.837083, 38.943635], [-76.828383, 38.942435], [-76.828245, 38.940897], [-76.831233, 38.939735], [-76.829903, 38.936915], [-76.828905, 38.935913], [-76.826726, 38.935735], [-76.826042, 38.933735], [-76.824144, 38.932674], [-76.823493, 38.929735], [-76.821083, 38.928679], [-76.81876, 38.935735], [-76.820307, 38.939735], [-76.820253, 38.943735], [-76.818003, 38.944654], [-76.805083, 38.944658], [-76.803083, 38.942672], [-76.793083, 38.942938], [-76.789083, 38.942154], [-76.787083, 38.943136], [-76.777083, 38.943218], [-76.775083, 38.942226], [-76.771083, 38.945199], [-76.767083, 38.94428], [-76.765083, 38.945269], [-76.758602, 38.945253], [-76.757083, 38.946369], [-76.753083, 38.946419], [-76.747083, 38.951111], [-76.7421, 38.950718], [-76.741083, 38.949182], [-76.739643, 38.949176], [-76.738577, 38.947228], [-76.737686, 38.947735], [-76.740346, 38.951735], [-76.739083, 38.952735], [-76.71892, 38.953571], [-76.716215, 38.955735], [-76.719121, 38.955773], [-76.719251, 38.953903], [-76.725083, 38.953917], [-76.740172, 38.954646], [-76.743083, 38.956164], [-76.745083, 38.95604], [-76.746569, 38.95322], [-76.749083, 38.952881], [-76.751631, 38.950283], [-76.754427, 38.949735], [-76.755662, 38.948314], [-76.759338, 38.94799], [-76.759852, 38.946503], [-76.767083, 38.946219], [-76.769083, 38.947205], [-76.771083, 38.946319], [-76.775083, 38.94724], [-76.776553, 38.945204], [-76.779083, 38.944271], [-76.781083, 38.945276], [-76.801083, 38.944875], [-76.803083, 38.947248], [-76.819083, 38.946857], [-76.822267, 38.953735], [-76.819083, 38.954483], [-76.814476, 38.953128], [-76.811083, 38.955167], [-76.807842, 38.955735], [-76.809823, 38.957735], [-76.813083, 38.959271], [-76.817083, 38.958373], [-76.819083, 38.956549], [-76.821083, 38.956865], [-76.824152, 38.960666], [-76.829523, 38.963295], [-76.830076, 38.965735], [-76.826916, 38.969735], [-76.827128, 38.97169], [-76.829083, 38.971486], [-76.830483, 38.969134], [-76.833083, 38.968956], [-76.834369, 38.96502], [-76.837717, 38.965101], [-76.839488, 38.967735], [-76.83855, 38.969735], [-76.841089, 38.971735], [-76.839633, 38.974284], [-76.836647, 38.975298], [-76.834789, 38.97744], [-76.834555, 38.979207], [-76.831083, 38.979628], [-76.831083, 38.980535], [-76.831295, 38.979946], [-76.835083, 38.980543], [-76.837056, 38.979735], [-76.839083, 38.977132], [-76.841083, 38.978255], [-76.844611, 38.978207], [-76.845643, 38.979735], [-76.843669, 38.981735], [-76.844563, 38.982255], [-76.849083, 38.983047], [-76.850402, 38.981053], [-76.853083, 38.980833], [-76.855083, 38.98258], [-76.861691, 38.978343], [-76.861122, 38.975735], [-76.861761, 38.974412], [-76.863083, 38.974011], [-76.864496, 38.974322], [-76.866087, 38.976731], [-76.86596, 38.979735], [-76.867083, 38.98087], [-76.873347, 38.981735], [-76.873083, 38.982758], [-76.87013, 38.983735], [-76.873883, 38.984935], [-76.873083, 38.987089], [-76.867083, 38.988022], [-76.863083, 38.985531], [-76.861083, 38.989104], [-76.857083, 38.989315], [-76.855083, 38.987718], [-76.852299, 38.991735], [-76.861083, 38.992397], [-76.864453, 38.995735], [-76.863456, 39.002107], [-76.861083, 39.002362], [-76.860149, 39.003735], [-76.861798, 39.005735], [-76.860647, 39.007298], [-76.860661, 39.011313], [-76.858169, 39.013735], [-76.858959, 39.019611], [-76.857172, 39.019735], [-76.859083, 39.019859]]], &quot;type&quot;: &quot;Polygon&quot;}, &quot;id&quot;: &quot;0&quot;, &quot;properties&quot;: {&quot;color&quot;: &quot;#bf4040&quot;, &quot;contour&quot;: 30, &quot;fill&quot;: &quot;#bf4040&quot;, &quot;fill-opacity&quot;: 0.33, &quot;fillColor&quot;: &quot;#bf4040&quot;, &quot;fillOpacity&quot;: 0.33, &quot;metric&quot;: &quot;time&quot;, &quot;opacity&quot;: 0.33}, &quot;type&quot;: &quot;Feature&quot;}], &quot;type&quot;: &quot;FeatureCollection&quot;});\n",
       "\n",
       "        \n",
       "    \n",
       "            geo_json_13b5ae930fc164ad61823c8b10e1273c.addTo(map_b5884aeb10b7bfe796d4df4b4c4dc1b1);\n",
       "        \n",
       "    \n",
       "            var marker_ad20bd6b4157ad14e24146ec97881778 = L.marker(\n",
       "                [38.863409004899225, -77.048044770616],\n",
       "                {\n",
       "}\n",
       "            ).addTo(map_b5884aeb10b7bfe796d4df4b4c4dc1b1);\n",
       "        \n",
       "    \n",
       "            var icon_8f81c130732d4061f3a7759f52441651 = L.AwesomeMarkers.icon(\n",
       "                {\n",
       "  &quot;markerColor&quot;: &quot;blue&quot;,\n",
       "  &quot;iconColor&quot;: &quot;white&quot;,\n",
       "  &quot;icon&quot;: &quot;info-sign&quot;,\n",
       "  &quot;prefix&quot;: &quot;glyphicon&quot;,\n",
       "  &quot;extraClasses&quot;: &quot;fa-rotate-0&quot;,\n",
       "}\n",
       "            );\n",
       "            marker_ad20bd6b4157ad14e24146ec97881778.setIcon(icon_8f81c130732d4061f3a7759f52441651);\n",
       "        \n",
       "    \n",
       "        var popup_903c8251e7f40ce5d7f42b5c239750e2 = L.popup({\n",
       "  &quot;maxWidth&quot;: &quot;100%&quot;,\n",
       "});\n",
       "\n",
       "        \n",
       "            \n",
       "                var html_e98ebc8b60d0e24b7cfbcfa8e7adf336 = $(`&lt;div id=&quot;html_e98ebc8b60d0e24b7cfbcfa8e7adf336&quot; style=&quot;width: 100.0%; height: 100.0%;&quot;&gt;&lt;b&gt;Total night‑time population&lt;br&gt;within 30 min:&lt;/b&gt;&lt;br&gt;2,068,526&lt;/div&gt;`)[0];\n",
       "                popup_903c8251e7f40ce5d7f42b5c239750e2.setContent(html_e98ebc8b60d0e24b7cfbcfa8e7adf336);\n",
       "            \n",
       "        \n",
       "\n",
       "        marker_ad20bd6b4157ad14e24146ec97881778.bindPopup(popup_903c8251e7f40ce5d7f42b5c239750e2)\n",
       "        ;\n",
       "\n",
       "        \n",
       "    \n",
       "    \n",
       "            var layer_control_74d01787a8d70f49dd4394c6a579a190_layers = {\n",
       "                base_layers : {\n",
       "                    &quot;cartodbpositron&quot; : tile_layer_3fc25b791c7c01fb2bd1d6f8d923afc7,\n",
       "                },\n",
       "                overlays :  {\n",
       "                    &quot;30\\u2011min driving isochrone&quot; : geo_json_13b5ae930fc164ad61823c8b10e1273c,\n",
       "                },\n",
       "            };\n",
       "            let layer_control_74d01787a8d70f49dd4394c6a579a190 = L.control.layers(\n",
       "                layer_control_74d01787a8d70f49dd4394c6a579a190_layers.base_layers,\n",
       "                layer_control_74d01787a8d70f49dd4394c6a579a190_layers.overlays,\n",
       "                {\n",
       "  &quot;position&quot;: &quot;topright&quot;,\n",
       "  &quot;collapsed&quot;: true,\n",
       "  &quot;autoZIndex&quot;: true,\n",
       "}\n",
       "            ).addTo(map_b5884aeb10b7bfe796d4df4b4c4dc1b1);\n",
       "\n",
       "        \n",
       "&lt;/script&gt;\n",
       "&lt;/html&gt;\" style=\"position:absolute;width:100%;height:100%;left:0;top:0;border:none !important;\" allowfullscreen webkitallowfullscreen mozallowfullscreen></iframe></div></div>"
      ],
      "text/plain": [
       "<folium.folium.Map at 0x110377050>"
      ]
     },
     "metadata": {},
     "output_type": "display_data"
    },
    {
     "name": "stdout",
     "output_type": "stream",
     "text": [
      "▼ Museum Of Modern Art Nyc\n"
     ]
    },
    {
     "data": {
      "text/html": [
       "<div style=\"width:100%;\"><div style=\"position:relative;width:100%;height:0;padding-bottom:60%;\"><span style=\"color:#565656\">Make this Notebook Trusted to load map: File -> Trust Notebook</span><iframe srcdoc=\"&lt;!DOCTYPE html&gt;\n",
       "&lt;html&gt;\n",
       "&lt;head&gt;\n",
       "    \n",
       "    &lt;meta http-equiv=&quot;content-type&quot; content=&quot;text/html; charset=UTF-8&quot; /&gt;\n",
       "    \n",
       "        &lt;script&gt;\n",
       "            L_NO_TOUCH = false;\n",
       "            L_DISABLE_3D = false;\n",
       "        &lt;/script&gt;\n",
       "    \n",
       "    &lt;style&gt;html, body {width: 100%;height: 100%;margin: 0;padding: 0;}&lt;/style&gt;\n",
       "    &lt;style&gt;#map {position:absolute;top:0;bottom:0;right:0;left:0;}&lt;/style&gt;\n",
       "    &lt;script src=&quot;https://cdn.jsdelivr.net/npm/leaflet@1.9.3/dist/leaflet.js&quot;&gt;&lt;/script&gt;\n",
       "    &lt;script src=&quot;https://code.jquery.com/jquery-3.7.1.min.js&quot;&gt;&lt;/script&gt;\n",
       "    &lt;script src=&quot;https://cdn.jsdelivr.net/npm/bootstrap@5.2.2/dist/js/bootstrap.bundle.min.js&quot;&gt;&lt;/script&gt;\n",
       "    &lt;script src=&quot;https://cdnjs.cloudflare.com/ajax/libs/Leaflet.awesome-markers/2.0.2/leaflet.awesome-markers.js&quot;&gt;&lt;/script&gt;\n",
       "    &lt;link rel=&quot;stylesheet&quot; href=&quot;https://cdn.jsdelivr.net/npm/leaflet@1.9.3/dist/leaflet.css&quot;/&gt;\n",
       "    &lt;link rel=&quot;stylesheet&quot; href=&quot;https://cdn.jsdelivr.net/npm/bootstrap@5.2.2/dist/css/bootstrap.min.css&quot;/&gt;\n",
       "    &lt;link rel=&quot;stylesheet&quot; href=&quot;https://netdna.bootstrapcdn.com/bootstrap/3.0.0/css/bootstrap-glyphicons.css&quot;/&gt;\n",
       "    &lt;link rel=&quot;stylesheet&quot; href=&quot;https://cdn.jsdelivr.net/npm/@fortawesome/fontawesome-free@6.2.0/css/all.min.css&quot;/&gt;\n",
       "    &lt;link rel=&quot;stylesheet&quot; href=&quot;https://cdnjs.cloudflare.com/ajax/libs/Leaflet.awesome-markers/2.0.2/leaflet.awesome-markers.css&quot;/&gt;\n",
       "    &lt;link rel=&quot;stylesheet&quot; href=&quot;https://cdn.jsdelivr.net/gh/python-visualization/folium/folium/templates/leaflet.awesome.rotate.min.css&quot;/&gt;\n",
       "    \n",
       "            &lt;meta name=&quot;viewport&quot; content=&quot;width=device-width,\n",
       "                initial-scale=1.0, maximum-scale=1.0, user-scalable=no&quot; /&gt;\n",
       "            &lt;style&gt;\n",
       "                #map_28148a8e37105861eed7f5e204f72300 {\n",
       "                    position: relative;\n",
       "                    width: 100.0%;\n",
       "                    height: 100.0%;\n",
       "                    left: 0.0%;\n",
       "                    top: 0.0%;\n",
       "                }\n",
       "                .leaflet-container { font-size: 1rem; }\n",
       "            &lt;/style&gt;\n",
       "        \n",
       "&lt;/head&gt;\n",
       "&lt;body&gt;\n",
       "    \n",
       "    \n",
       "            &lt;div class=&quot;folium-map&quot; id=&quot;map_28148a8e37105861eed7f5e204f72300&quot; &gt;&lt;/div&gt;\n",
       "        \n",
       "&lt;/body&gt;\n",
       "&lt;script&gt;\n",
       "    \n",
       "    \n",
       "            var map_28148a8e37105861eed7f5e204f72300 = L.map(\n",
       "                &quot;map_28148a8e37105861eed7f5e204f72300&quot;,\n",
       "                {\n",
       "                    center: [40.77757604970966, -73.96406871677688],\n",
       "                    crs: L.CRS.EPSG3857,\n",
       "                    ...{\n",
       "  &quot;zoom&quot;: 11,\n",
       "  &quot;zoomControl&quot;: true,\n",
       "  &quot;preferCanvas&quot;: false,\n",
       "}\n",
       "\n",
       "                }\n",
       "            );\n",
       "\n",
       "            \n",
       "\n",
       "        \n",
       "    \n",
       "            var tile_layer_06c51e08ad3c443fd5bd159e18ffd03d = L.tileLayer(\n",
       "                &quot;https://{s}.basemaps.cartocdn.com/light_all/{z}/{x}/{y}{r}.png&quot;,\n",
       "                {\n",
       "  &quot;minZoom&quot;: 0,\n",
       "  &quot;maxZoom&quot;: 20,\n",
       "  &quot;maxNativeZoom&quot;: 20,\n",
       "  &quot;noWrap&quot;: false,\n",
       "  &quot;attribution&quot;: &quot;\\u0026copy; \\u003ca href=\\&quot;https://www.openstreetmap.org/copyright\\&quot;\\u003eOpenStreetMap\\u003c/a\\u003e contributors \\u0026copy; \\u003ca href=\\&quot;https://carto.com/attributions\\&quot;\\u003eCARTO\\u003c/a\\u003e&quot;,\n",
       "  &quot;subdomains&quot;: &quot;abcd&quot;,\n",
       "  &quot;detectRetina&quot;: false,\n",
       "  &quot;tms&quot;: false,\n",
       "  &quot;opacity&quot;: 1,\n",
       "}\n",
       "\n",
       "            );\n",
       "        \n",
       "    \n",
       "            tile_layer_06c51e08ad3c443fd5bd159e18ffd03d.addTo(map_28148a8e37105861eed7f5e204f72300);\n",
       "        \n",
       "    \n",
       "        function geo_json_f1ebf0f2209da3675d41f9cb4be5f960_styler(feature) {\n",
       "            switch(feature.id) {\n",
       "                default:\n",
       "                    return {&quot;color&quot;: &quot;yellow&quot;, &quot;fill&quot;: false, &quot;weight&quot;: 3};\n",
       "            }\n",
       "        }\n",
       "\n",
       "        function geo_json_f1ebf0f2209da3675d41f9cb4be5f960_onEachFeature(feature, layer) {\n",
       "            layer.on({\n",
       "            });\n",
       "        };\n",
       "        var geo_json_f1ebf0f2209da3675d41f9cb4be5f960 = L.geoJson(null, {\n",
       "                onEachFeature: geo_json_f1ebf0f2209da3675d41f9cb4be5f960_onEachFeature,\n",
       "            \n",
       "                style: geo_json_f1ebf0f2209da3675d41f9cb4be5f960_styler,\n",
       "            ...{\n",
       "}\n",
       "        });\n",
       "\n",
       "        function geo_json_f1ebf0f2209da3675d41f9cb4be5f960_add (data) {\n",
       "            geo_json_f1ebf0f2209da3675d41f9cb4be5f960\n",
       "                .addData(data);\n",
       "        }\n",
       "            geo_json_f1ebf0f2209da3675d41f9cb4be5f960_add({&quot;bbox&quot;: [-74.119916, 40.66494, -73.85266, 40.9202], &quot;features&quot;: [{&quot;bbox&quot;: [-74.119916, 40.66494, -73.85266, 40.9202], &quot;geometry&quot;: {&quot;coordinates&quot;: [[[-73.88189, 40.9202], [-73.881937, 40.917758], [-73.883938, 40.917711], [-73.884306, 40.910126], [-73.886047, 40.909867], [-73.886948, 40.907711], [-73.886598, 40.903711], [-73.889006, 40.900827], [-73.894662, 40.900939], [-73.89589, 40.905202], [-73.90589, 40.90452], [-73.90789, 40.902881], [-73.910153, 40.903711], [-73.910674, 40.895711], [-73.91389, 40.89403], [-73.91589, 40.894567], [-73.91789, 40.893241], [-73.919004, 40.889711], [-73.920981, 40.887711], [-73.921281, 40.883711], [-73.922691, 40.882511], [-73.923223, 40.879711], [-73.925278, 40.879099], [-73.925661, 40.877481], [-73.927492, 40.877312], [-73.93076, 40.874581], [-73.931698, 40.871519], [-73.933194, 40.871015], [-73.933723, 40.867543], [-73.935393, 40.867214], [-73.93573, 40.863551], [-73.937414, 40.863235], [-73.937719, 40.861539], [-73.941226, 40.859047], [-73.941745, 40.855565], [-73.943458, 40.855278], [-73.943748, 40.853569], [-73.945469, 40.85329], [-73.94589, 40.851467], [-73.946439, 40.853162], [-73.95589, 40.853412], [-73.960813, 40.855711], [-73.955467, 40.861288], [-73.954814, 40.864634], [-73.953411, 40.865232], [-73.952638, 40.870458], [-73.951128, 40.872949], [-73.949662, 40.873483], [-73.948459, 40.87828], [-73.94523, 40.881051], [-73.944605, 40.884425], [-73.943018, 40.885711], [-73.942823, 40.890643], [-73.939682, 40.893711], [-73.93989, 40.896689], [-73.940075, 40.893896], [-73.94189, 40.893875], [-73.942369, 40.89219], [-73.94418, 40.891711], [-73.944503, 40.887711], [-73.946684, 40.885711], [-73.947198, 40.883018], [-73.951288, 40.881109], [-73.951574, 40.875711], [-73.95525, 40.871711], [-73.955503, 40.867323], [-73.95767, 40.86749], [-73.95789, 40.863622], [-73.958689, 40.863711], [-73.958657, 40.867711], [-73.95989, 40.868029], [-73.96189, 40.867124], [-73.969052, 40.871711], [-73.967167, 40.873711], [-73.968987, 40.877711], [-73.966902, 40.879711], [-73.96738, 40.882221], [-73.97396, 40.879641], [-73.97789, 40.88498], [-73.979647, 40.883467], [-73.98189, 40.882933], [-73.98362, 40.885981], [-73.98789, 40.884656], [-73.992513, 40.889088], [-73.996553, 40.889048], [-73.99789, 40.890063], [-74.000093, 40.889711], [-73.998178, 40.889423], [-73.99789, 40.887395], [-73.99589, 40.886892], [-73.99389, 40.884935], [-73.991176, 40.884425], [-73.988463, 40.881138], [-73.985594, 40.880007], [-73.984667, 40.877711], [-73.99389, 40.8763], [-73.994829, 40.874649], [-73.998678, 40.874499], [-73.99989, 40.872974], [-74.00189, 40.873704], [-74.005134, 40.872955], [-74.006416, 40.871711], [-74.006458, 40.868278], [-74.010436, 40.866257], [-74.022996, 40.865711], [-74.012267, 40.865334], [-74.01195, 40.857651], [-74.011868, 40.857688], [-74.011712, 40.861711], [-74.011504, 40.863325], [-74.010572, 40.864392], [-74.009392, 40.865212], [-74.005527, 40.865348], [-74.000717, 40.870538], [-73.997232, 40.871053], [-73.99589, 40.872428], [-73.99389, 40.872417], [-73.992709, 40.87453], [-73.987242, 40.874359], [-73.985679, 40.873921], [-73.984952, 40.872649], [-73.981487, 40.872114], [-73.978159, 40.867711], [-73.977385, 40.864215], [-73.975939, 40.863711], [-73.976689, 40.862509], [-73.97989, 40.86305], [-73.982018, 40.865583], [-73.991137, 40.863711], [-73.990819, 40.859711], [-73.993027, 40.857711], [-73.991786, 40.851711], [-73.996992, 40.849711], [-73.997421, 40.847711], [-73.995512, 40.843711], [-74.000662, 40.842482], [-73.99989, 40.840799], [-73.99389, 40.840825], [-73.98989, 40.84287], [-73.98589, 40.843494], [-73.986017, 40.845711], [-73.983504, 40.847324], [-73.98189, 40.853653], [-73.97789, 40.853964], [-73.975129, 40.852472], [-73.968354, 40.852175], [-73.966939, 40.851711], [-73.96389, 40.848053], [-73.96298, 40.851711], [-73.95989, 40.852303], [-73.959126, 40.850475], [-73.94989, 40.849989], [-73.949346, 40.848255], [-73.947495, 40.847711], [-73.947699, 40.841711], [-73.949519, 40.84134], [-73.949769, 40.839589], [-73.95153, 40.839351], [-73.951718, 40.833711], [-73.953165, 40.832986], [-73.95378, 40.829601], [-73.957131, 40.828952], [-73.957785, 40.825606], [-73.959579, 40.8254], [-73.959778, 40.823599], [-73.961478, 40.823298], [-73.96189, 40.821507], [-73.963483, 40.821304], [-73.963772, 40.819593], [-73.965503, 40.819324], [-73.965796, 40.815617], [-73.96761, 40.815431], [-73.967798, 40.813618], [-73.969614, 40.813434], [-73.9698, 40.80962], [-73.971621, 40.809442], [-73.971801, 40.807622], [-73.973625, 40.807446], [-73.973803, 40.803624], [-73.975632, 40.803453], [-73.975805, 40.801625], [-73.977635, 40.801456], [-73.977808, 40.797628], [-73.979645, 40.797465], [-73.979809, 40.795629], [-73.981648, 40.795469], [-73.98181, 40.793631], [-73.983652, 40.793472], [-73.983772, 40.789711], [-73.985657, 40.789478], [-73.985814, 40.785634], [-73.987663, 40.785483], [-73.987815, 40.783636], [-73.989666, 40.783487], [-73.989816, 40.781637], [-73.991669, 40.78149], [-73.991818, 40.777638], [-73.993675, 40.777495], [-73.99382, 40.77564], [-73.995678, 40.775498], [-73.995821, 40.771642], [-73.997679, 40.7715], [-73.99789, 40.769604], [-74.003583, 40.769404], [-74.003734, 40.765711], [-74.005649, 40.76547], [-74.00589, 40.763575], [-74.007985, 40.763616], [-74.008177, 40.765424], [-74.011989, 40.765612], [-74.012188, 40.767412], [-74.014231, 40.767711], [-74.014169, 40.769432], [-74.01389, 40.770101], [-74.010899, 40.770719], [-74.009102, 40.772922], [-74.008707, 40.773711], [-74.010243, 40.776063], [-74.005358, 40.783178], [-74.003496, 40.783711], [-74.003114, 40.786487], [-74.00589, 40.786055], [-74.00789, 40.786929], [-74.017552, 40.783373], [-74.020544, 40.783057], [-74.026023, 40.789711], [-74.023529, 40.79135], [-74.02427, 40.794091], [-74.020094, 40.799711], [-74.020848, 40.801711], [-74.023614, 40.801987], [-74.02389, 40.807577], [-74.024238, 40.806059], [-74.02789, 40.803321], [-74.029212, 40.801033], [-74.032353, 40.800174], [-74.03389, 40.798191], [-74.034797, 40.798618], [-74.035142, 40.796963], [-74.036767, 40.796834], [-74.036391, 40.798212], [-74.034911, 40.798731], [-74.033232, 40.801053], [-74.032869, 40.804689], [-74.029416, 40.807237], [-74.029115, 40.810935], [-74.027614, 40.811711], [-74.02789, 40.822216], [-74.028518, 40.812339], [-74.030745, 40.811711], [-74.031211, 40.809032], [-74.034625, 40.806445], [-74.034893, 40.802714], [-74.038729, 40.80055], [-74.04589, 40.793368], [-74.046692, 40.794909], [-74.048357, 40.795711], [-74.048448, 40.797711], [-74.045272, 40.799711], [-74.04589, 40.803856], [-74.047182, 40.803002], [-74.052385, 40.803216], [-74.05589, 40.806485], [-74.057399, 40.805219], [-74.062395, 40.804216], [-74.06589, 40.801341], [-74.068456, 40.804277], [-74.065347, 40.807711], [-74.065477, 40.809711], [-74.063607, 40.809994], [-74.062925, 40.807711], [-74.060713, 40.807711], [-74.060693, 40.811711], [-74.062449, 40.813711], [-74.060772, 40.815711], [-74.060372, 40.820193], [-74.057149, 40.82097], [-74.054872, 40.822693], [-74.052919, 40.826739], [-74.049345, 40.827711], [-74.052239, 40.829362], [-74.052995, 40.831711], [-74.05389, 40.831972], [-74.055098, 40.828919], [-74.059052, 40.824873], [-74.060959, 40.824642], [-74.063897, 40.825711], [-74.064409, 40.821711], [-74.06589, 40.82099], [-74.068014, 40.823711], [-74.068199, 40.827402], [-74.069226, 40.828375], [-74.07389, 40.826149], [-74.075124, 40.826477], [-74.07589, 40.828373], [-74.07989, 40.82838], [-74.08189, 40.830427], [-74.083159, 40.829711], [-74.082307, 40.827711], [-74.07989, 40.827279], [-74.078206, 40.825395], [-74.074968, 40.824633], [-74.069406, 40.818195], [-74.06989, 40.816626], [-74.072467, 40.815711], [-74.07389, 40.809003], [-74.075686, 40.809914], [-74.07789, 40.809786], [-74.078588, 40.811013], [-74.08789, 40.814194], [-74.091354, 40.813174], [-74.093954, 40.813775], [-74.096356, 40.813245], [-74.097068, 40.815711], [-74.09974, 40.817711], [-74.096919, 40.823711], [-74.097972, 40.823793], [-74.098415, 40.822236], [-74.100222, 40.822042], [-74.102374, 40.820195], [-74.10281, 40.815711], [-74.10389, 40.81468], [-74.10789, 40.814936], [-74.109247, 40.816354], [-74.112751, 40.81685], [-74.113529, 40.818072], [-74.117241, 40.81836], [-74.117761, 40.81984], [-74.119779, 40.819822], [-74.11989, 40.820549], [-74.119916, 40.819685], [-74.11816, 40.819441], [-74.11789, 40.817502], [-74.114744, 40.816857], [-74.11389, 40.815192], [-74.11189, 40.815028], [-74.10989, 40.81288], [-74.10789, 40.812687], [-74.106539, 40.811062], [-74.103508, 40.810093], [-74.102272, 40.807329], [-74.09989, 40.806898], [-74.096622, 40.808443], [-74.09389, 40.808334], [-74.09189, 40.809583], [-74.08989, 40.808655], [-74.08346, 40.80814], [-74.082315, 40.807711], [-74.083286, 40.805711], [-74.082786, 40.802815], [-74.079403, 40.802198], [-74.078134, 40.797711], [-74.073144, 40.798964], [-74.07189, 40.800961], [-74.071447, 40.800154], [-74.069698, 40.799903], [-74.069555, 40.797375], [-74.072691, 40.796511], [-74.073413, 40.793234], [-74.076416, 40.792237], [-74.076722, 40.785711], [-74.079418, 40.781711], [-74.07789, 40.781288], [-74.076892, 40.782712], [-74.073441, 40.783711], [-74.074544, 40.785711], [-74.072804, 40.788625], [-74.06789, 40.79145], [-74.065016, 40.787711], [-74.060172, 40.783711], [-74.06389, 40.778057], [-74.066561, 40.777711], [-74.065111, 40.77649], [-74.063748, 40.771568], [-74.06589, 40.771442], [-74.067985, 40.767711], [-74.071102, 40.764923], [-74.07389, 40.76425], [-74.07473, 40.76255], [-74.07989, 40.761958], [-74.080302, 40.760123], [-74.084182, 40.759711], [-74.084333, 40.758153], [-74.086621, 40.757711], [-74.08389, 40.757481], [-74.083813, 40.759634], [-74.07989, 40.759081], [-74.079636, 40.761456], [-74.076221, 40.76138], [-74.07589, 40.75994], [-74.07389, 40.760349], [-74.072893, 40.762713], [-74.06989, 40.76264], [-74.068721, 40.764541], [-74.0654, 40.765221], [-74.061325, 40.768276], [-74.05989, 40.766711], [-74.05789, 40.767049], [-74.057274, 40.766327], [-74.056355, 40.761711], [-74.054565, 40.759711], [-74.057232, 40.755053], [-74.061089, 40.751711], [-74.061801, 40.749711], [-74.060491, 40.74911], [-74.052518, 40.756339], [-74.046601, 40.757711], [-74.046291, 40.760112], [-74.04389, 40.758773], [-74.042375, 40.760196], [-74.039022, 40.760579], [-74.036804, 40.757711], [-74.04189, 40.755525], [-74.04389, 40.75638], [-74.045126, 40.753711], [-74.043722, 40.751879], [-74.045939, 40.749711], [-74.043656, 40.743711], [-74.044837, 40.741711], [-74.04389, 40.739405], [-74.037147, 40.740968], [-74.03389, 40.740266], [-74.03189, 40.740831], [-74.026609, 40.74443], [-74.02196, 40.745711], [-74.023052, 40.746549], [-74.022313, 40.753711], [-74.024236, 40.755711], [-74.022431, 40.756251], [-74.022061, 40.757881], [-74.020415, 40.758235], [-74.01989, 40.760004], [-74.01661, 40.76043], [-74.01589, 40.762419], [-74.011794, 40.761807], [-74.011599, 40.760002], [-74.005831, 40.75977], [-74.007648, 40.759469], [-74.007806, 40.755626], [-74.009634, 40.755455], [-74.009794, 40.749615], [-74.013549, 40.74937], [-74.01353, 40.744071], [-74.011727, 40.743711], [-74.011777, 40.741598], [-74.013524, 40.741345], [-74.013707, 40.739711], [-74.013524, 40.738077], [-74.011719, 40.737711], [-74.011757, 40.731578], [-74.015408, 40.731228], [-74.01589, 40.729434], [-74.02789, 40.729347], [-74.028963, 40.730638], [-74.03405, 40.73155], [-74.033865, 40.733711], [-74.036981, 40.73462], [-74.03789, 40.736061], [-74.039457, 40.736144], [-74.041295, 40.735711], [-74.043172, 40.733711], [-74.052509, 40.731711], [-74.05189, 40.728745], [-74.051493, 40.731314], [-74.04589, 40.730695], [-74.04189, 40.728708], [-74.03789, 40.730204], [-74.03589, 40.728452], [-74.03189, 40.728446], [-74.02989, 40.726096], [-74.01789, 40.726567], [-74.01589, 40.723984], [-74.013733, 40.723868], [-74.013712, 40.719533], [-74.017248, 40.719068], [-74.017579, 40.7134], [-74.019159, 40.711711], [-74.019481, 40.705711], [-74.017704, 40.703896], [-74.017226, 40.698375], [-74.015545, 40.697711], [-74.015515, 40.693711], [-74.01514, 40.692461], [-74.013498, 40.691711], [-74.013059, 40.688542], [-74.009009, 40.686592], [-74.008486, 40.683115], [-74.006883, 40.681711], [-74.006715, 40.678886], [-74.004587, 40.675014], [-74.000606, 40.670995], [-73.996664, 40.668937], [-73.99589, 40.66494], [-73.994843, 40.665711], [-73.995743, 40.665858], [-73.995644, 40.669957], [-73.998439, 40.673161], [-73.99849, 40.675711], [-74.000677, 40.679711], [-74.00189, 40.681406], [-74.004053, 40.681548], [-74.005238, 40.684363], [-74.006873, 40.685711], [-74.007141, 40.68846], [-74.008742, 40.690859], [-74.010164, 40.691437], [-74.010657, 40.694944], [-74.01225, 40.695711], [-74.012057, 40.699878], [-74.006308, 40.700129], [-74.006027, 40.701848], [-74.004293, 40.702114], [-74.004023, 40.703844], [-74.00028, 40.7041], [-73.999746, 40.705855], [-73.99711, 40.702491], [-73.994323, 40.701711], [-73.995021, 40.699711], [-73.991226, 40.694375], [-73.98989, 40.690022], [-73.98589, 40.694622], [-73.98389, 40.691941], [-73.982039, 40.693711], [-73.984205, 40.697396], [-73.984915, 40.701711], [-73.988191, 40.70541], [-73.988032, 40.707852], [-73.98022, 40.708041], [-73.979999, 40.709819], [-73.976207, 40.710027], [-73.975995, 40.711815], [-73.97189, 40.712157], [-73.96989, 40.710342], [-73.963557, 40.707711], [-73.961717, 40.705883], [-73.961597, 40.703418], [-73.963524, 40.701711], [-73.962107, 40.697494], [-73.959095, 40.700915], [-73.958387, 40.704207], [-73.95389, 40.707861], [-73.95189, 40.705861], [-73.94989, 40.705375], [-73.94789, 40.707012], [-73.94589, 40.706402], [-73.94389, 40.709218], [-73.93989, 40.708226], [-73.93589, 40.711707], [-73.93389, 40.710598], [-73.93189, 40.712701], [-73.92589, 40.710721], [-73.915905, 40.713726], [-73.913467, 40.713287], [-73.910452, 40.714273], [-73.90989, 40.715625], [-73.908775, 40.713711], [-73.905207, 40.713028], [-73.902067, 40.715711], [-73.899514, 40.721711], [-73.89478, 40.723711], [-73.88789, 40.724248], [-73.88589, 40.726305], [-73.87989, 40.726535], [-73.87789, 40.728429], [-73.872088, 40.727909], [-73.870568, 40.730389], [-73.86789, 40.730317], [-73.864925, 40.732746], [-73.861844, 40.733711], [-73.86989, 40.735213], [-73.870563, 40.736383], [-73.869353, 40.740248], [-73.87389, 40.743139], [-73.876695, 40.742906], [-73.879206, 40.743711], [-73.880944, 40.747711], [-73.884402, 40.749711], [-73.884781, 40.751711], [-73.884118, 40.753711], [-73.881105, 40.755711], [-73.886655, 40.759711], [-73.881876, 40.763711], [-73.883968, 40.765711], [-73.87989, 40.766444], [-73.878493, 40.765108], [-73.87589, 40.76504], [-73.87189, 40.768266], [-73.867523, 40.768078], [-73.86389, 40.765387], [-73.862142, 40.765459], [-73.86189, 40.764524], [-73.863258, 40.770342], [-73.866896, 40.772705], [-73.87389, 40.772736], [-73.87589, 40.773476], [-73.882864, 40.770684], [-73.88389, 40.769204], [-73.889267, 40.769087], [-73.890136, 40.767465], [-73.892973, 40.770628], [-73.893564, 40.773711], [-73.89589, 40.774656], [-73.89789, 40.77435], [-73.899533, 40.775711], [-73.900404, 40.779197], [-73.90389, 40.783134], [-73.904625, 40.782976], [-73.905156, 40.785711], [-73.907146, 40.788455], [-73.90789, 40.789017], [-73.91389, 40.788451], [-73.914305, 40.795711], [-73.908434, 40.796254], [-73.908065, 40.797885], [-73.906433, 40.798253], [-73.906069, 40.79989], [-73.904466, 40.800287], [-73.90189, 40.804182], [-73.897448, 40.805268], [-73.89789, 40.808092], [-73.89389, 40.806901], [-73.88989, 40.809064], [-73.88763, 40.811971], [-73.888524, 40.815711], [-73.89012, 40.817481], [-73.888182, 40.818002], [-73.88789, 40.819747], [-73.886304, 40.817297], [-73.88273, 40.816551], [-73.88146, 40.817711], [-73.882491, 40.821109], [-73.88189, 40.822307], [-73.877377, 40.822224], [-73.87389, 40.820724], [-73.87189, 40.820743], [-73.86589, 40.824527], [-73.85389, 40.825596], [-73.853834, 40.827654], [-73.85266, 40.827711], [-73.853898, 40.827718], [-73.854031, 40.825852], [-73.85589, 40.825847], [-73.870557, 40.827044], [-73.872643, 40.828464], [-73.873548, 40.825369], [-73.87789, 40.824976], [-73.881742, 40.825711], [-73.879174, 40.827711], [-73.880457, 40.829711], [-73.881401, 40.835711], [-73.881434, 40.837255], [-73.879795, 40.837711], [-73.881746, 40.837855], [-73.882976, 40.834797], [-73.886833, 40.832653], [-73.88789, 40.830185], [-73.88989, 40.829225], [-73.891244, 40.825711], [-73.889056, 40.824545], [-73.889311, 40.823131], [-73.893665, 40.819485], [-73.897872, 40.817692], [-73.898466, 40.815711], [-73.89989, 40.814847], [-73.902115, 40.815936], [-73.906517, 40.815084], [-73.91389, 40.819501], [-73.91989, 40.818324], [-73.921063, 40.819711], [-73.91989, 40.822291], [-73.92246, 40.822281], [-73.92389, 40.821117], [-73.92587, 40.821711], [-73.925051, 40.825711], [-73.926478, 40.827711], [-73.926111, 40.83149], [-73.928068, 40.833533], [-73.92835, 40.835251], [-73.928277, 40.838097], [-73.926397, 40.842218], [-73.92189, 40.84232], [-73.919067, 40.844887], [-73.915921, 40.845711], [-73.92189, 40.846733], [-73.922827, 40.847711], [-73.919749, 40.851569], [-73.91967, 40.853491], [-73.91789, 40.85416], [-73.919964, 40.853785], [-73.920124, 40.851945], [-73.92189, 40.851983], [-73.92312, 40.853711], [-73.921349, 40.855169], [-73.91989, 40.858429], [-73.917118, 40.858939], [-73.917768, 40.863711], [-73.913358, 40.869711], [-73.913482, 40.871711], [-73.91589, 40.872523], [-73.91789, 40.874573], [-73.921509, 40.871329], [-73.92589, 40.87116], [-73.926075, 40.871896], [-73.924458, 40.872279], [-73.924082, 40.873902], [-73.922475, 40.874295], [-73.92189, 40.876011], [-73.91589, 40.876116], [-73.91189, 40.877612], [-73.90789, 40.876412], [-73.907015, 40.876835], [-73.906929, 40.881711], [-73.9006, 40.889711], [-73.899272, 40.893092], [-73.89969, 40.895511], [-73.897733, 40.895868], [-73.89589, 40.894108], [-73.894397, 40.898217], [-73.884947, 40.898767], [-73.88546, 40.909281], [-73.88367, 40.909711], [-73.88379, 40.91761], [-73.881735, 40.917711], [-73.88189, 40.9202]]], &quot;type&quot;: &quot;Polygon&quot;}, &quot;id&quot;: &quot;0&quot;, &quot;properties&quot;: {&quot;color&quot;: &quot;#bf4040&quot;, &quot;contour&quot;: 30, &quot;fill&quot;: &quot;#bf4040&quot;, &quot;fill-opacity&quot;: 0.33, &quot;fillColor&quot;: &quot;#bf4040&quot;, &quot;fillOpacity&quot;: 0.33, &quot;metric&quot;: &quot;time&quot;, &quot;opacity&quot;: 0.33}, &quot;type&quot;: &quot;Feature&quot;}], &quot;type&quot;: &quot;FeatureCollection&quot;});\n",
       "\n",
       "        \n",
       "    \n",
       "            geo_json_f1ebf0f2209da3675d41f9cb4be5f960.addTo(map_28148a8e37105861eed7f5e204f72300);\n",
       "        \n",
       "    \n",
       "            var marker_845fc3b820a116a95911da5f28102f58 = L.marker(\n",
       "                [40.77757604970966, -73.96406871677688],\n",
       "                {\n",
       "}\n",
       "            ).addTo(map_28148a8e37105861eed7f5e204f72300);\n",
       "        \n",
       "    \n",
       "            var icon_e5151a168c70d9f8e70d53cd1f2bcfe3 = L.AwesomeMarkers.icon(\n",
       "                {\n",
       "  &quot;markerColor&quot;: &quot;blue&quot;,\n",
       "  &quot;iconColor&quot;: &quot;white&quot;,\n",
       "  &quot;icon&quot;: &quot;info-sign&quot;,\n",
       "  &quot;prefix&quot;: &quot;glyphicon&quot;,\n",
       "  &quot;extraClasses&quot;: &quot;fa-rotate-0&quot;,\n",
       "}\n",
       "            );\n",
       "            marker_845fc3b820a116a95911da5f28102f58.setIcon(icon_e5151a168c70d9f8e70d53cd1f2bcfe3);\n",
       "        \n",
       "    \n",
       "        var popup_594fcbdc0fda62892ffe7182bd7162a9 = L.popup({\n",
       "  &quot;maxWidth&quot;: &quot;100%&quot;,\n",
       "});\n",
       "\n",
       "        \n",
       "            \n",
       "                var html_0ab82d0d109098db516749ea07812f91 = $(`&lt;div id=&quot;html_0ab82d0d109098db516749ea07812f91&quot; style=&quot;width: 100.0%; height: 100.0%;&quot;&gt;&lt;b&gt;Total night‑time population&lt;br&gt;within 30 min:&lt;/b&gt;&lt;br&gt;2,603,282&lt;/div&gt;`)[0];\n",
       "                popup_594fcbdc0fda62892ffe7182bd7162a9.setContent(html_0ab82d0d109098db516749ea07812f91);\n",
       "            \n",
       "        \n",
       "\n",
       "        marker_845fc3b820a116a95911da5f28102f58.bindPopup(popup_594fcbdc0fda62892ffe7182bd7162a9)\n",
       "        ;\n",
       "\n",
       "        \n",
       "    \n",
       "    \n",
       "            var layer_control_da52129c95288bddefe4198d3ac62a27_layers = {\n",
       "                base_layers : {\n",
       "                    &quot;cartodbpositron&quot; : tile_layer_06c51e08ad3c443fd5bd159e18ffd03d,\n",
       "                },\n",
       "                overlays :  {\n",
       "                    &quot;30\\u2011min driving isochrone&quot; : geo_json_f1ebf0f2209da3675d41f9cb4be5f960,\n",
       "                },\n",
       "            };\n",
       "            let layer_control_da52129c95288bddefe4198d3ac62a27 = L.control.layers(\n",
       "                layer_control_da52129c95288bddefe4198d3ac62a27_layers.base_layers,\n",
       "                layer_control_da52129c95288bddefe4198d3ac62a27_layers.overlays,\n",
       "                {\n",
       "  &quot;position&quot;: &quot;topright&quot;,\n",
       "  &quot;collapsed&quot;: true,\n",
       "  &quot;autoZIndex&quot;: true,\n",
       "}\n",
       "            ).addTo(map_28148a8e37105861eed7f5e204f72300);\n",
       "\n",
       "        \n",
       "&lt;/script&gt;\n",
       "&lt;/html&gt;\" style=\"position:absolute;width:100%;height:100%;left:0;top:0;border:none !important;\" allowfullscreen webkitallowfullscreen mozallowfullscreen></iframe></div></div>"
      ],
      "text/plain": [
       "<folium.folium.Map at 0x1108f0350>"
      ]
     },
     "metadata": {},
     "output_type": "display_data"
    }
   ],
   "source": [
    "\n",
    "\n",
    "for rec in results:\n",
    "    name   = rec[\"origin\"]\n",
    "    iso_fp = OUT_DIR / f\"{name}_30min_iso.geojson\"\n",
    "    \n",
    "    gdf_iso  = gpd.read_file(iso_fp)\n",
    "    centroid = gdf_iso.geometry.iloc[0].centroid\n",
    "    \n",
    "    m = folium.Map(location=[centroid.y, centroid.x],\n",
    "                   zoom_start=11,\n",
    "                   tiles=\"cartodbpositron\")\n",
    "    \n",
    "    folium.GeoJson(\n",
    "        gdf_iso,\n",
    "        name=\"30‑min driving isochrone\",\n",
    "        style_function=lambda _:{\n",
    "            \"color\": \"yellow\",\n",
    "            \"weight\": 3,\n",
    "            \"fill\": False\n",
    "        }\n",
    "    ).add_to(m)\n",
    "    \n",
    "    folium.Marker(\n",
    "        location=[centroid.y, centroid.x],\n",
    "        icon=folium.Icon(color=\"blue\", icon=\"info-sign\"),\n",
    "        popup=f\"<b>Total night‑time population<br>within 30 min:</b><br>{rec['total_pop']:,}\"\n",
    "    ).add_to(m)\n",
    "    \n",
    "    folium.LayerControl().add_to(m)\n",
    "    \n",
    "    print(f\"▼ {name.replace('_', ' ').title()}\")\n",
    "    display(m)\n"
   ]
  },
  {
   "cell_type": "markdown",
   "metadata": {},
   "source": [
    "### NORMALIZE METRICS BY POPULATION, SAVE TO CSV"
   ]
  },
  {
   "cell_type": "code",
   "execution_count": 8,
   "metadata": {},
   "outputs": [
    {
     "name": "stdout",
     "output_type": "stream",
     "text": [
      "✔ Normalised metric table → isochrone_normalised_metrics.csv\n",
      "✔ Composite rankings      → isochrone_weighted_rankings.csv\n"
     ]
    },
    {
     "data": {
      "text/html": [
       "<div>\n",
       "<style scoped>\n",
       "    .dataframe tbody tr th:only-of-type {\n",
       "        vertical-align: middle;\n",
       "    }\n",
       "\n",
       "    .dataframe tbody tr th {\n",
       "        vertical-align: top;\n",
       "    }\n",
       "\n",
       "    .dataframe thead th {\n",
       "        text-align: right;\n",
       "    }\n",
       "</style>\n",
       "<table border=\"1\" class=\"dataframe\">\n",
       "  <thead>\n",
       "    <tr style=\"text-align: right;\">\n",
       "      <th></th>\n",
       "      <th>origin</th>\n",
       "      <th>composite_score</th>\n",
       "      <th>rank_composite</th>\n",
       "    </tr>\n",
       "  </thead>\n",
       "  <tbody>\n",
       "    <tr>\n",
       "      <th>4</th>\n",
       "      <td>museum_of_modern_art_nyc</td>\n",
       "      <td>1.00</td>\n",
       "      <td>1</td>\n",
       "    </tr>\n",
       "    <tr>\n",
       "      <th>0</th>\n",
       "      <td>art_institute_of_chicago</td>\n",
       "      <td>0.80</td>\n",
       "      <td>2</td>\n",
       "    </tr>\n",
       "    <tr>\n",
       "      <th>3</th>\n",
       "      <td>national_portrait_gallery</td>\n",
       "      <td>0.54</td>\n",
       "      <td>3</td>\n",
       "    </tr>\n",
       "    <tr>\n",
       "      <th>2</th>\n",
       "      <td>museum_of_fine_arts_boston</td>\n",
       "      <td>0.46</td>\n",
       "      <td>4</td>\n",
       "    </tr>\n",
       "    <tr>\n",
       "      <th>1</th>\n",
       "      <td>baltimore_museum_of_art</td>\n",
       "      <td>0.20</td>\n",
       "      <td>5</td>\n",
       "    </tr>\n",
       "  </tbody>\n",
       "</table>\n",
       "</div>"
      ],
      "text/plain": [
       "                       origin  composite_score  rank_composite\n",
       "4    museum_of_modern_art_nyc             1.00               1\n",
       "0    art_institute_of_chicago             0.80               2\n",
       "3   national_portrait_gallery             0.54               3\n",
       "2  museum_of_fine_arts_boston             0.46               4\n",
       "1     baltimore_museum_of_art             0.20               5"
      ]
     },
     "execution_count": 8,
     "metadata": {},
     "output_type": "execute_result"
    }
   ],
   "source": [
    "# 1.  Bring population totals into a DataFrame \n",
    "pop_df = pd.DataFrame(results)\n",
    "\n",
    "# 2.  Raw museum metrics \n",
    "raw = pd.DataFrame([\n",
    "    {\"origin\": \"art_institute_of_chicago\",\n",
    "     \"attendance\": 1_230_912,\n",
    "     \"gift_revenue\": 18_500_000,\n",
    "     \"objects_purchased\": 450},\n",
    "\n",
    "    {\"origin\": \"baltimore_museum_of_art\",\n",
    "     \"attendance\": 206_357,\n",
    "     \"gift_revenue\": 3_200_000,\n",
    "     \"objects_purchased\": 120},\n",
    "\n",
    "    {\"origin\": \"museum_of_fine_arts_boston\",\n",
    "     \"attendance\": 849_107,\n",
    "     \"gift_revenue\": 12_000_000,\n",
    "     \"objects_purchased\": 380},\n",
    "\n",
    "    {\"origin\": \"national_portrait_gallery\",\n",
    "     \"attendance\": 1_147_388,\n",
    "     \"gift_revenue\": 15_000_000,\n",
    "     \"objects_purchased\": 340},\n",
    "\n",
    "    {\"origin\": \"museum_of_modern_art_nyc\",\n",
    "     \"attendance\": 2_687_021,\n",
    "     \"gift_revenue\": 45_000_000,\n",
    "     \"objects_purchased\": 900},\n",
    "])\n",
    "\n",
    "# 3.  Merge with population totals \n",
    "df = raw.merge(pop_df, on=\"origin\", how=\"left\")\n",
    "\n",
    "# 4.  Normalise per 1 000 residents \n",
    "for col in [\"attendance\", \"gift_revenue\", \"objects_purchased\"]:\n",
    "    df[f\"{col}_per_1k\"] = df[col] / df[\"total_pop\"] * 1_000\n",
    "\n",
    "# 5.  Rank each normalised metric \n",
    "for col in [\"attendance_per_1k\", \"gift_revenue_per_1k\", \"objects_purchased_per_1k\"]:\n",
    "    df[f\"rank_{col}\"] = df[col].rank(ascending=False, method=\"min\").astype(int)\n",
    "\n",
    "# 6.  Composite score (70 % attendance + 30 % revenue) \n",
    "#     Using normalised per‑1 k values\n",
    "df[\"composite_score\"] = (\n",
    "    0.7 * df[\"attendance_per_1k\"].rank(pct=True) + \n",
    "    0.3 * df[\"gift_revenue_per_1k\"].rank(pct=True)\n",
    ")\n",
    "\n",
    "df[\"rank_composite\"] = df[\"composite_score\"].rank(ascending=False, method=\"min\").astype(int)\n",
    "\n",
    "# 7.  Save detailed metrics & rankings \n",
    "norm_csv = \"isochrone_normalised_metrics.csv\"\n",
    "rank_csv = \"isochrone_weighted_rankings.csv\"\n",
    "\n",
    "# a) full table\n",
    "df.to_csv(norm_csv, index=False,\n",
    "          columns=[\"origin\", \"total_pop\",\n",
    "                   \"attendance\", \"attendance_per_1k\", \"rank_attendance_per_1k\",\n",
    "                   \"gift_revenue\", \"gift_revenue_per_1k\", \"rank_gift_revenue_per_1k\",\n",
    "                   \"objects_purchased\", \"objects_purchased_per_1k\", \"rank_objects_purchased_per_1k\"])\n",
    "\n",
    "# b) composite rankings only\n",
    "df[[\"origin\", \"composite_score\", \"rank_composite\"]].sort_values(\"rank_composite\").to_csv(rank_csv, index=False)\n",
    "\n",
    "print(\"✔ Normalised metric table →\", norm_csv)\n",
    "print(\"✔ Composite rankings      →\", rank_csv)\n",
    "df[[\"origin\", \"composite_score\", \"rank_composite\"]].sort_values(\"rank_composite\")\n"
   ]
  },
  {
   "cell_type": "markdown",
   "metadata": {},
   "source": [
    "### VISUALIZE THE METRICS"
   ]
  },
  {
   "cell_type": "code",
   "execution_count": 9,
   "metadata": {},
   "outputs": [
    {
     "name": "stdout",
     "output_type": "stream",
     "text": [
      "📊  Normalised metrics dtypes:\n",
      "origin                            object\n",
      "total_pop                          int64\n",
      "attendance                         int64\n",
      "attendance_per_1k                float64\n",
      "rank_attendance_per_1k             int64\n",
      "gift_revenue                       int64\n",
      "gift_revenue_per_1k              float64\n",
      "rank_gift_revenue_per_1k           int64\n",
      "objects_purchased                  int64\n",
      "objects_purchased_per_1k         float64\n",
      "rank_objects_purchased_per_1k      int64\n",
      "dtype: object \n",
      "\n",
      "🏆  Weighted rankings dtypes:\n",
      "origin              object\n",
      "composite_score    float64\n",
      "rank_composite       int64\n",
      "dtype: object\n"
     ]
    }
   ],
   "source": [
    "base = Path(\"/Users/riainfitzsimons/Desktop/brooklyn_museum_geo/outputs\")\n",
    "\n",
    "# Load the files\n",
    "df_metrics  = pd.read_csv(base / \"isochrone_normalised_metrics.csv\")\n",
    "df_rankings = pd.read_csv(base / \"isochrone_weighted_rankings.csv\")\n",
    "\n",
    "# Inspect dtypes\n",
    "print(\"📊  Normalised metrics dtypes:\")\n",
    "print(df_metrics.dtypes, \"\\n\")\n",
    "\n",
    "print(\"🏆  Weighted rankings dtypes:\")\n",
    "print(df_rankings.dtypes)"
   ]
  },
  {
   "cell_type": "code",
   "execution_count": 14,
   "metadata": {},
   "outputs": [
    {
     "name": "stdout",
     "output_type": "stream",
     "text": [
      "📄 Data types:\n",
      "origin       object\n",
      "total_pop     int64\n",
      "dtype: object\n"
     ]
    },
    {
     "data": {
      "text/html": [
       "<div>\n",
       "<style scoped>\n",
       "    .dataframe tbody tr th:only-of-type {\n",
       "        vertical-align: middle;\n",
       "    }\n",
       "\n",
       "    .dataframe tbody tr th {\n",
       "        vertical-align: top;\n",
       "    }\n",
       "\n",
       "    .dataframe thead th {\n",
       "        text-align: right;\n",
       "    }\n",
       "</style>\n",
       "<table border=\"1\" class=\"dataframe\">\n",
       "  <thead>\n",
       "    <tr style=\"text-align: right;\">\n",
       "      <th></th>\n",
       "      <th>origin</th>\n",
       "      <th>total_pop</th>\n",
       "    </tr>\n",
       "  </thead>\n",
       "  <tbody>\n",
       "    <tr>\n",
       "      <th>0</th>\n",
       "      <td>art_institute_of_chicago</td>\n",
       "      <td>1205991</td>\n",
       "    </tr>\n",
       "    <tr>\n",
       "      <th>1</th>\n",
       "      <td>baltimore_museum_of_art</td>\n",
       "      <td>1225603</td>\n",
       "    </tr>\n",
       "    <tr>\n",
       "      <th>2</th>\n",
       "      <td>museum_of_fine_arts_boston</td>\n",
       "      <td>1626418</td>\n",
       "    </tr>\n",
       "    <tr>\n",
       "      <th>3</th>\n",
       "      <td>national_portrait_gallery</td>\n",
       "      <td>2068526</td>\n",
       "    </tr>\n",
       "    <tr>\n",
       "      <th>4</th>\n",
       "      <td>museum_of_modern_art_nyc</td>\n",
       "      <td>2603282</td>\n",
       "    </tr>\n",
       "  </tbody>\n",
       "</table>\n",
       "</div>"
      ],
      "text/plain": [
       "                       origin  total_pop\n",
       "0    art_institute_of_chicago    1205991\n",
       "1     baltimore_museum_of_art    1225603\n",
       "2  museum_of_fine_arts_boston    1626418\n",
       "3   national_portrait_gallery    2068526\n",
       "4    museum_of_modern_art_nyc    2603282"
      ]
     },
     "execution_count": 14,
     "metadata": {},
     "output_type": "execute_result"
    }
   ],
   "source": [
    "# Load the population summary CSV\n",
    "csv_path = \"/Users/riainfitzsimons/Desktop/brooklyn_museum_geo/outputs/isochrone_population_summary.csv\"\n",
    "d = pd.read_csv(csv_path)\n",
    "\n",
    "# Display data types\n",
    "print(\"📄 Data types:\")\n",
    "print(d.dtypes)\n",
    "\n",
    "# Optional: preview the data\n",
    "d.head()"
   ]
  },
  {
   "cell_type": "code",
   "execution_count": 17,
   "metadata": {},
   "outputs": [
    {
     "data": {
      "application/vnd.plotly.v1+json": {
       "config": {
        "plotlyServerURL": "https://plot.ly"
       },
       "data": [
        {
         "marker": {
          "color": [
           "rgba(137, 207, 240, 1.0)",
           "rgba(137, 207, 240, 0.875)",
           "rgba(137, 207, 240, 0.75)",
           "rgba(137, 207, 240, 0.625)",
           "rgba(137, 207, 240, 0.5)"
          ]
         },
         "text": {
          "bdata": "AAAAAIncQ0EAAAAALpA/QQAAAAAy0ThBAAAAAIOzMkEAAAAA52YyQQ==",
          "dtype": "f8"
         },
         "textposition": "outside",
         "type": "bar",
         "x": [
          "Museum Of Modern Art Nyc",
          "National Portrait Gallery",
          "Museum Of Fine Arts Boston",
          "Baltimore Museum Of Art",
          "Art Institute Of Chicago"
         ],
         "y": {
          "bdata": "ErknAC6QHwAy0RgAg7MSAOdmEgA=",
          "dtype": "i4"
         }
        }
       ],
       "layout": {
        "margin": {
         "b": 40,
         "l": 40,
         "r": 40,
         "t": 60
        },
        "showlegend": false,
        "template": {
         "data": {
          "bar": [
           {
            "error_x": {
             "color": "rgb(36,36,36)"
            },
            "error_y": {
             "color": "rgb(36,36,36)"
            },
            "marker": {
             "line": {
              "color": "white",
              "width": 0.5
             },
             "pattern": {
              "fillmode": "overlay",
              "size": 10,
              "solidity": 0.2
             }
            },
            "type": "bar"
           }
          ],
          "barpolar": [
           {
            "marker": {
             "line": {
              "color": "white",
              "width": 0.5
             },
             "pattern": {
              "fillmode": "overlay",
              "size": 10,
              "solidity": 0.2
             }
            },
            "type": "barpolar"
           }
          ],
          "carpet": [
           {
            "aaxis": {
             "endlinecolor": "rgb(36,36,36)",
             "gridcolor": "white",
             "linecolor": "white",
             "minorgridcolor": "white",
             "startlinecolor": "rgb(36,36,36)"
            },
            "baxis": {
             "endlinecolor": "rgb(36,36,36)",
             "gridcolor": "white",
             "linecolor": "white",
             "minorgridcolor": "white",
             "startlinecolor": "rgb(36,36,36)"
            },
            "type": "carpet"
           }
          ],
          "choropleth": [
           {
            "colorbar": {
             "outlinewidth": 1,
             "tickcolor": "rgb(36,36,36)",
             "ticks": "outside"
            },
            "type": "choropleth"
           }
          ],
          "contour": [
           {
            "colorbar": {
             "outlinewidth": 1,
             "tickcolor": "rgb(36,36,36)",
             "ticks": "outside"
            },
            "colorscale": [
             [
              0,
              "#440154"
             ],
             [
              0.1111111111111111,
              "#482878"
             ],
             [
              0.2222222222222222,
              "#3e4989"
             ],
             [
              0.3333333333333333,
              "#31688e"
             ],
             [
              0.4444444444444444,
              "#26828e"
             ],
             [
              0.5555555555555556,
              "#1f9e89"
             ],
             [
              0.6666666666666666,
              "#35b779"
             ],
             [
              0.7777777777777778,
              "#6ece58"
             ],
             [
              0.8888888888888888,
              "#b5de2b"
             ],
             [
              1,
              "#fde725"
             ]
            ],
            "type": "contour"
           }
          ],
          "contourcarpet": [
           {
            "colorbar": {
             "outlinewidth": 1,
             "tickcolor": "rgb(36,36,36)",
             "ticks": "outside"
            },
            "type": "contourcarpet"
           }
          ],
          "heatmap": [
           {
            "colorbar": {
             "outlinewidth": 1,
             "tickcolor": "rgb(36,36,36)",
             "ticks": "outside"
            },
            "colorscale": [
             [
              0,
              "#440154"
             ],
             [
              0.1111111111111111,
              "#482878"
             ],
             [
              0.2222222222222222,
              "#3e4989"
             ],
             [
              0.3333333333333333,
              "#31688e"
             ],
             [
              0.4444444444444444,
              "#26828e"
             ],
             [
              0.5555555555555556,
              "#1f9e89"
             ],
             [
              0.6666666666666666,
              "#35b779"
             ],
             [
              0.7777777777777778,
              "#6ece58"
             ],
             [
              0.8888888888888888,
              "#b5de2b"
             ],
             [
              1,
              "#fde725"
             ]
            ],
            "type": "heatmap"
           }
          ],
          "histogram": [
           {
            "marker": {
             "line": {
              "color": "white",
              "width": 0.6
             }
            },
            "type": "histogram"
           }
          ],
          "histogram2d": [
           {
            "colorbar": {
             "outlinewidth": 1,
             "tickcolor": "rgb(36,36,36)",
             "ticks": "outside"
            },
            "colorscale": [
             [
              0,
              "#440154"
             ],
             [
              0.1111111111111111,
              "#482878"
             ],
             [
              0.2222222222222222,
              "#3e4989"
             ],
             [
              0.3333333333333333,
              "#31688e"
             ],
             [
              0.4444444444444444,
              "#26828e"
             ],
             [
              0.5555555555555556,
              "#1f9e89"
             ],
             [
              0.6666666666666666,
              "#35b779"
             ],
             [
              0.7777777777777778,
              "#6ece58"
             ],
             [
              0.8888888888888888,
              "#b5de2b"
             ],
             [
              1,
              "#fde725"
             ]
            ],
            "type": "histogram2d"
           }
          ],
          "histogram2dcontour": [
           {
            "colorbar": {
             "outlinewidth": 1,
             "tickcolor": "rgb(36,36,36)",
             "ticks": "outside"
            },
            "colorscale": [
             [
              0,
              "#440154"
             ],
             [
              0.1111111111111111,
              "#482878"
             ],
             [
              0.2222222222222222,
              "#3e4989"
             ],
             [
              0.3333333333333333,
              "#31688e"
             ],
             [
              0.4444444444444444,
              "#26828e"
             ],
             [
              0.5555555555555556,
              "#1f9e89"
             ],
             [
              0.6666666666666666,
              "#35b779"
             ],
             [
              0.7777777777777778,
              "#6ece58"
             ],
             [
              0.8888888888888888,
              "#b5de2b"
             ],
             [
              1,
              "#fde725"
             ]
            ],
            "type": "histogram2dcontour"
           }
          ],
          "mesh3d": [
           {
            "colorbar": {
             "outlinewidth": 1,
             "tickcolor": "rgb(36,36,36)",
             "ticks": "outside"
            },
            "type": "mesh3d"
           }
          ],
          "parcoords": [
           {
            "line": {
             "colorbar": {
              "outlinewidth": 1,
              "tickcolor": "rgb(36,36,36)",
              "ticks": "outside"
             }
            },
            "type": "parcoords"
           }
          ],
          "pie": [
           {
            "automargin": true,
            "type": "pie"
           }
          ],
          "scatter": [
           {
            "fillpattern": {
             "fillmode": "overlay",
             "size": 10,
             "solidity": 0.2
            },
            "type": "scatter"
           }
          ],
          "scatter3d": [
           {
            "line": {
             "colorbar": {
              "outlinewidth": 1,
              "tickcolor": "rgb(36,36,36)",
              "ticks": "outside"
             }
            },
            "marker": {
             "colorbar": {
              "outlinewidth": 1,
              "tickcolor": "rgb(36,36,36)",
              "ticks": "outside"
             }
            },
            "type": "scatter3d"
           }
          ],
          "scattercarpet": [
           {
            "marker": {
             "colorbar": {
              "outlinewidth": 1,
              "tickcolor": "rgb(36,36,36)",
              "ticks": "outside"
             }
            },
            "type": "scattercarpet"
           }
          ],
          "scattergeo": [
           {
            "marker": {
             "colorbar": {
              "outlinewidth": 1,
              "tickcolor": "rgb(36,36,36)",
              "ticks": "outside"
             }
            },
            "type": "scattergeo"
           }
          ],
          "scattergl": [
           {
            "marker": {
             "colorbar": {
              "outlinewidth": 1,
              "tickcolor": "rgb(36,36,36)",
              "ticks": "outside"
             }
            },
            "type": "scattergl"
           }
          ],
          "scattermap": [
           {
            "marker": {
             "colorbar": {
              "outlinewidth": 1,
              "tickcolor": "rgb(36,36,36)",
              "ticks": "outside"
             }
            },
            "type": "scattermap"
           }
          ],
          "scattermapbox": [
           {
            "marker": {
             "colorbar": {
              "outlinewidth": 1,
              "tickcolor": "rgb(36,36,36)",
              "ticks": "outside"
             }
            },
            "type": "scattermapbox"
           }
          ],
          "scatterpolar": [
           {
            "marker": {
             "colorbar": {
              "outlinewidth": 1,
              "tickcolor": "rgb(36,36,36)",
              "ticks": "outside"
             }
            },
            "type": "scatterpolar"
           }
          ],
          "scatterpolargl": [
           {
            "marker": {
             "colorbar": {
              "outlinewidth": 1,
              "tickcolor": "rgb(36,36,36)",
              "ticks": "outside"
             }
            },
            "type": "scatterpolargl"
           }
          ],
          "scatterternary": [
           {
            "marker": {
             "colorbar": {
              "outlinewidth": 1,
              "tickcolor": "rgb(36,36,36)",
              "ticks": "outside"
             }
            },
            "type": "scatterternary"
           }
          ],
          "surface": [
           {
            "colorbar": {
             "outlinewidth": 1,
             "tickcolor": "rgb(36,36,36)",
             "ticks": "outside"
            },
            "colorscale": [
             [
              0,
              "#440154"
             ],
             [
              0.1111111111111111,
              "#482878"
             ],
             [
              0.2222222222222222,
              "#3e4989"
             ],
             [
              0.3333333333333333,
              "#31688e"
             ],
             [
              0.4444444444444444,
              "#26828e"
             ],
             [
              0.5555555555555556,
              "#1f9e89"
             ],
             [
              0.6666666666666666,
              "#35b779"
             ],
             [
              0.7777777777777778,
              "#6ece58"
             ],
             [
              0.8888888888888888,
              "#b5de2b"
             ],
             [
              1,
              "#fde725"
             ]
            ],
            "type": "surface"
           }
          ],
          "table": [
           {
            "cells": {
             "fill": {
              "color": "rgb(237,237,237)"
             },
             "line": {
              "color": "white"
             }
            },
            "header": {
             "fill": {
              "color": "rgb(217,217,217)"
             },
             "line": {
              "color": "white"
             }
            },
            "type": "table"
           }
          ]
         },
         "layout": {
          "annotationdefaults": {
           "arrowhead": 0,
           "arrowwidth": 1
          },
          "autotypenumbers": "strict",
          "coloraxis": {
           "colorbar": {
            "outlinewidth": 1,
            "tickcolor": "rgb(36,36,36)",
            "ticks": "outside"
           }
          },
          "colorscale": {
           "diverging": [
            [
             0,
             "rgb(103,0,31)"
            ],
            [
             0.1,
             "rgb(178,24,43)"
            ],
            [
             0.2,
             "rgb(214,96,77)"
            ],
            [
             0.3,
             "rgb(244,165,130)"
            ],
            [
             0.4,
             "rgb(253,219,199)"
            ],
            [
             0.5,
             "rgb(247,247,247)"
            ],
            [
             0.6,
             "rgb(209,229,240)"
            ],
            [
             0.7,
             "rgb(146,197,222)"
            ],
            [
             0.8,
             "rgb(67,147,195)"
            ],
            [
             0.9,
             "rgb(33,102,172)"
            ],
            [
             1,
             "rgb(5,48,97)"
            ]
           ],
           "sequential": [
            [
             0,
             "#440154"
            ],
            [
             0.1111111111111111,
             "#482878"
            ],
            [
             0.2222222222222222,
             "#3e4989"
            ],
            [
             0.3333333333333333,
             "#31688e"
            ],
            [
             0.4444444444444444,
             "#26828e"
            ],
            [
             0.5555555555555556,
             "#1f9e89"
            ],
            [
             0.6666666666666666,
             "#35b779"
            ],
            [
             0.7777777777777778,
             "#6ece58"
            ],
            [
             0.8888888888888888,
             "#b5de2b"
            ],
            [
             1,
             "#fde725"
            ]
           ],
           "sequentialminus": [
            [
             0,
             "#440154"
            ],
            [
             0.1111111111111111,
             "#482878"
            ],
            [
             0.2222222222222222,
             "#3e4989"
            ],
            [
             0.3333333333333333,
             "#31688e"
            ],
            [
             0.4444444444444444,
             "#26828e"
            ],
            [
             0.5555555555555556,
             "#1f9e89"
            ],
            [
             0.6666666666666666,
             "#35b779"
            ],
            [
             0.7777777777777778,
             "#6ece58"
            ],
            [
             0.8888888888888888,
             "#b5de2b"
            ],
            [
             1,
             "#fde725"
            ]
           ]
          },
          "colorway": [
           "#1F77B4",
           "#FF7F0E",
           "#2CA02C",
           "#D62728",
           "#9467BD",
           "#8C564B",
           "#E377C2",
           "#7F7F7F",
           "#BCBD22",
           "#17BECF"
          ],
          "font": {
           "color": "rgb(36,36,36)"
          },
          "geo": {
           "bgcolor": "white",
           "lakecolor": "white",
           "landcolor": "white",
           "showlakes": true,
           "showland": true,
           "subunitcolor": "white"
          },
          "hoverlabel": {
           "align": "left"
          },
          "hovermode": "closest",
          "mapbox": {
           "style": "light"
          },
          "paper_bgcolor": "white",
          "plot_bgcolor": "white",
          "polar": {
           "angularaxis": {
            "gridcolor": "rgb(232,232,232)",
            "linecolor": "rgb(36,36,36)",
            "showgrid": false,
            "showline": true,
            "ticks": "outside"
           },
           "bgcolor": "white",
           "radialaxis": {
            "gridcolor": "rgb(232,232,232)",
            "linecolor": "rgb(36,36,36)",
            "showgrid": false,
            "showline": true,
            "ticks": "outside"
           }
          },
          "scene": {
           "xaxis": {
            "backgroundcolor": "white",
            "gridcolor": "rgb(232,232,232)",
            "gridwidth": 2,
            "linecolor": "rgb(36,36,36)",
            "showbackground": true,
            "showgrid": false,
            "showline": true,
            "ticks": "outside",
            "zeroline": false,
            "zerolinecolor": "rgb(36,36,36)"
           },
           "yaxis": {
            "backgroundcolor": "white",
            "gridcolor": "rgb(232,232,232)",
            "gridwidth": 2,
            "linecolor": "rgb(36,36,36)",
            "showbackground": true,
            "showgrid": false,
            "showline": true,
            "ticks": "outside",
            "zeroline": false,
            "zerolinecolor": "rgb(36,36,36)"
           },
           "zaxis": {
            "backgroundcolor": "white",
            "gridcolor": "rgb(232,232,232)",
            "gridwidth": 2,
            "linecolor": "rgb(36,36,36)",
            "showbackground": true,
            "showgrid": false,
            "showline": true,
            "ticks": "outside",
            "zeroline": false,
            "zerolinecolor": "rgb(36,36,36)"
           }
          },
          "shapedefaults": {
           "fillcolor": "black",
           "line": {
            "width": 0
           },
           "opacity": 0.3
          },
          "ternary": {
           "aaxis": {
            "gridcolor": "rgb(232,232,232)",
            "linecolor": "rgb(36,36,36)",
            "showgrid": false,
            "showline": true,
            "ticks": "outside"
           },
           "baxis": {
            "gridcolor": "rgb(232,232,232)",
            "linecolor": "rgb(36,36,36)",
            "showgrid": false,
            "showline": true,
            "ticks": "outside"
           },
           "bgcolor": "white",
           "caxis": {
            "gridcolor": "rgb(232,232,232)",
            "linecolor": "rgb(36,36,36)",
            "showgrid": false,
            "showline": true,
            "ticks": "outside"
           }
          },
          "title": {
           "x": 0.05
          },
          "xaxis": {
           "automargin": true,
           "gridcolor": "rgb(232,232,232)",
           "linecolor": "rgb(36,36,36)",
           "showgrid": false,
           "showline": true,
           "ticks": "outside",
           "title": {
            "standoff": 15
           },
           "zeroline": false,
           "zerolinecolor": "rgb(36,36,36)"
          },
          "yaxis": {
           "automargin": true,
           "gridcolor": "rgb(232,232,232)",
           "linecolor": "rgb(36,36,36)",
           "showgrid": false,
           "showline": true,
           "ticks": "outside",
           "title": {
            "standoff": 15
           },
           "zeroline": false,
           "zerolinecolor": "rgb(36,36,36)"
          }
         }
        },
        "title": {
         "font": {
          "size": 16
         },
         "text": "Night-Time Population Within 30-Min Isochrone"
        },
        "xaxis": {
         "tickangle": -15,
         "title": {}
        },
        "yaxis": {
         "title": {
          "text": "Total Population"
         }
        }
       }
      }
     },
     "metadata": {},
     "output_type": "display_data"
    }
   ],
   "source": [
    "\n",
    "\n",
    "# Load data\n",
    "csv_path = \"/Users/riainfitzsimons/Desktop/brooklyn_museum_geo/outputs/isochrone_population_summary.csv\"\n",
    "df = pd.read_csv(csv_path)\n",
    "\n",
    "# Sort and clean\n",
    "df = df.sort_values(\"total_pop\", ascending=False).reset_index(drop=True)\n",
    "df['label'] = df['origin'].str.replace('_', ' ').str.title()\n",
    "\n",
    "# Create graduated alpha levels (opacity)\n",
    "num_bars = len(df)\n",
    "alphas = np.linspace(1.0, 0.5, num_bars)  # from opaque to semi-transparent\n",
    "\n",
    "# Baby blue RGBA\n",
    "colors = [f\"rgba(137, 207, 240, {alpha})\" for alpha in alphas]  # baby blue RGBA\n",
    "\n",
    "# Plot\n",
    "fig = go.Figure()\n",
    "fig.add_trace(go.Bar(\n",
    "    x=df[\"label\"],\n",
    "    y=df[\"total_pop\"],\n",
    "    text=df[\"total_pop\"],\n",
    "    textposition='outside',\n",
    "    marker_color=colors\n",
    "))\n",
    "\n",
    "# Styling\n",
    "fig.update_layout(\n",
    "    title=\"Night-Time Population Within 30-Min Isochrone\",\n",
    "    template=\"simple_white\",\n",
    "    title_font=dict(size=16),\n",
    "    showlegend=False,\n",
    "    xaxis_title=None,\n",
    "    yaxis_title=\"Total Population\",\n",
    "    xaxis_tickangle=-15,\n",
    "    margin=dict(t=60, b=40, l=40, r=40)\n",
    ")\n",
    "\n",
    "fig.show()\n"
   ]
  },
  {
   "cell_type": "code",
   "execution_count": 13,
   "metadata": {},
   "outputs": [
    {
     "data": {
      "application/vnd.plotly.v1+json": {
       "config": {
        "plotlyServerURL": "https://plot.ly"
       },
       "data": [
        {
         "hovertemplate": "%{y}<br>%{x:,.2f}<extra></extra>",
         "marker": {
          "color": "#2a9d8f"
         },
         "orientation": "h",
         "type": "bar",
         "x": {
          "bdata": "0NBMtKogkEAqTPyNUOWPQCNgsHWCVYFAl3ykFJNQgEByRt7l5QtlQA==",
          "dtype": "f8"
         },
         "xaxis": "x",
         "y": [
          "Museum Of Modern Art Nyc",
          "Art Institute Of Chicago",
          "National Portrait Gallery",
          "Museum Of Fine Arts Boston",
          "Baltimore Museum Of Art"
         ],
         "yaxis": "y"
        },
        {
         "hovertemplate": "%{y}<br>%{x:,.2f}<extra></extra>",
         "marker": {
          "color": "#e9c46a"
         },
         "orientation": "h",
         "type": "bar",
         "x": {
          "bdata": "sGFs0nfh0EDNx2NoCvbNQHm0K1yKU7xApzq1VC3SvEAacmRZ62WkQA==",
          "dtype": "f8"
         },
         "xaxis": "x2",
         "y": [
          "Museum Of Modern Art Nyc",
          "Art Institute Of Chicago",
          "National Portrait Gallery",
          "Museum Of Fine Arts Boston",
          "Baltimore Museum Of Art"
         ],
         "yaxis": "y2"
        },
        {
         "hovertemplate": "%{y}<br>%{x:,.2f}<extra></extra>",
         "marker": {
          "color": "#f4a261"
         },
         "orientation": "h",
         "type": "bar",
         "x": {
          "bdata": "d+5MDzwg1j+6ikZ8euHXP3+7edIECsU/g1zncv3nzT/Qpi/JsRC5Pw==",
          "dtype": "f8"
         },
         "xaxis": "x3",
         "y": [
          "Museum Of Modern Art Nyc",
          "Art Institute Of Chicago",
          "National Portrait Gallery",
          "Museum Of Fine Arts Boston",
          "Baltimore Museum Of Art"
         ],
         "yaxis": "y3"
        },
        {
         "hovertemplate": "%{y}<br>%{x:,.2f}<extra></extra>",
         "marker": {
          "color": "#264653"
         },
         "orientation": "h",
         "type": "bar",
         "x": {
          "bdata": "AAAAAAAA8D+ZmZmZmZnpP0jhehSuR+E/bz0K16Nw3T+WmZmZmZnJPw==",
          "dtype": "f8"
         },
         "xaxis": "x4",
         "y": [
          "Museum Of Modern Art Nyc",
          "Art Institute Of Chicago",
          "National Portrait Gallery",
          "Museum Of Fine Arts Boston",
          "Baltimore Museum Of Art"
         ],
         "yaxis": "y4"
        }
       ],
       "layout": {
        "annotations": [
         {
          "font": {
           "color": "#333",
           "size": 13
          },
          "showarrow": false,
          "text": "Attendance / 1 000 residents",
          "x": 0.22,
          "xanchor": "center",
          "xref": "paper",
          "y": 1,
          "yanchor": "bottom",
          "yref": "paper"
         },
         {
          "font": {
           "color": "#333",
           "size": 13
          },
          "showarrow": false,
          "text": "Gift‑store revenue / 1 000 residents (USD)",
          "x": 0.78,
          "xanchor": "center",
          "xref": "paper",
          "y": 1,
          "yanchor": "bottom",
          "yref": "paper"
         },
         {
          "font": {
           "color": "#333",
           "size": 13
          },
          "showarrow": false,
          "text": "Objects purchased / 1 000 residents",
          "x": 0.22,
          "xanchor": "center",
          "xref": "paper",
          "y": 0.435,
          "yanchor": "bottom",
          "yref": "paper"
         },
         {
          "font": {
           "color": "#333",
           "size": 13
          },
          "showarrow": false,
          "text": "Weighted composite score",
          "x": 0.78,
          "xanchor": "center",
          "xref": "paper",
          "y": 0.435,
          "yanchor": "bottom",
          "yref": "paper"
         }
        ],
        "font": {
         "family": "Helvetica Neue, sans-serif",
         "size": 12
        },
        "height": 620,
        "margin": {
         "b": 40,
         "l": 120,
         "r": 40,
         "t": 60
        },
        "showlegend": false,
        "template": {
         "data": {
          "bar": [
           {
            "error_x": {
             "color": "#2a3f5f"
            },
            "error_y": {
             "color": "#2a3f5f"
            },
            "marker": {
             "line": {
              "color": "white",
              "width": 0.5
             },
             "pattern": {
              "fillmode": "overlay",
              "size": 10,
              "solidity": 0.2
             }
            },
            "type": "bar"
           }
          ],
          "barpolar": [
           {
            "marker": {
             "line": {
              "color": "white",
              "width": 0.5
             },
             "pattern": {
              "fillmode": "overlay",
              "size": 10,
              "solidity": 0.2
             }
            },
            "type": "barpolar"
           }
          ],
          "carpet": [
           {
            "aaxis": {
             "endlinecolor": "#2a3f5f",
             "gridcolor": "#C8D4E3",
             "linecolor": "#C8D4E3",
             "minorgridcolor": "#C8D4E3",
             "startlinecolor": "#2a3f5f"
            },
            "baxis": {
             "endlinecolor": "#2a3f5f",
             "gridcolor": "#C8D4E3",
             "linecolor": "#C8D4E3",
             "minorgridcolor": "#C8D4E3",
             "startlinecolor": "#2a3f5f"
            },
            "type": "carpet"
           }
          ],
          "choropleth": [
           {
            "colorbar": {
             "outlinewidth": 0,
             "ticks": ""
            },
            "type": "choropleth"
           }
          ],
          "contour": [
           {
            "colorbar": {
             "outlinewidth": 0,
             "ticks": ""
            },
            "colorscale": [
             [
              0,
              "#0d0887"
             ],
             [
              0.1111111111111111,
              "#46039f"
             ],
             [
              0.2222222222222222,
              "#7201a8"
             ],
             [
              0.3333333333333333,
              "#9c179e"
             ],
             [
              0.4444444444444444,
              "#bd3786"
             ],
             [
              0.5555555555555556,
              "#d8576b"
             ],
             [
              0.6666666666666666,
              "#ed7953"
             ],
             [
              0.7777777777777778,
              "#fb9f3a"
             ],
             [
              0.8888888888888888,
              "#fdca26"
             ],
             [
              1,
              "#f0f921"
             ]
            ],
            "type": "contour"
           }
          ],
          "contourcarpet": [
           {
            "colorbar": {
             "outlinewidth": 0,
             "ticks": ""
            },
            "type": "contourcarpet"
           }
          ],
          "heatmap": [
           {
            "colorbar": {
             "outlinewidth": 0,
             "ticks": ""
            },
            "colorscale": [
             [
              0,
              "#0d0887"
             ],
             [
              0.1111111111111111,
              "#46039f"
             ],
             [
              0.2222222222222222,
              "#7201a8"
             ],
             [
              0.3333333333333333,
              "#9c179e"
             ],
             [
              0.4444444444444444,
              "#bd3786"
             ],
             [
              0.5555555555555556,
              "#d8576b"
             ],
             [
              0.6666666666666666,
              "#ed7953"
             ],
             [
              0.7777777777777778,
              "#fb9f3a"
             ],
             [
              0.8888888888888888,
              "#fdca26"
             ],
             [
              1,
              "#f0f921"
             ]
            ],
            "type": "heatmap"
           }
          ],
          "histogram": [
           {
            "marker": {
             "pattern": {
              "fillmode": "overlay",
              "size": 10,
              "solidity": 0.2
             }
            },
            "type": "histogram"
           }
          ],
          "histogram2d": [
           {
            "colorbar": {
             "outlinewidth": 0,
             "ticks": ""
            },
            "colorscale": [
             [
              0,
              "#0d0887"
             ],
             [
              0.1111111111111111,
              "#46039f"
             ],
             [
              0.2222222222222222,
              "#7201a8"
             ],
             [
              0.3333333333333333,
              "#9c179e"
             ],
             [
              0.4444444444444444,
              "#bd3786"
             ],
             [
              0.5555555555555556,
              "#d8576b"
             ],
             [
              0.6666666666666666,
              "#ed7953"
             ],
             [
              0.7777777777777778,
              "#fb9f3a"
             ],
             [
              0.8888888888888888,
              "#fdca26"
             ],
             [
              1,
              "#f0f921"
             ]
            ],
            "type": "histogram2d"
           }
          ],
          "histogram2dcontour": [
           {
            "colorbar": {
             "outlinewidth": 0,
             "ticks": ""
            },
            "colorscale": [
             [
              0,
              "#0d0887"
             ],
             [
              0.1111111111111111,
              "#46039f"
             ],
             [
              0.2222222222222222,
              "#7201a8"
             ],
             [
              0.3333333333333333,
              "#9c179e"
             ],
             [
              0.4444444444444444,
              "#bd3786"
             ],
             [
              0.5555555555555556,
              "#d8576b"
             ],
             [
              0.6666666666666666,
              "#ed7953"
             ],
             [
              0.7777777777777778,
              "#fb9f3a"
             ],
             [
              0.8888888888888888,
              "#fdca26"
             ],
             [
              1,
              "#f0f921"
             ]
            ],
            "type": "histogram2dcontour"
           }
          ],
          "mesh3d": [
           {
            "colorbar": {
             "outlinewidth": 0,
             "ticks": ""
            },
            "type": "mesh3d"
           }
          ],
          "parcoords": [
           {
            "line": {
             "colorbar": {
              "outlinewidth": 0,
              "ticks": ""
             }
            },
            "type": "parcoords"
           }
          ],
          "pie": [
           {
            "automargin": true,
            "type": "pie"
           }
          ],
          "scatter": [
           {
            "fillpattern": {
             "fillmode": "overlay",
             "size": 10,
             "solidity": 0.2
            },
            "type": "scatter"
           }
          ],
          "scatter3d": [
           {
            "line": {
             "colorbar": {
              "outlinewidth": 0,
              "ticks": ""
             }
            },
            "marker": {
             "colorbar": {
              "outlinewidth": 0,
              "ticks": ""
             }
            },
            "type": "scatter3d"
           }
          ],
          "scattercarpet": [
           {
            "marker": {
             "colorbar": {
              "outlinewidth": 0,
              "ticks": ""
             }
            },
            "type": "scattercarpet"
           }
          ],
          "scattergeo": [
           {
            "marker": {
             "colorbar": {
              "outlinewidth": 0,
              "ticks": ""
             }
            },
            "type": "scattergeo"
           }
          ],
          "scattergl": [
           {
            "marker": {
             "colorbar": {
              "outlinewidth": 0,
              "ticks": ""
             }
            },
            "type": "scattergl"
           }
          ],
          "scattermap": [
           {
            "marker": {
             "colorbar": {
              "outlinewidth": 0,
              "ticks": ""
             }
            },
            "type": "scattermap"
           }
          ],
          "scattermapbox": [
           {
            "marker": {
             "colorbar": {
              "outlinewidth": 0,
              "ticks": ""
             }
            },
            "type": "scattermapbox"
           }
          ],
          "scatterpolar": [
           {
            "marker": {
             "colorbar": {
              "outlinewidth": 0,
              "ticks": ""
             }
            },
            "type": "scatterpolar"
           }
          ],
          "scatterpolargl": [
           {
            "marker": {
             "colorbar": {
              "outlinewidth": 0,
              "ticks": ""
             }
            },
            "type": "scatterpolargl"
           }
          ],
          "scatterternary": [
           {
            "marker": {
             "colorbar": {
              "outlinewidth": 0,
              "ticks": ""
             }
            },
            "type": "scatterternary"
           }
          ],
          "surface": [
           {
            "colorbar": {
             "outlinewidth": 0,
             "ticks": ""
            },
            "colorscale": [
             [
              0,
              "#0d0887"
             ],
             [
              0.1111111111111111,
              "#46039f"
             ],
             [
              0.2222222222222222,
              "#7201a8"
             ],
             [
              0.3333333333333333,
              "#9c179e"
             ],
             [
              0.4444444444444444,
              "#bd3786"
             ],
             [
              0.5555555555555556,
              "#d8576b"
             ],
             [
              0.6666666666666666,
              "#ed7953"
             ],
             [
              0.7777777777777778,
              "#fb9f3a"
             ],
             [
              0.8888888888888888,
              "#fdca26"
             ],
             [
              1,
              "#f0f921"
             ]
            ],
            "type": "surface"
           }
          ],
          "table": [
           {
            "cells": {
             "fill": {
              "color": "#EBF0F8"
             },
             "line": {
              "color": "white"
             }
            },
            "header": {
             "fill": {
              "color": "#C8D4E3"
             },
             "line": {
              "color": "white"
             }
            },
            "type": "table"
           }
          ]
         },
         "layout": {
          "annotationdefaults": {
           "arrowcolor": "#2a3f5f",
           "arrowhead": 0,
           "arrowwidth": 1
          },
          "autotypenumbers": "strict",
          "coloraxis": {
           "colorbar": {
            "outlinewidth": 0,
            "ticks": ""
           }
          },
          "colorscale": {
           "diverging": [
            [
             0,
             "#8e0152"
            ],
            [
             0.1,
             "#c51b7d"
            ],
            [
             0.2,
             "#de77ae"
            ],
            [
             0.3,
             "#f1b6da"
            ],
            [
             0.4,
             "#fde0ef"
            ],
            [
             0.5,
             "#f7f7f7"
            ],
            [
             0.6,
             "#e6f5d0"
            ],
            [
             0.7,
             "#b8e186"
            ],
            [
             0.8,
             "#7fbc41"
            ],
            [
             0.9,
             "#4d9221"
            ],
            [
             1,
             "#276419"
            ]
           ],
           "sequential": [
            [
             0,
             "#0d0887"
            ],
            [
             0.1111111111111111,
             "#46039f"
            ],
            [
             0.2222222222222222,
             "#7201a8"
            ],
            [
             0.3333333333333333,
             "#9c179e"
            ],
            [
             0.4444444444444444,
             "#bd3786"
            ],
            [
             0.5555555555555556,
             "#d8576b"
            ],
            [
             0.6666666666666666,
             "#ed7953"
            ],
            [
             0.7777777777777778,
             "#fb9f3a"
            ],
            [
             0.8888888888888888,
             "#fdca26"
            ],
            [
             1,
             "#f0f921"
            ]
           ],
           "sequentialminus": [
            [
             0,
             "#0d0887"
            ],
            [
             0.1111111111111111,
             "#46039f"
            ],
            [
             0.2222222222222222,
             "#7201a8"
            ],
            [
             0.3333333333333333,
             "#9c179e"
            ],
            [
             0.4444444444444444,
             "#bd3786"
            ],
            [
             0.5555555555555556,
             "#d8576b"
            ],
            [
             0.6666666666666666,
             "#ed7953"
            ],
            [
             0.7777777777777778,
             "#fb9f3a"
            ],
            [
             0.8888888888888888,
             "#fdca26"
            ],
            [
             1,
             "#f0f921"
            ]
           ]
          },
          "colorway": [
           "#636efa",
           "#EF553B",
           "#00cc96",
           "#ab63fa",
           "#FFA15A",
           "#19d3f3",
           "#FF6692",
           "#B6E880",
           "#FF97FF",
           "#FECB52"
          ],
          "font": {
           "color": "#2a3f5f"
          },
          "geo": {
           "bgcolor": "white",
           "lakecolor": "white",
           "landcolor": "white",
           "showlakes": true,
           "showland": true,
           "subunitcolor": "#C8D4E3"
          },
          "hoverlabel": {
           "align": "left"
          },
          "hovermode": "closest",
          "mapbox": {
           "style": "light"
          },
          "paper_bgcolor": "white",
          "plot_bgcolor": "white",
          "polar": {
           "angularaxis": {
            "gridcolor": "#EBF0F8",
            "linecolor": "#EBF0F8",
            "ticks": ""
           },
           "bgcolor": "white",
           "radialaxis": {
            "gridcolor": "#EBF0F8",
            "linecolor": "#EBF0F8",
            "ticks": ""
           }
          },
          "scene": {
           "xaxis": {
            "backgroundcolor": "white",
            "gridcolor": "#DFE8F3",
            "gridwidth": 2,
            "linecolor": "#EBF0F8",
            "showbackground": true,
            "ticks": "",
            "zerolinecolor": "#EBF0F8"
           },
           "yaxis": {
            "backgroundcolor": "white",
            "gridcolor": "#DFE8F3",
            "gridwidth": 2,
            "linecolor": "#EBF0F8",
            "showbackground": true,
            "ticks": "",
            "zerolinecolor": "#EBF0F8"
           },
           "zaxis": {
            "backgroundcolor": "white",
            "gridcolor": "#DFE8F3",
            "gridwidth": 2,
            "linecolor": "#EBF0F8",
            "showbackground": true,
            "ticks": "",
            "zerolinecolor": "#EBF0F8"
           }
          },
          "shapedefaults": {
           "line": {
            "color": "#2a3f5f"
           }
          },
          "ternary": {
           "aaxis": {
            "gridcolor": "#DFE8F3",
            "linecolor": "#A2B1C6",
            "ticks": ""
           },
           "baxis": {
            "gridcolor": "#DFE8F3",
            "linecolor": "#A2B1C6",
            "ticks": ""
           },
           "bgcolor": "white",
           "caxis": {
            "gridcolor": "#DFE8F3",
            "linecolor": "#A2B1C6",
            "ticks": ""
           }
          },
          "title": {
           "x": 0.05
          },
          "xaxis": {
           "automargin": true,
           "gridcolor": "#EBF0F8",
           "linecolor": "#EBF0F8",
           "ticks": "",
           "title": {
            "standoff": 15
           },
           "zerolinecolor": "#EBF0F8",
           "zerolinewidth": 2
          },
          "yaxis": {
           "automargin": true,
           "gridcolor": "#EBF0F8",
           "linecolor": "#EBF0F8",
           "ticks": "",
           "title": {
            "standoff": 15
           },
           "zerolinecolor": "#EBF0F8",
           "zerolinewidth": 2
          }
         }
        },
        "xaxis": {
         "anchor": "y",
         "domain": [
          0,
          0.44
         ],
         "showgrid": false,
         "zeroline": false
        },
        "xaxis2": {
         "anchor": "y2",
         "domain": [
          0.56,
          1
         ],
         "showgrid": false,
         "zeroline": false
        },
        "xaxis3": {
         "anchor": "y3",
         "domain": [
          0,
          0.44
         ],
         "showgrid": false,
         "zeroline": false
        },
        "xaxis4": {
         "anchor": "y4",
         "domain": [
          0.56,
          1
         ],
         "showgrid": false,
         "zeroline": false
        },
        "yaxis": {
         "anchor": "x",
         "autorange": "reversed",
         "domain": [
          0.565,
          1
         ],
         "showgrid": false
        },
        "yaxis2": {
         "anchor": "x2",
         "autorange": "reversed",
         "domain": [
          0.565,
          1
         ],
         "matches": "y",
         "showgrid": false,
         "showticklabels": false
        },
        "yaxis3": {
         "anchor": "x3",
         "autorange": "reversed",
         "domain": [
          0,
          0.435
         ],
         "showgrid": false
        },
        "yaxis4": {
         "anchor": "x4",
         "autorange": "reversed",
         "domain": [
          0,
          0.435
         ],
         "matches": "y3",
         "showgrid": false,
         "showticklabels": false
        }
       }
      }
     },
     "metadata": {},
     "output_type": "display_data"
    }
   ],
   "source": [
    "# 1. Load data \n",
    "base = Path(\"/Users/riainfitzsimons/Desktop/brooklyn_museum_geo/outputs\")\n",
    "df = (\n",
    "    pd.read_csv(base / \"isochrone_normalised_metrics.csv\")\n",
    "      .merge(pd.read_csv(base / \"isochrone_weighted_rankings.csv\"), on=\"origin\")\n",
    "      .sort_values(\"rank_composite\")          # best → worst\n",
    "      .reset_index(drop=True)\n",
    ")\n",
    "\n",
    "# Friendly names for y‑axis labels\n",
    "df[\"label\"] = df[\"origin\"].str.replace(\"_\", \" \").str.title()\n",
    "\n",
    "# 2. Build 2×2 subplot grid \n",
    "fig = make_subplots(\n",
    "    rows=2, cols=2,\n",
    "    shared_yaxes=True,\n",
    "    horizontal_spacing=0.12,\n",
    "    vertical_spacing=0.13,\n",
    "    subplot_titles=(\n",
    "        \"Attendance / 1 000 residents\",\n",
    "        \"Gift‑store revenue / 1 000 residents (USD)\",\n",
    "        \"Objects purchased / 1 000 residents\",\n",
    "        \"Weighted composite score\"\n",
    "    )\n",
    ")\n",
    "\n",
    "# Helper to add a bar trace\n",
    "def add_bar(row, col, x, title, color):\n",
    "    fig.add_trace(\n",
    "        go.Bar(\n",
    "            x=df[x],\n",
    "            y=df[\"label\"],\n",
    "            orientation=\"h\",\n",
    "            marker_color=color,\n",
    "            hovertemplate=\"%{y}<br>%{x:,.2f}<extra></extra>\",\n",
    "        ),\n",
    "        row=row, col=col\n",
    "    )\n",
    "\n",
    "add_bar(1, 1, \"attendance_per_1k\",         \"Attendance / 1 000\",      \"#2a9d8f\")\n",
    "add_bar(1, 2, \"gift_revenue_per_1k\",       \"Revenue / 1 000\",         \"#e9c46a\")\n",
    "add_bar(2, 1, \"objects_purchased_per_1k\",  \"Objects / 1 000\",         \"#f4a261\")\n",
    "add_bar(2, 2, \"composite_score\",           \"Composite score\",         \"#264653\")\n",
    "\n",
    "# 3. Layout tweaks\n",
    "fig.update_layout(\n",
    "    template=\"plotly_white\",\n",
    "    height=620,\n",
    "    showlegend=False,\n",
    "    margin=dict(l=120, r=40, t=60, b=40),\n",
    "    font=dict(family=\"Helvetica Neue, sans-serif\", size=12),\n",
    ")\n",
    "\n",
    "# Title styling\n",
    "fig.update_annotations(font_size=13, font_color=\"#333\")\n",
    "\n",
    "# Axes styling\n",
    "for i in range(1, 5):\n",
    "    fig.update_xaxes(showgrid=False, zeroline=False, row=(i-1)//2+1, col=(i-1)%2+1)\n",
    "    fig.update_yaxes(autorange=\"reversed\", showgrid=False, row=(i-1)//2+1, col=(i-1)%2+1)\n",
    "\n",
    "fig.show()"
   ]
  }
 ],
 "metadata": {
  "kernelspec": {
   "display_name": "info615",
   "language": "python",
   "name": "python3"
  },
  "language_info": {
   "codemirror_mode": {
    "name": "ipython",
    "version": 3
   },
   "file_extension": ".py",
   "mimetype": "text/x-python",
   "name": "python",
   "nbconvert_exporter": "python",
   "pygments_lexer": "ipython3",
   "version": "3.13.1"
  }
 },
 "nbformat": 4,
 "nbformat_minor": 2
}
